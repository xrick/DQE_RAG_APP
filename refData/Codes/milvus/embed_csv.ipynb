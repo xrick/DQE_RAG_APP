{
 "cells": [
  {
   "cell_type": "markdown",
   "id": "40851a15-3f96-4218-82ca-867755a501f3",
   "metadata": {},
   "source": [
    "## Milvus使用範例"
   ]
  },
  {
   "cell_type": "code",
   "execution_count": 7,
   "id": "4093765e-ecb5-4638-934a-1620ba5d26d4",
   "metadata": {},
   "outputs": [],
   "source": [
    "# from pymilvus import model, MilvusClient, DataType, FieldSchema, CollectionSchema\n",
    "# import pandas as pd\n",
    "from pymilvus import model, MilvusClient, DataType, FieldSchema, CollectionSchema, connections\n",
    "import pandas as pd"
   ]
  },
  {
   "cell_type": "code",
   "execution_count": null,
   "id": "ca534383-045a-4332-8b4a-cedc5ca3f955",
   "metadata": {},
   "outputs": [],
   "source": []
  },
  {
   "cell_type": "code",
   "execution_count": 8,
   "id": "9c9098e2-f0b3-44ad-a876-0970233129d4",
   "metadata": {},
   "outputs": [],
   "source": [
    "# def init_embedding():\n",
    "#     # 初始化嵌入模型\n",
    "#     ef = model.DefaultEmbeddingFunction()  # 正確引用model內的方法\n",
    "#     client = MilvusClient(\"./milvus_data.db\")\n",
    "#     return ef, client"
   ]
  },
  {
   "cell_type": "code",
   "execution_count": 9,
   "id": "9a25d602-1c5f-4d89-bfe8-c9795d4da8ea",
   "metadata": {},
   "outputs": [],
   "source": [
    "'''\n",
    "to-do:\n",
    "    1.Adding whether dbName contain '.db' extension\n",
    "    2.Checking whether collectionName has exist.\n",
    "'''\n",
    "    # 初始化组件\n",
    "ef = model.DefaultEmbeddingFunction()  # 确保已安装 pymilvus[model]\n",
    "client = MilvusClient(\n",
    "    uri=\"http://localhost:19530\",\n",
    "    token=\"root:Milvus\"\n",
    ") \n",
    "\n"
   ]
  },
  {
   "cell_type": "code",
   "execution_count": 10,
   "id": "bc7dc65a-886c-472c-a09f-87052ca3a99e",
   "metadata": {},
   "outputs": [
    {
     "data": {
      "text/plain": [
       "['default', 'dqe_kb_db']"
      ]
     },
     "execution_count": 10,
     "metadata": {},
     "output_type": "execute_result"
    }
   ],
   "source": [
    "client.list_databases()"
   ]
  },
  {
   "cell_type": "code",
   "execution_count": 11,
   "id": "4af85692-95db-4287-9f3a-2472d4aa176d",
   "metadata": {},
   "outputs": [],
   "source": [
    "# client.create_database(\n",
    "#     db_name=\"dqe_kb_db\"\n",
    "# )"
   ]
  },
  {
   "cell_type": "code",
   "execution_count": 12,
   "id": "a7296cba-8c9c-472a-add8-17fbf0d5ece0",
   "metadata": {},
   "outputs": [],
   "source": [
    "_dbName=\"dqe_kb_db\"\n",
    "_collectionName='qualityQA'\n",
    "_collectionDesc=\"quailty_qa_collection\"\n",
    "_csv_src = \"../../../source_data/DQE_Issues/DQE_Issue_total_corrected_v1.csv\""
   ]
  },
  {
   "cell_type": "code",
   "execution_count": 28,
   "id": "fb02db5b-4599-4621-a3e9-4b45695a8139",
   "metadata": {},
   "outputs": [
    {
     "name": "stdout",
     "output_type": "stream",
     "text": [
      "ISO-8859-1\n"
     ]
    }
   ],
   "source": [
    "import chardet\n",
    "\n",
    "with open(_csv_src, 'rb') as f:\n",
    "    result = chardet.detect(f.read(10000))  # 讀取前 10000 bytes\n",
    "print(result['encoding'])"
   ]
  },
  {
   "cell_type": "code",
   "execution_count": 43,
   "id": "2e81c7ba-a2ea-486f-a53c-0102e1ccd6ad",
   "metadata": {},
   "outputs": [],
   "source": [
    "# def create_dqe_db(dbName:str=\"dqe_milvus_data.db\", collectionName:str=\"quality_issues\", fields:list=None):\n",
    "def create_dqe_collection(dbName:str=None, collectionName:str=None, collectionDesc:str=None, fieldList:list=None):\n",
    "    # 定义字段结构（关键修正点）\n",
    "    client.use_database(dbName)\n",
    "    fields = [\n",
    "        FieldSchema(name=\"pk\", dtype=DataType.INT64, is_primary=True, auto_id=True),\n",
    "        FieldSchema(name=\"problemtype\", dtype=DataType.VARCHAR, max_length=50),\n",
    "        FieldSchema(name=\"module\", dtype=DataType.VARCHAR, max_length=50),\n",
    "        FieldSchema(name=\"severity\", dtype=DataType.VARCHAR, max_length=1),\n",
    "        FieldSchema(name=\"description\", dtype=DataType.VARCHAR, max_length=2000),\n",
    "        FieldSchema(name=\"causeAnalysis\", dtype=DataType.VARCHAR, max_length=2000),\n",
    "        FieldSchema(name=\"improve\", dtype=DataType.VARCHAR, max_length=2000),\n",
    "        FieldSchema(name=\"experience\", dtype=DataType.VARCHAR, max_length=2000),\n",
    "        # FieldSchema(name=\"judge\", dtype=DataType.VARCHAR, max_length=2000),\n",
    "        # FieldSchema(name=\"score\", dtype=DataType.INT16),\n",
    "        FieldSchema(name=\"vector\", dtype=DataType.FLOAT_VECTOR, dim=ef.dim)\n",
    "    ]\n",
    "    \n",
    "    # 创建集合（新API规范）\n",
    "    # collection_name = \"quality_issues\"\n",
    "    if client.has_collection(collectionName):\n",
    "        client.drop_collection(collectionName)\n",
    "    \n",
    "    client.create_collection(\n",
    "        collection_name=collectionName,\n",
    "        schema=CollectionSchema(fields, description=collectionDesc),  # 单一路径传递schema\n",
    "        # 不再需要单独传递fields参数\n",
    "    )\n",
    "    print(f\"collection created:\\n DB:{dbName}\\ncollection name:{collectionName}\");\n"
   ]
  },
  {
   "cell_type": "code",
   "execution_count": 46,
   "id": "7e9dcbc2-1c34-4cd7-a3c0-e713e6bae526",
   "metadata": {},
   "outputs": [],
   "source": [
    "# create_dqe_collection(dbName=_dbName, collectionName=_collectionName, collectionDesc=_collectionDesc)\n",
    "# client.use_database(db_name=_dbName)"
   ]
  },
  {
   "cell_type": "markdown",
   "id": "9bf1ded8-c6f0-4a69-ba33-227fed251b25",
   "metadata": {},
   "source": [
    "#### delete collection"
   ]
  },
  {
   "cell_type": "code",
   "execution_count": 47,
   "id": "d41e47f8-7fce-4aec-98cc-0203c0ee23cb",
   "metadata": {},
   "outputs": [],
   "source": [
    "# def drop_collection(dbName:str=None, collectionName:str=None):\n",
    "#     # client.use_database(db_name=dbName)\n",
    "#     print(collectionName)\n",
    "#     client.list_collections()\n",
    "#     client.drop_collection(\n",
    "#         collection_name=collectionName\n",
    "#     )"
   ]
  },
  {
   "cell_type": "code",
   "execution_count": 10,
   "id": "7217df7d-b2ff-4c5e-9355-7d885a46f5a7",
   "metadata": {},
   "outputs": [],
   "source": [
    "# drop_collection(dbName=_dbName, collectionName=_collectionName)"
   ]
  },
  {
   "cell_type": "code",
   "execution_count": 16,
   "id": "eb698852-9488-4993-89a2-7bc3f914ed3c",
   "metadata": {},
   "outputs": [],
   "source": [
    "# def create_index(dbName:str=None, collectionName:str=None, paramDict:dict=None):\n",
    "#     # 索引創建參數\n",
    "#     # client.use_database(db_name=dbName)\n",
    "#     # client.load_collection(collection_name=collectionName)\n",
    "#     index_params = client.prepare_index_params()\n",
    "#     index_params.add_index(\n",
    "#         field_name=\"vector\", # use paramDict[\"field_name\"]\n",
    "#         index_type=\"IVF_FLAT\", # use paramDict[\"index_type\"]\n",
    "#         metric_type=\"COSINE\", # use paramDict[\"metric_type\"]\n",
    "#         params={\"nlist\": 256}  # 典型值 128-4096 #use paramDict[\"params\"]\n",
    "#     )\n",
    "#     # 搜索參數對應關係\n",
    "#     search_params = {\n",
    "#         \"nprobe\": 32  # 值範圍 [1, nlist] #use paramDict[\"search_params\"]\n",
    "#     }"
   ]
  },
  {
   "cell_type": "code",
   "execution_count": 12,
   "id": "b5fccb69-121b-465f-8de6-2cb28cd7bb7e",
   "metadata": {},
   "outputs": [],
   "source": [
    "# create_index(dbName=_dbName, collectionName=_collectionName)"
   ]
  },
  {
   "cell_type": "code",
   "execution_count": 17,
   "id": "b79428b2-4b77-4407-a795-3b23b68c0548",
   "metadata": {},
   "outputs": [],
   "source": [
    "# client.list_collections()"
   ]
  },
  {
   "cell_type": "markdown",
   "id": "eb549080-059d-428d-9177-da55088ac065",
   "metadata": {},
   "source": [
    "#### 建立資料"
   ]
  },
  {
   "cell_type": "code",
   "execution_count": 48,
   "id": "65cf249c-d456-4c94-a086-4c93467b3553",
   "metadata": {},
   "outputs": [],
   "source": [
    "def insert_items(csv_file:str=None, dbName:str=None, collectionName:str=None):\n",
    "    # 数据插入示例\n",
    "    client.use_database(db_name=dbName)\n",
    "    df = pd.read_csv(csv_file,encoding='utf-8')\n",
    "    # print(df.head())\n",
    "    fill_df = df.fillna(0)\n",
    "    data = [{\n",
    "        \"problemtype\":row[\"问题来源\"],\n",
    "        \"module\": row[\"模块\"],\n",
    "        \"severity\": str(row[\"严重度\"]),\n",
    "        \"description\": row[\"问题现象描述\"],\n",
    "        \"causeAnalysis\": str(row[\"原因分析\"]),\n",
    "        \"improve\": row[\"改善对策\"],\n",
    "        \"experience\": str(row[\"经验萃取\"]),\n",
    "        # \"judge\": row[\"评审后优化\"],\n",
    "        # \"score\": int(row[\"评分\"]),\n",
    "        \"vector\": ef.encode_documents([row[\"问题来源\"],row[\"模块\"],row[\"问题现象描述\"]])[0]\n",
    "    } for _, row in fill_df.iterrows()]\n",
    "    # print(data)\n",
    "    client.insert(collectionName, data)\n",
    "    \n",
    "    print(f\"成功插入 {len(df)} 条数据，向量维度={ef.dim}\")"
   ]
  },
  {
   "cell_type": "code",
   "execution_count": 50,
   "id": "28a6876d-f4c9-4813-9d0e-631cd42448cb",
   "metadata": {},
   "outputs": [],
   "source": [
    "# insert_items(csv_file=_csv_src, dbName=_dbName, collectionName=_collectionName)\n",
    "##成功插入 108 条数据，向量维度=768"
   ]
  },
  {
   "cell_type": "markdown",
   "id": "a20d7806-655e-4d8a-b31a-9bcfadde60f0",
   "metadata": {},
   "source": [
    "#### 建立index"
   ]
  },
  {
   "cell_type": "code",
   "execution_count": 51,
   "id": "c4346340-47f7-466a-9bbd-ef78a750ef49",
   "metadata": {},
   "outputs": [],
   "source": [
    "def create_index(dbName:str=None, collectionName:str=None):\n",
    "    print(f\"db name:{dbName}\\ncollection name:{collectionName}\")\n",
    "    client.use_database(db_name=dbName)\n",
    "    index_params = client.prepare_index_params()\n",
    "    index_params.add_index(\n",
    "        field_name=\"vector\",\n",
    "        index_type=\"IVF_FLAT\",  # 改用支持的类型\n",
    "        metric_type=\"COSINE\",\n",
    "        params={\"nlist\": 128}  # 典型参数配置\n",
    "    )\n",
    "    \n",
    "    # 创建索引\n",
    "    client.create_index(\n",
    "        collection_name=collectionName,\n",
    "        index_params=index_params\n",
    "    )"
   ]
  },
  {
   "cell_type": "code",
   "execution_count": 52,
   "id": "9fb4833a-3216-42c5-9723-540c25bc6880",
   "metadata": {},
   "outputs": [
    {
     "name": "stdout",
     "output_type": "stream",
     "text": [
      "db name:dqe_kb_db\n",
      "collection name:qualityQA\n"
     ]
    }
   ],
   "source": [
    "create_index(dbName=_dbName, collectionName=_collectionName)"
   ]
  },
  {
   "cell_type": "markdown",
   "id": "23d0e47d-b608-43ab-b659-46d9884aa87a",
   "metadata": {},
   "source": [
    "#### Test Codes"
   ]
  },
  {
   "cell_type": "markdown",
   "id": "b5b0f235-10a0-4a70-9f79-4f7d85d7303f",
   "metadata": {},
   "source": [
    "#### loading db and collection"
   ]
  },
  {
   "cell_type": "code",
   "execution_count": null,
   "id": "8fe2a4f8-6562-493c-aedf-975403d890a3",
   "metadata": {},
   "outputs": [],
   "source": []
  },
  {
   "cell_type": "code",
   "execution_count": 19,
   "id": "4650e46c-52ef-45e8-a4d9-1ce229e1b7d0",
   "metadata": {},
   "outputs": [],
   "source": [
    "df = pd.read_csv(_csv_src)"
   ]
  },
  {
   "cell_type": "code",
   "execution_count": 21,
   "id": "13d4e276-9b09-42b6-81d6-6cde02298a5c",
   "metadata": {},
   "outputs": [
    {
     "name": "stdout",
     "output_type": "stream",
     "text": [
      "True\n"
     ]
    }
   ],
   "source": [
    "def test_basic_operations():\n",
    "    # 连接验证\n",
    "    client.use_database(db_name=_dbName)\n",
    "    client.load_collection(_collectionName)\n",
    "    assert client.has_collection(_collectionName), \"集合创建失败\"\n",
    "    print(client.has_collection(_collectionName))\n",
    "    \n",
    "    # 数据量验证\n",
    "    count = client.query(_collectionName, filter=\"\", output_fields=[\"count(*)\"])[0][\"count(*)\"]\n",
    "    assert count == len(df), f\"数据量不符 ({count} vs {len(df)})\"\n",
    "    \n",
    "    # 向量维度验证\n",
    "    collection_info = client.describe_collection(_collectionName)\n",
    "    \n",
    "    # assert collection_info[\"vector_field\"][\"dim\"] == ef.dim, \"向量维度错误\"\n",
    "    vector_fields = [f for f in collection_info['fields'] if f['type'] == DataType.FLOAT_VECTOR]\n",
    "    assert len(vector_fields) > 0, \"未找到向量字段\"\n",
    "    assert vector_fields[0]['params']['dim'] == ef.dim, \"向量維度錯誤\"\n",
    "    \n",
    "    # 随机抽样验证\n",
    "    sample = client.query(_collectionName, filter=\"pk < 5\", output_fields=[\"*\"])\n",
    "    for item in sample:\n",
    "        assert len(item[\"vector\"]) == ef.dim, \"向量长度异常\"\n",
    "        assert item[\"description\"], \"描述字段为空\"\n",
    "\n",
    "test_basic_operations()\n"
   ]
  },
  {
   "cell_type": "markdown",
   "id": "286130d8-355f-4a87-95fe-408a45e78224",
   "metadata": {},
   "source": [
    "#### Test different searches"
   ]
  },
  {
   "cell_type": "code",
   "execution_count": 25,
   "id": "e042faa7-4281-4ff0-ad73-737bda834df6",
   "metadata": {},
   "outputs": [
    {
     "name": "stdout",
     "output_type": "stream",
     "text": [
      "{'nlist': '128', 'index_type': 'IVF_FLAT', 'metric_type': 'COSINE', 'field_name': 'vector', 'index_name': 'vector', 'total_rows': 0, 'indexed_rows': 0, 'pending_index_rows': 0, 'state': 'Finished'}\n",
      "results:searched rows:3\n",
      "data: [\"[{'pk': 457271718883363561, 'distance': 0.6660386323928833, 'entity': {}}, {'pk': 457271718883363547, 'distance': 0.35495442152023315, 'entity': {}}, {'pk': 457271718883363540, 'distance': 0.34422993659973145, 'entity': {}}]\"]\n"
     ]
    }
   ],
   "source": [
    "def test_hybrid_search_1():\n",
    "    client.use_database(db_name=_dbName)\n",
    "    client.load_collection(_collectionName)\n",
    "    index_info = client.describe_index(_collectionName, \"vector\")\n",
    "    print(index_info)\n",
    "    assert index_info[\"index_type\"] == \"IVF_FLAT\"\n",
    "    # assert index_info[\"nlist\"] == 256\n",
    "    assert int(index_info[\"nlist\"]) == 128\n",
    "    \n",
    "    # 執行混合查詢\n",
    "    query = \"电池鼓包问题\"\n",
    "    query_vec = ef.encode_documents([query])[0]\n",
    "    results = client.search(\n",
    "        collection_name=_collectionName,\n",
    "        data=[query_vec],\n",
    "        filter=\"severity == 'B'\",\n",
    "        # limit=3,\n",
    "        search_params={\"nprobe\":32}\n",
    "    )\n",
    "    # 精度驗證\n",
    "    print(f\"results:searched rows:{len(results[0])}\\n{results}\")\n",
    "    distances = [hit['distance'] for hit in results[0]]\n",
    "    # assert max(distances) > 0.7  # 根據實際數據調整閾值\n",
    "\n",
    "test_hybrid_search_1()"
   ]
  },
  {
   "cell_type": "code",
   "execution_count": 30,
   "id": "ced3df9c-3a70-42a5-95e0-3397689797fa",
   "metadata": {},
   "outputs": [
    {
     "name": "stdout",
     "output_type": "stream",
     "text": [
      "标量查询延迟: 0.0019s\n"
     ]
    },
    {
     "ename": "AttributeError",
     "evalue": "'OnnxEmbeddingFunction' object has no attribute 'random_vector'",
     "output_type": "error",
     "traceback": [
      "\u001b[0;31m---------------------------------------------------------------------------\u001b[0m",
      "\u001b[0;31mAttributeError\u001b[0m                            Traceback (most recent call last)",
      "Cell \u001b[0;32mIn[30], line 15\u001b[0m\n\u001b[1;32m     12\u001b[0m     client\u001b[38;5;241m.\u001b[39msearch(collection_name, data\u001b[38;5;241m=\u001b[39mtest_vectors, limit\u001b[38;5;241m=\u001b[39m\u001b[38;5;241m3\u001b[39m)\n\u001b[1;32m     13\u001b[0m     \u001b[38;5;28mprint\u001b[39m(\u001b[38;5;124mf\u001b[39m\u001b[38;5;124m\"\u001b[39m\u001b[38;5;124m批量向量搜索延迟: \u001b[39m\u001b[38;5;132;01m{\u001b[39;00mtime\u001b[38;5;241m.\u001b[39mtime()\u001b[38;5;241m-\u001b[39mstart\u001b[38;5;132;01m:\u001b[39;00m\u001b[38;5;124m.4f\u001b[39m\u001b[38;5;132;01m}\u001b[39;00m\u001b[38;5;124ms\u001b[39m\u001b[38;5;124m\"\u001b[39m)\n\u001b[0;32m---> 15\u001b[0m \u001b[43mtest_performance\u001b[49m\u001b[43m(\u001b[49m\u001b[43m)\u001b[49m\n",
      "Cell \u001b[0;32mIn[30], line 10\u001b[0m, in \u001b[0;36mtest_performance\u001b[0;34m()\u001b[0m\n\u001b[1;32m      7\u001b[0m \u001b[38;5;28mprint\u001b[39m(\u001b[38;5;124mf\u001b[39m\u001b[38;5;124m\"\u001b[39m\u001b[38;5;124m标量查询延迟: \u001b[39m\u001b[38;5;132;01m{\u001b[39;00mtime\u001b[38;5;241m.\u001b[39mtime()\u001b[38;5;241m-\u001b[39mstart\u001b[38;5;132;01m:\u001b[39;00m\u001b[38;5;124m.4f\u001b[39m\u001b[38;5;132;01m}\u001b[39;00m\u001b[38;5;124ms\u001b[39m\u001b[38;5;124m\"\u001b[39m)\n\u001b[1;32m      9\u001b[0m \u001b[38;5;66;03m# 向量搜索压力测试\u001b[39;00m\n\u001b[0;32m---> 10\u001b[0m test_vectors \u001b[38;5;241m=\u001b[39m \u001b[43m[\u001b[49m\u001b[43mef\u001b[49m\u001b[38;5;241;43m.\u001b[39;49m\u001b[43mrandom_vector\u001b[49m\u001b[43m(\u001b[49m\u001b[43mef\u001b[49m\u001b[38;5;241;43m.\u001b[39;49m\u001b[43mdim\u001b[49m\u001b[43m)\u001b[49m\u001b[43m \u001b[49m\u001b[38;5;28;43;01mfor\u001b[39;49;00m\u001b[43m \u001b[49m\u001b[43m_\u001b[49m\u001b[43m \u001b[49m\u001b[38;5;129;43;01min\u001b[39;49;00m\u001b[43m \u001b[49m\u001b[38;5;28;43mrange\u001b[39;49m\u001b[43m(\u001b[49m\u001b[38;5;241;43m100\u001b[39;49m\u001b[43m)\u001b[49m\u001b[43m]\u001b[49m\n\u001b[1;32m     11\u001b[0m start \u001b[38;5;241m=\u001b[39m time\u001b[38;5;241m.\u001b[39mtime()\n\u001b[1;32m     12\u001b[0m client\u001b[38;5;241m.\u001b[39msearch(collection_name, data\u001b[38;5;241m=\u001b[39mtest_vectors, limit\u001b[38;5;241m=\u001b[39m\u001b[38;5;241m3\u001b[39m)\n",
      "Cell \u001b[0;32mIn[30], line 10\u001b[0m, in \u001b[0;36m<listcomp>\u001b[0;34m(.0)\u001b[0m\n\u001b[1;32m      7\u001b[0m \u001b[38;5;28mprint\u001b[39m(\u001b[38;5;124mf\u001b[39m\u001b[38;5;124m\"\u001b[39m\u001b[38;5;124m标量查询延迟: \u001b[39m\u001b[38;5;132;01m{\u001b[39;00mtime\u001b[38;5;241m.\u001b[39mtime()\u001b[38;5;241m-\u001b[39mstart\u001b[38;5;132;01m:\u001b[39;00m\u001b[38;5;124m.4f\u001b[39m\u001b[38;5;132;01m}\u001b[39;00m\u001b[38;5;124ms\u001b[39m\u001b[38;5;124m\"\u001b[39m)\n\u001b[1;32m      9\u001b[0m \u001b[38;5;66;03m# 向量搜索压力测试\u001b[39;00m\n\u001b[0;32m---> 10\u001b[0m test_vectors \u001b[38;5;241m=\u001b[39m [\u001b[43mef\u001b[49m\u001b[38;5;241;43m.\u001b[39;49m\u001b[43mrandom_vector\u001b[49m(ef\u001b[38;5;241m.\u001b[39mdim) \u001b[38;5;28;01mfor\u001b[39;00m _ \u001b[38;5;129;01min\u001b[39;00m \u001b[38;5;28mrange\u001b[39m(\u001b[38;5;241m100\u001b[39m)]\n\u001b[1;32m     11\u001b[0m start \u001b[38;5;241m=\u001b[39m time\u001b[38;5;241m.\u001b[39mtime()\n\u001b[1;32m     12\u001b[0m client\u001b[38;5;241m.\u001b[39msearch(collection_name, data\u001b[38;5;241m=\u001b[39mtest_vectors, limit\u001b[38;5;241m=\u001b[39m\u001b[38;5;241m3\u001b[39m)\n",
      "\u001b[0;31mAttributeError\u001b[0m: 'OnnxEmbeddingFunction' object has no attribute 'random_vector'"
     ]
    }
   ],
   "source": [
    "import time\n",
    "\n",
    "def test_performance():\n",
    "    # 查询延迟测试\n",
    "    start = time.time()\n",
    "    client.query(collection_name, filter=\"pk < 100\", limit=100)\n",
    "    print(f\"标量查询延迟: {time.time()-start:.4f}s\")\n",
    "\n",
    "    # 向量搜索压力测试\n",
    "    test_vectors = [ef.random_vector(ef.dim) for _ in range(100)]\n",
    "    start = time.time()\n",
    "    client.search(collection_name, data=test_vectors, limit=3)\n",
    "    print(f\"批量向量搜索延迟: {time.time()-start:.4f}s\")\n",
    "\n",
    "test_performance()"
   ]
  },
  {
   "cell_type": "code",
   "execution_count": null,
   "id": "5b8f6940-4348-419a-a1b4-bc6112ade04a",
   "metadata": {},
   "outputs": [],
   "source": []
  }
 ],
 "metadata": {
  "kernelspec": {
   "display_name": "Python 3 (ipykernel)",
   "language": "python",
   "name": "python3"
  },
  "language_info": {
   "codemirror_mode": {
    "name": "ipython",
    "version": 3
   },
   "file_extension": ".py",
   "mimetype": "text/x-python",
   "name": "python",
   "nbconvert_exporter": "python",
   "pygments_lexer": "ipython3",
   "version": "3.11.11"
  }
 },
 "nbformat": 4,
 "nbformat_minor": 5
}
