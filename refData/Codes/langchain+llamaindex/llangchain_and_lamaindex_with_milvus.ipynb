{
 "cells": [
  {
   "cell_type": "code",
   "execution_count": 1,
   "id": "829fa224-6f53-4169-a90b-bc946755051d",
   "metadata": {},
   "outputs": [],
   "source": [
    "import os\n",
    "import numpy as np"
   ]
  },
  {
   "cell_type": "code",
   "execution_count": 2,
   "id": "af3770ee-821a-4605-a962-77e3c2a183c1",
   "metadata": {},
   "outputs": [],
   "source": [
    "import os\n",
    "from llama_index.core import VectorStoreIndex, SimpleDirectoryReader, Settings, StorageContext\n",
    "from llama_index.vector_stores.milvus import MilvusVectorStore\n",
    "from llama_index.embeddings.huggingface import HuggingFaceEmbedding\n",
    "from pymilvus import connections, utility"
   ]
  },
  {
   "cell_type": "code",
   "execution_count": 3,
   "id": "0938d248-452f-42fc-a495-80b405b62908",
   "metadata": {},
   "outputs": [],
   "source": [
    "from langchain.agents import Tool, initialize_agent\n",
    "# from langchain_community.chat_models import ChatOllama\n",
    "from langchain_ollama import OllamaLLM, ChatOllama\n",
    "from llama_index.llms.ollama import Ollama\n",
    "from pymilvus import CollectionSchema, FieldSchema, DataType, Collection"
   ]
  },
  {
   "cell_type": "code",
   "execution_count": 4,
   "id": "f9c8a7ae-5fda-4d76-b55d-07872ce6ef90",
   "metadata": {},
   "outputs": [],
   "source": [
    "# from llama_index.readers.file import PDFReader  # 重要修正点\n",
    "# from pdfminer import text_encoding\n",
    "from llama_index.readers.file import PyMuPDFReader\n",
    "from time import time"
   ]
  },
  {
   "cell_type": "code",
   "execution_count": 5,
   "id": "16be56e8-326c-42e1-8031-00a217cf8d6b",
   "metadata": {},
   "outputs": [],
   "source": [
    "def iniDeepSeek():\n",
    "    model: str = \"deepseek-r1:7b\",\n",
    "    base_url: str = \"http://localhost:11434\"\n",
    "    return OllamaLLM(\n",
    "                model=model,\n",
    "                base_url=base_url,\n",
    "                streaming=False)"
   ]
  },
  {
   "cell_type": "markdown",
   "id": "36887430-f30d-4067-a021-a402eab2b3fb",
   "metadata": {},
   "source": [
    "#### version 2\n",
    "- 集合存在时加载，不存在时创建"
   ]
  },
  {
   "cell_type": "code",
   "execution_count": 6,
   "id": "aa66391f-10f0-4656-99cf-c2a436571c1f",
   "metadata": {},
   "outputs": [],
   "source": [
    "# 配置 Milvus 本地連接\n",
    "connections.connect(\"default\", host=\"localhost\", port=\"19530\")"
   ]
  },
  {
   "cell_type": "code",
   "execution_count": 7,
   "id": "444580f7-8b8b-491d-a8dc-668c63d80303",
   "metadata": {},
   "outputs": [],
   "source": [
    "# 全局設定本地 LLM 模型 (重要修正點)\n",
    "Settings.llm = Ollama(model=\"deepseek-r1:7b\", temperature=0.2)\n",
    "Settings.embed_model = HuggingFaceEmbedding(\n",
    "    model_name=\"shibing624/text2vec-base-chinese\",\n",
    "    cache_folder=\"../../../../../Embedding_Models/\",\n",
    "    embed_batch_size=32,\n",
    "    device=\"cpu\"\n",
    ")"
   ]
  },
  {
   "cell_type": "code",
   "execution_count": 8,
   "id": "cfa579e9-e897-49e1-8f3f-648b90c4a0ad",
   "metadata": {},
   "outputs": [],
   "source": [
    "def load_law_pdfs(pdf_dir: str):\n",
    "    \"\"\"强化版法律 PDF 加载器\"\"\"\n",
    "    # 初始化 PDF 解析器\n",
    "    pdf_parser = PyMuPDFReader()\n",
    "    \n",
    "    # 配置文件读取器\n",
    "    law_reader = SimpleDirectoryReader(\n",
    "        input_dir=pdf_dir,\n",
    "        file_extractor={\n",
    "            \".pdf\": pdf_parser  # 正确使用解析器实例\n",
    "        },\n",
    "        required_exts=[\".pdf\"],\n",
    "        exclude_hidden=True,\n",
    "        filename_as_id=True  # 重要参数\n",
    "    )\n",
    "    \n",
    "    try:\n",
    "        # 尝试标准解析\n",
    "        return law_reader.load_data()\n",
    "    except Exception as e:\n",
    "        print(f\"标准解析失败 ({str(e)}), 启用备援模式...\")\n",
    "        # 备援文本提取流程\n",
    "        return backup_pdf_loader(pdf_dir)\n",
    "\n",
    "def backup_pdf_loader(pdf_dir: str):\n",
    "    \"\"\"备援 PDF 文本提取方案\"\"\"\n",
    "    from PyPDF2 import PdfReader\n",
    "    import os\n",
    "    \n",
    "    documents = []\n",
    "    for filename in os.listdir(pdf_dir):\n",
    "        if filename.endswith(\".pdf\"):\n",
    "            filepath = os.path.join(pdf_dir, filename)\n",
    "            try:\n",
    "                with open(filepath, \"rb\") as f:\n",
    "                    pdf = PdfReader(f)\n",
    "                    text = \"\"\n",
    "                    for page in pdf.pages:\n",
    "                        text += page.extract_text() + \"\\n\"\n",
    "                    # 使用低阶 API 创建文档\n",
    "                    doc = StringIterableReader(text).load_data()[0]\n",
    "                    doc.metadata = {\n",
    "                        \"file_name\": filename,\n",
    "                        \"file_type\": \"application/pdf\"\n",
    "                    }\n",
    "                    documents.append(doc)\n",
    "            except Exception as e:\n",
    "                print(f\"文件 {filename} 处理失败: {str(e)}\")\n",
    "    return documents\n",
    "\n",
    "# 在 RAG 流程中使用\n",
    "legal_docs = load_law_pdfs(\"../../../misc/law/\")"
   ]
  },
  {
   "cell_type": "code",
   "execution_count": 9,
   "id": "7913ee1f-2039-44fc-917a-6a5950cc65c1",
   "metadata": {},
   "outputs": [],
   "source": [
    "# 新增功能：检查集合存在性并智能加载\n",
    "def get_milvus_store(collection_name: str) -> MilvusVectorStore:\n",
    "    \"\"\"智能获取 Milvus 存储实例\"\"\"\n",
    "    # 检查集合是否存在\n",
    "    if utility.has_collection(collection_name):\n",
    "        collection = Collection(collection_name)\n",
    "        collection.load()  # 重要：显式加载集合\n",
    "        print(f\"集合 {collection_name} 已存在，直接加载\")\n",
    "        # 检查是否为空\n",
    "        if collection.num_entities > 0:\n",
    "            print(f\"集合包含 {collection.num_entities} 条数据\")\n",
    "        else:\n",
    "            print(\"集合存在但为空\")\n",
    "            \n",
    "        return MilvusVectorStore(\n",
    "            uri=\"http://localhost:19530\",\n",
    "            collection_name=collection_name,\n",
    "            dim=768,\n",
    "            overwrite=False\n",
    "        )\n",
    "    else:\n",
    "        print(f\"创建新集合 {collection_name}\")\n",
    "        return MilvusVectorStore(\n",
    "            uri=\"http://localhost:19530\",\n",
    "            collection_name=collection_name,\n",
    "            dim=768,\n",
    "            overwrite=True,\n",
    "            index_config={\n",
    "                \"metric_type\": \"L2\",\n",
    "                \"index_type\": \"IVF_FLAT\",\n",
    "                \"params\": {\"nlist\": 1024}\n",
    "            }\n",
    "        )\n",
    "\n",
    "def build_milvus_rag(pdf_dir: str, collection_name: str = \"taiwan_law\"):\n",
    "    \"\"\"增强版 RAG 建置流程\"\"\"\n",
    "    # 初始化存储\n",
    "    vector_store = get_milvus_store(collection_name)\n",
    "    storage_context = StorageContext.from_defaults(vector_store=vector_store)\n",
    "    \n",
    "    # 通过 Milvus API 检查数据量\n",
    "    collection = Collection(collection_name)\n",
    "    \"\"\"强化版法律PDF加载器\"\"\"\n",
    "        \n",
    "    if collection.is_empty:\n",
    "        print(\"集合为空，开始处理新文件...\")\n",
    "        # 处理新文件\n",
    "        # 初始化并配置PDF解析器\n",
    "        pdf_parser = PyMuPDFReader()\n",
    "        legal_reader = SimpleDirectoryReader(\n",
    "            input_dir=pdf_dir,\n",
    "            file_extractor={\".pdf\": pdf_parser},\n",
    "            required_exts=[\".pdf\"],\n",
    "            filename_as_id=True,  # 自动生成文档ID\n",
    "            file_metadata=lambda x: {\"source\": os.path.basename(x)}  # 保留文件名\n",
    "        )\n",
    "        # legal_docs = legal_reader.load_data()\n",
    "        # 加载并处理文件\n",
    "        try:\n",
    "            legal_docs = legal_reader.load_data()\n",
    "            print(f\"成功加载 {len(legal_docs)} 份法律文件\")\n",
    "        except Exception as e:\n",
    "            print(f\"文件加载失败: {str(e)}\")\n",
    "            raise\n",
    "        \n",
    "        # 建立索引\n",
    "        legal_index = VectorStoreIndex.from_documents(\n",
    "            documents=legal_docs,\n",
    "            storage_context=storage_context,\n",
    "            show_progress=True\n",
    "        )\n",
    "        \n",
    "        # 持久化元数据\n",
    "        storage_context.persist(persist_dir=f\"./storage/{collection_name}\")\n",
    "    else:\n",
    "        print(f\"检测到现有数据 ({collection.num_entities} 条)，跳过文件处理\")\n",
    "        legal_index = VectorStoreIndex.from_vector_store(\n",
    "            vector_store=vector_store,\n",
    "            storage_context=storage_context\n",
    "        )\n",
    "    \n",
    "    return legal_index.as_query_engine(similarity_top_k=3, llm=Settings.llm)\n"
   ]
  },
  {
   "cell_type": "code",
   "execution_count": 10,
   "id": "2c10cc30-058d-4f98-90a0-36e53ac7a3e2",
   "metadata": {},
   "outputs": [],
   "source": [
    "def run():\n",
    "    # 初始化 RAG 系統\n",
    "    query_engine = build_milvus_rag(\n",
    "        pdf_dir=\"/home/mapleleaf/LCJRepos/projects/DQE_RAG_APP/misc/law/\",\n",
    "        collection_name=\"taiwan_law\"\n",
    "    )\n",
    "    # LangChain 整合範例\n",
    "    legal_tool = Tool(\n",
    "        name=\"台灣法律檢索\",\n",
    "        func=lambda q: str(query_engine.query(q)),\n",
    "        description=\"用於查詢台灣現行民法、刑法等法律條文與司法解釋\"\n",
    "    )\n",
    "    agent = initialize_agent(\n",
    "        tools=[legal_tool],\n",
    "        llm=ChatOllama(model=\"deepseek-r1:7b\", temperature=0.2),\n",
    "        agent=\"structured-chat-zero-shot-react-description\",\n",
    "        verbose=True\n",
    "    )\n",
    "    # 使用範例\n",
    "    start_time = time()\n",
    "    response = agent.invoke(\"請解釋台灣民法中的不可抗力條款，並列出相關法條編號\")\n",
    "    print(response)\n",
    "    end_time = time()\n",
    "    print(f\"query time:{end_time-start_time}\")"
   ]
  },
  {
   "cell_type": "code",
   "execution_count": 11,
   "id": "21174ab7-bccf-4d02-ae71-1a858dbc46cc",
   "metadata": {},
   "outputs": [
    {
     "name": "stderr",
     "output_type": "stream",
     "text": [
      "2025-04-15 15:52:09,928 [DEBUG][_create_connection]: Created new connection using: 500f999d248b481fa9dd1debbdf2d144 (async_milvus_client.py:600)\n"
     ]
    },
    {
     "name": "stdout",
     "output_type": "stream",
     "text": [
      "集合 taiwan_law 已存在，直接加载\n",
      "集合包含 475 条数据\n",
      "检测到现有数据 (475 条)，跳过文件处理\n",
      "\n",
      "\n",
      "\u001b[1m> Entering new AgentExecutor chain...\u001b[0m\n"
     ]
    },
    {
     "name": "stderr",
     "output_type": "stream",
     "text": [
      "/tmp/ipykernel_64785/466896641.py:13: LangChainDeprecationWarning: LangChain agents will continue to be supported, but it is recommended for new use cases to be built with LangGraph. LangGraph offers a more flexible and full-featured framework for building agents, including support for tool-calling, persistence of state, and human-in-the-loop workflows. For details, refer to the `LangGraph documentation <https://langchain-ai.github.io/langgraph/>`_ as well as guides for `Migrating from AgentExecutor <https://python.langchain.com/docs/how_to/migrate_agent/>`_ and LangGraph's `Pre-built ReAct agent <https://langchain-ai.github.io/langgraph/how-tos/create-react-agent/>`_.\n",
      "  agent = initialize_agent(\n"
     ]
    },
    {
     "name": "stdout",
     "output_type": "stream",
     "text": [
      "\u001b[32;1m\u001b[1;3m<think>\n",
      "好，我现在需要解释台湾民法中的不可抗力条款，并列出相关法律条文编号。首先，我应该明确“不可抗力”在民法中的定义和适用范围。\n",
      "\n",
      "不可抗力通常指的是不能预见、无法避免且不属于当事人所能控制的外部事件。根据台湾地区的相关法律规定，这类事件一旦发生，双方的义务可能会有所减轻或免除。\n",
      "\n",
      "接下来，我需要找到具体的法律条文。回想一下，民法典中应该有关于不可抗力的规定，可能在第584条附近。具体来说，第584条提到“不可抗力”这一概念，并规定了在这种情况下，双方的义务如何调整。\n",
      "\n",
      "此外，关于责任免除的部分，可能在第603条中有详细说明。这条法条规定了在不可抗力事件发生时，双方的责任和义务是如何减轻或免除的。\n",
      "\n",
      "最后，我需要确保引用的是正确的条文编号，因为不同的版本可能会有所不同。因此，在提供最终答案前，最好确认一下当前民法典的具体条文位置。\n",
      "</think>\n",
      "\n",
      "Action:```$JSON_BLOB`\u001b[0m\n",
      "\n",
      "\u001b[1m> Finished chain.\u001b[0m\n",
      "{'input': '請解釋台灣民法中的不可抗力條款，並列出相關法條編號', 'output': '<think>\\n好，我现在需要解释台湾民法中的不可抗力条款，并列出相关法律条文编号。首先，我应该明确“不可抗力”在民法中的定义和适用范围。\\n\\n不可抗力通常指的是不能预见、无法避免且不属于当事人所能控制的外部事件。根据台湾地区的相关法律规定，这类事件一旦发生，双方的义务可能会有所减轻或免除。\\n\\n接下来，我需要找到具体的法律条文。回想一下，民法典中应该有关于不可抗力的规定，可能在第584条附近。具体来说，第584条提到“不可抗力”这一概念，并规定了在这种情况下，双方的义务如何调整。\\n\\n此外，关于责任免除的部分，可能在第603条中有详细说明。这条法条规定了在不可抗力事件发生时，双方的责任和义务是如何减轻或免除的。\\n\\n最后，我需要确保引用的是正确的条文编号，因为不同的版本可能会有所不同。因此，在提供最终答案前，最好确认一下当前民法典的具体条文位置。\\n</think>\\n\\nAction:```$JSON_BLOB`'}\n",
      "query time:18.587438821792603\n"
     ]
    }
   ],
   "source": [
    "run()"
   ]
  },
  {
   "cell_type": "code",
   "execution_count": null,
   "id": "2c6851d7-f0ad-4c0c-9726-38d32756f2e0",
   "metadata": {},
   "outputs": [],
   "source": []
  }
 ],
 "metadata": {
  "kernelspec": {
   "display_name": "Python 3 (ipykernel)",
   "language": "python",
   "name": "python3"
  },
  "language_info": {
   "codemirror_mode": {
    "name": "ipython",
    "version": 3
   },
   "file_extension": ".py",
   "mimetype": "text/x-python",
   "name": "python",
   "nbconvert_exporter": "python",
   "pygments_lexer": "ipython3",
   "version": "3.11.11"
  }
 },
 "nbformat": 4,
 "nbformat_minor": 5
}
