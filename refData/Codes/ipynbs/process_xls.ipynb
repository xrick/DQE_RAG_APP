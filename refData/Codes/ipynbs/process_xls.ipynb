{
 "cells": [
  {
   "cell_type": "code",
   "execution_count": 1,
   "id": "2c4a4ca0-7bfb-490f-b150-f689e7e4cb0c",
   "metadata": {},
   "outputs": [],
   "source": [
    "import pandas as pd"
   ]
  },
  {
   "cell_type": "code",
   "execution_count": null,
   "id": "f6e9cfd9-63dd-49cf-93fd-61e2801e7a38",
   "metadata": {},
   "outputs": [],
   "source": []
  },
  {
   "cell_type": "code",
   "execution_count": 2,
   "id": "ffc2836c-f038-458b-998a-681e80211ea8",
   "metadata": {},
   "outputs": [
    {
     "ename": "SyntaxError",
     "evalue": "Missing parentheses in call to 'print'. Did you mean print(...)? (__init__.py, line 1187)",
     "output_type": "error",
     "traceback": [
      "Traceback \u001b[0;36m(most recent call last)\u001b[0m:\n",
      "\u001b[0m  File \u001b[1;32m~/miniconda3/envs/llmenv/lib/python3.11/site-packages/IPython/core/interactiveshell.py:3579\u001b[0m in \u001b[1;35mrun_code\u001b[0m\n    exec(code_obj, self.user_global_ns, self.user_ns)\u001b[0m\n",
      "\u001b[0m  Cell \u001b[1;32mIn[2], line 2\u001b[0m\n    df = pd.read_excel('../../../doc/DQE_Learn_Edit2.xlsx')\u001b[0m\n",
      "\u001b[0m  File \u001b[1;32m~/miniconda3/envs/llmenv/lib/python3.11/site-packages/pandas/io/excel/_base.py:495\u001b[0m in \u001b[1;35mread_excel\u001b[0m\n    io = ExcelFile(\u001b[0m\n",
      "\u001b[0m  File \u001b[1;32m~/miniconda3/envs/llmenv/lib/python3.11/site-packages/pandas/io/excel/_base.py:1537\u001b[0m in \u001b[1;35m__init__\u001b[0m\n    if import_optional_dependency(\"xlrd\", errors=\"ignore\") is None:\u001b[0m\n",
      "\u001b[0m  File \u001b[1;32m~/miniconda3/envs/llmenv/lib/python3.11/site-packages/pandas/compat/_optional.py:135\u001b[0m in \u001b[1;35mimport_optional_dependency\u001b[0m\n    module = importlib.import_module(name)\u001b[0m\n",
      "\u001b[0m  File \u001b[1;32m~/miniconda3/envs/llmenv/lib/python3.11/importlib/__init__.py:126\u001b[0m in \u001b[1;35mimport_module\u001b[0m\n    return _bootstrap._gcd_import(name[level:], package, level)\u001b[0m\n",
      "\u001b[0m  File \u001b[1;32m<frozen importlib._bootstrap>:1204\u001b[0m in \u001b[1;35m_gcd_import\u001b[0m\n",
      "\u001b[0m  File \u001b[1;32m<frozen importlib._bootstrap>:1176\u001b[0m in \u001b[1;35m_find_and_load\u001b[0m\n",
      "\u001b[0m  File \u001b[1;32m<frozen importlib._bootstrap>:1147\u001b[0m in \u001b[1;35m_find_and_load_unlocked\u001b[0m\n",
      "\u001b[0m  File \u001b[1;32m<frozen importlib._bootstrap>:690\u001b[0m in \u001b[1;35m_load_unlocked\u001b[0m\n",
      "\u001b[0m  File \u001b[1;32m<frozen importlib._bootstrap_external>:936\u001b[0m in \u001b[1;35mexec_module\u001b[0m\n",
      "\u001b[0m  File \u001b[1;32m<frozen importlib._bootstrap_external>:1074\u001b[0m in \u001b[1;35mget_code\u001b[0m\n",
      "\u001b[0m  File \u001b[1;32m<frozen importlib._bootstrap_external>:1004\u001b[0m in \u001b[1;35msource_to_code\u001b[0m\n",
      "\u001b[0;36m  File \u001b[0;32m<frozen importlib._bootstrap>:241\u001b[0;36m in \u001b[0;35m_call_with_frames_removed\u001b[0;36m\n",
      "\u001b[0;36m  File \u001b[0;32m~/miniconda3/envs/llmenv/lib/python3.11/site-packages/xlrd/__init__.py:1187\u001b[0;36m\u001b[0m\n\u001b[0;31m    print \"EXTERNSHEET(b7-):\"\u001b[0m\n\u001b[0m    ^\u001b[0m\n\u001b[0;31mSyntaxError\u001b[0m\u001b[0;31m:\u001b[0m Missing parentheses in call to 'print'. Did you mean print(...)?\n"
     ]
    }
   ],
   "source": [
    "# Read the Excel file\n",
    "df = pd.read_excel('../../../doc/DQE_Learn_Edit2.xlsx')\n",
    "\n",
    "# Select and rename the required columns\n",
    "df_selected = df[['模块', '严重度', '问题现象描述', '原因分析', '改善对策', '经验萃取', '评审后优化', '评分']]\n",
    "df_selected.columns = ['module', 'severity', 'question', 'cause', 'improvement', 'experience', 'judge', 'score']\n",
    "\n",
    "# Save the selected data to a CSV file\n",
    "df_selected.to_csv('../../../doc/deq_learn_edit.csv', index=False, encoding='utf-8-sig')\n",
    "\n",
    "print(\"Data extraction successful! CSV file 'deq_learn_edit.csv' created.\")\n"
   ]
  },
  {
   "cell_type": "code",
   "execution_count": null,
   "id": "119b0d71-ff2b-4436-9d6d-eb86fb00cf4e",
   "metadata": {},
   "outputs": [],
   "source": []
  },
  {
   "cell_type": "code",
   "execution_count": null,
   "id": "31571b28-5bb7-4c14-b78c-080870482cb4",
   "metadata": {},
   "outputs": [],
   "source": [
    "# # Step 1. 顯示實際欄位名稱\n",
    "# df = pd.read_excel('../../../doc/DQE_Lesson learn_经验库_20250222.xls', sheet_name=0)\n",
    "# print(\"實際欄位名稱:\", df.columns.tolist())\n",
    "\n",
    "# # Step 2. 手動比對並調整欄位名稱(根據實際顯示結果修改下方列表)\n",
    "# columns_mapping = {\n",
    "#     '實際欄位名稱1': 'module',\n",
    "#     '實際欄位名稱2': 'severity',\n",
    "#     # 依此類推...需根據print結果填入\n",
    "# }\n",
    "\n",
    "# # Step 3. 重新執行轉換\n",
    "# extracted_df = df.rename(columns=columns_mapping)[list(columns_mapping.values())]\n",
    "# extracted_df.to_csv('../../../doc/deq_learn.csv', index=False, encoding='utf-8-sig')\n"
   ]
  }
 ],
 "metadata": {
  "kernelspec": {
   "display_name": "Python 3 (ipykernel)",
   "language": "python",
   "name": "python3"
  },
  "language_info": {
   "codemirror_mode": {
    "name": "ipython",
    "version": 3
   },
   "file_extension": ".py",
   "mimetype": "text/x-python",
   "name": "python",
   "nbconvert_exporter": "python",
   "pygments_lexer": "ipython3",
   "version": "3.11.11"
  }
 },
 "nbformat": 4,
 "nbformat_minor": 5
}
