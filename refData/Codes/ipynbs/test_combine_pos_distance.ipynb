{
 "cells": [
  {
   "cell_type": "code",
   "execution_count": 1,
   "metadata": {},
   "outputs": [],
   "source": [
    "import numpy as np"
   ]
  },
  {
   "cell_type": "code",
   "execution_count": 4,
   "metadata": {},
   "outputs": [],
   "source": [
    "pos_list1 = [[2, 6, 9, 11]]\n",
    "pos_list2 = [[1, 2, 5, 11]]\n",
    "distance_lists = [\n",
    "         [0.567, 7.821, 10.678, 15.223],\n",
    "         [0.347, 0.867, 6.654, 18.822]\n",
    "]"
   ]
  },
  {
   "cell_type": "code",
   "execution_count": null,
   "metadata": {},
   "outputs": [
    {
     "name": "stdout",
     "output_type": "stream",
     "text": [
      "None\n"
     ]
    }
   ],
   "source": [
    "pos_lists = pos_list1.extend(pos_list2)\n",
    "print(pos_lists)"
   ]
  },
  {
   "cell_type": "code",
   "execution_count": 1,
   "metadata": {},
   "outputs": [],
   "source": [
    "def combine_pos_distance(pos_lists, distance_lists):\n",
    "    # 合并并去重位置列表\n",
    "    all_pos = [pos for sublist in pos_lists for pos in sublist]\n",
    "    combined_pos = sorted(set(all_pos))\n",
    "    \n",
    "    # 建立位置-距离映射表\n",
    "    mappings = []\n",
    "    for pos_sublist, dist_sublist in zip(pos_lists, distance_lists):\n",
    "        mappings.append(dict(zip(pos_sublist, dist_sublist)))\n",
    "    \n",
    "    # 合并距离列表\n",
    "    combined_dist = []\n",
    "    for pos in combined_pos:\n",
    "        distances = []\n",
    "        for mapping in mappings:\n",
    "            if pos in mapping:\n",
    "                distances.append(mapping[pos])\n",
    "        avg = round(sum(distances)/len(distances), 3) if distances else 0\n",
    "        combined_dist.append(avg)\n",
    "    \n",
    "    return combined_pos, combined_dist"
   ]
  },
  {
   "cell_type": "code",
   "execution_count": null,
   "metadata": {},
   "outputs": [],
   "source": []
  }
 ],
 "metadata": {
  "kernelspec": {
   "display_name": "llmenv",
   "language": "python",
   "name": "python3"
  },
  "language_info": {
   "codemirror_mode": {
    "name": "ipython",
    "version": 3
   },
   "file_extension": ".py",
   "mimetype": "text/x-python",
   "name": "python",
   "nbconvert_exporter": "python",
   "pygments_lexer": "ipython3",
   "version": "3.11.11"
  }
 },
 "nbformat": 4,
 "nbformat_minor": 2
}
