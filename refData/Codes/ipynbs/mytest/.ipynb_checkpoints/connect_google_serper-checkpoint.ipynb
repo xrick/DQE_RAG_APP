{
 "cells": [
  {
   "cell_type": "code",
   "execution_count": 11,
   "id": "aa54d2ad-7910-4dc9-a70b-f34b994a4382",
   "metadata": {},
   "outputs": [],
   "source": [
    "import http.client\n",
    "import json\n",
    "import ast"
   ]
  },
  {
   "cell_type": "code",
   "execution_count": 2,
   "id": "01de31e3-8514-4410-993a-ba3394e054c6",
   "metadata": {},
   "outputs": [
    {
     "name": "stdout",
     "output_type": "stream",
     "text": [
      "[{'title': '固态硬盘突然检测不到', 'link': 'https://www.crucial.cn/articles/about-ssd/how-to-deal-with-the-failure-of-ssd-detection', 'snippet': '判断掉盘原因，一般有几个原因，比如异常断电导致、SATA接口松动、链接电源管理、固件bug，发生掉盘较多的是异常断电导致FTL损毁而掉盘，或者是固件bug，如果是固件bug，去更新 ...', 'position': 1}, {'title': '如何解决固态硬盘无法识别的问题 - 知乎专栏', 'link': 'https://zhuanlan.zhihu.com/p/564596516', 'snippet': '2、确认BIOS中能够识别SSD，SSD的容量信息正确，若识别不到，关机后尝试重新插拔SSD。 3、确认BIOS中SSD相应的接口未被禁用，如SATA，M.2 SATA接口等，若显示值 ...', 'date': 'Sep 15, 2022', 'position': 2}, {'title': '[主板] 开机后无法识别硬盘或SSD(M.2)的故障排除方式| 官方支持 - 华硕', 'link': 'https://www.asus.com.cn/support/faq/1044083/', 'snippet': \"... 硬盘或SSD. 4 若您有设置CPU超频或内存超频，可能会因超频不稳定导致计算机无法识别硬碟或SSD，尝试将BIOS恢复设置：. a. 计算机开机后，按键盘''delete ...\", 'date': 'Mar 30, 2024', 'position': 3}, {'title': '固态硬盘不识别怎么办？教你一招简单的修复方法，超级实用', 'link': 'https://www.bilibili.com/video/BV13X4y1K7vK/', 'snippet': '固态硬盘不识别怎么办？教你一招简单的修复方法，超级实用. 云盾数据恢复中心. 相关推荐. 查看更多. 固态硬盘突然不认盘，开不了机是什么原因，维修起来.', 'position': 4}, {'title': 'ssd突然不认盘，能恢复数据吗？如何恢复固态硬盘中的文件？详细攻略', 'link': 'https://zhuanlan.zhihu.com/p/2453847331', 'snippet': 'ssd不认盘，可能是由于固件问题、接口损坏、分区表损坏或其它硬件故障引起的，基本上软件是无法修复固态硬盘的，只能用“硬修复”的方法了。 1、首先，需要将SSD ...', 'date': 'Oct 22, 2024', 'position': 5}, {'title': 'SSD固态硬盘：掉盘的四大类原因转载 - CSDN博客', 'link': 'https://blog.csdn.net/flyingbike/article/details/143617901', 'snippet': '有时候就是没有从省电模式正常唤醒到工作模式，导致掉盘。 这种情况可以在电脑电源管理中，关闭省电模式。 再观察SSD是否正常。 如果是固件bug，去更新一下 ...', 'date': 'Nov 8, 2024', 'position': 6}, {'title': '小科普| 硬盘“掉盘”你遇到过吗？', 'link': 'https://www.bilibili.com/read/cv6200655/', 'snippet': '如果是分区表出问题，通常是能识别到设备但是读不出盘，这时候需要用到DiskGenius之类的分区软件，通过重建分区来找回文件。 如果是机械硬盘，不排除用太久 ...', 'date': 'May 25, 2020', 'position': 7}, {'title': 'ssd突然无法识别 - 百度', 'link': 'https://www.baidu.com/from=844b/ssid=ec18ced2becdcac7ced2c4c7d3d6baecda5d/s?word=ssd%E7%AA%81%E7%84%B6%E6%97%A0%E6%B3%95%E8%AF%86%E5%88%AB&sa=re_dl_prs_34689_5&ms=1&rqid=11303038686211336867&rq=ssd%20bios&rsf=1630001&asctag=19008', 'snippet': '- 检查BIOS中的硬盘设置，确保SATA模式设置为适合固态硬盘的模式，如AHCI。 - 如果在BIOS中看不到固态硬盘，可能需要手动添加或更改硬盘设置。 4. 修复文件系统错误： - 使用 ...', 'position': 8}, {'title': '硬盘读不出来 - 美光半导体| Crucial 英睿达', 'link': 'https://www.crucial.cn/articles/about-ssd/what-if-the-hard-disk-cannot-be-detected', 'snippet': '硬盘读不出来有很多种情况，一般情况下我们需要对问题进行排查，来判断是什么原因导致的读不出来。比如是硬盘本身损毁，还是其他设置问题。 问题判断.', 'position': 9}, {'title': '新的固态硬盘电脑识别不出来，新固态硬盘无法识别解决方法', 'link': 'https://www.easy-recovery.cn/news/876.html', 'snippet': '很多时候，固态硬盘无法被电脑识别的原因还可能是BIOS设置不当。例如，如果主板的SATA模式设置为IDE而不是AHCI，可能会导致无法正确识别SSD。某些主板需要在 ...', 'date': 'Sep 23, 2024', 'position': 10}]\n"
     ]
    }
   ],
   "source": [
    "conn = http.client.HTTPSConnection(\"google.serper.dev\")\n",
    "payload = json.dumps({\n",
    "  \"q\": \"SSD不读盘\"\n",
    "})\n",
    "headers = {\n",
    "  'X-API-KEY': '3026422e86bf19796a06b5f15433e9c0cd9bd88a',\n",
    "  'Content-Type': 'application/json'\n",
    "}\n",
    "conn.request(\"POST\", \"/search\", payload, headers)\n",
    "res = conn.getresponse()\n",
    "data = res.read()\n",
    "# print(data.decode(\"utf-8\"))\n",
    "data = data.decode(\"utf-8\")\n",
    "# data_dict = json.load(data.replace(\"'\", '\"'))\n",
    "data_dict = eval(data)\n",
    "content = data_dict[\"organic\"]\n",
    "print(content)\n",
    "# for c in content:\n",
    "#     print(c)\n",
    "#     print(\"\\n\")"
   ]
  },
  {
   "cell_type": "code",
   "execution_count": 12,
   "id": "8ea4e14a-fefc-4c65-bdca-9a246dd63e62",
   "metadata": {},
   "outputs": [],
   "source": [
    "def format_search_results_simple(text_content):\n",
    "    try:\n",
    "        # 使用ast.literal_eval安全地評估Python字面量\n",
    "        # 這對於處理Python字典和列表字符串非常有用\n",
    "        data = ast.literal_eval(text_content)\n",
    "        return data\n",
    "    except (SyntaxError, ValueError) as e:\n",
    "        print(f\"解析錯誤: {e}\")\n",
    "        \n",
    "        # 如果ast.literal_eval失敗，嘗試json解析\n",
    "        try:\n",
    "            # 將單引號替換為雙引號\n",
    "            json_str = text_content.replace(\"'\", '\"')\n",
    "            # 處理可能的特殊字符\n",
    "            json_str = json_str.replace('\"\"delete', '\"delete')\n",
    "            data = json.loads(json_str)\n",
    "            return data\n",
    "        except json.JSONDecodeError as e:\n",
    "            print(f\"JSON解析錯誤: {e}\")\n",
    "            return []"
   ]
  },
  {
   "cell_type": "code",
   "execution_count": 13,
   "id": "f4417f10-11a9-4081-859a-318606a01076",
   "metadata": {},
   "outputs": [
    {
     "data": {
      "text/plain": [
       "{'searchParameters': {'q': 'SSD不读盘', 'type': 'search', 'engine': 'google'},\n",
       " 'organic': [{'title': '固态硬盘突然检测不到',\n",
       "   'link': 'https://www.crucial.cn/articles/about-ssd/how-to-deal-with-the-failure-of-ssd-detection',\n",
       "   'snippet': '判断掉盘原因，一般有几个原因，比如异常断电导致、SATA接口松动、链接电源管理、固件bug，发生掉盘较多的是异常断电导致FTL损毁而掉盘，或者是固件bug，如果是固件bug，去更新 ...',\n",
       "   'position': 1},\n",
       "  {'title': '如何解决固态硬盘无法识别的问题 - 知乎专栏',\n",
       "   'link': 'https://zhuanlan.zhihu.com/p/564596516',\n",
       "   'snippet': '2、确认BIOS中能够识别SSD，SSD的容量信息正确，若识别不到，关机后尝试重新插拔SSD。 3、确认BIOS中SSD相应的接口未被禁用，如SATA，M.2 SATA接口等，若显示值 ...',\n",
       "   'date': 'Sep 15, 2022',\n",
       "   'position': 2},\n",
       "  {'title': '[主板] 开机后无法识别硬盘或SSD(M.2)的故障排除方式| 官方支持 - 华硕',\n",
       "   'link': 'https://www.asus.com.cn/support/faq/1044083/',\n",
       "   'snippet': \"... 硬盘或SSD. 4 若您有设置CPU超频或内存超频，可能会因超频不稳定导致计算机无法识别硬碟或SSD，尝试将BIOS恢复设置：. a. 计算机开机后，按键盘''delete ...\",\n",
       "   'date': 'Mar 30, 2024',\n",
       "   'position': 3},\n",
       "  {'title': '固态硬盘不识别怎么办？教你一招简单的修复方法，超级实用',\n",
       "   'link': 'https://www.bilibili.com/video/BV13X4y1K7vK/',\n",
       "   'snippet': '固态硬盘不识别怎么办？教你一招简单的修复方法，超级实用. 云盾数据恢复中心. 相关推荐. 查看更多. 固态硬盘突然不认盘，开不了机是什么原因，维修起来.',\n",
       "   'position': 4},\n",
       "  {'title': 'ssd突然不认盘，能恢复数据吗？如何恢复固态硬盘中的文件？详细攻略',\n",
       "   'link': 'https://zhuanlan.zhihu.com/p/2453847331',\n",
       "   'snippet': 'ssd不认盘，可能是由于固件问题、接口损坏、分区表损坏或其它硬件故障引起的，基本上软件是无法修复固态硬盘的，只能用“硬修复”的方法了。 1、首先，需要将SSD ...',\n",
       "   'date': 'Oct 22, 2024',\n",
       "   'position': 5},\n",
       "  {'title': 'SSD固态硬盘：掉盘的四大类原因转载 - CSDN博客',\n",
       "   'link': 'https://blog.csdn.net/flyingbike/article/details/143617901',\n",
       "   'snippet': '有时候就是没有从省电模式正常唤醒到工作模式，导致掉盘。 这种情况可以在电脑电源管理中，关闭省电模式。 再观察SSD是否正常。 如果是固件bug，去更新一下 ...',\n",
       "   'date': 'Nov 8, 2024',\n",
       "   'position': 6},\n",
       "  {'title': '小科普| 硬盘“掉盘”你遇到过吗？',\n",
       "   'link': 'https://www.bilibili.com/read/cv6200655/',\n",
       "   'snippet': '如果是分区表出问题，通常是能识别到设备但是读不出盘，这时候需要用到DiskGenius之类的分区软件，通过重建分区来找回文件。 如果是机械硬盘，不排除用太久 ...',\n",
       "   'date': 'May 25, 2020',\n",
       "   'position': 7},\n",
       "  {'title': 'ssd突然无法识别 - 百度',\n",
       "   'link': 'https://www.baidu.com/from=844b/ssid=ec18ced2becdcac7ced2c4c7d3d6baecda5d/s?word=ssd%E7%AA%81%E7%84%B6%E6%97%A0%E6%B3%95%E8%AF%86%E5%88%AB&sa=re_dl_prs_34689_5&ms=1&rqid=11303038686211336867&rq=ssd%20bios&rsf=1630001&asctag=19008',\n",
       "   'snippet': '- 检查BIOS中的硬盘设置，确保SATA模式设置为适合固态硬盘的模式，如AHCI。 - 如果在BIOS中看不到固态硬盘，可能需要手动添加或更改硬盘设置。 4. 修复文件系统错误： - 使用 ...',\n",
       "   'position': 8},\n",
       "  {'title': '硬盘读不出来 - 美光半导体| Crucial 英睿达',\n",
       "   'link': 'https://www.crucial.cn/articles/about-ssd/what-if-the-hard-disk-cannot-be-detected',\n",
       "   'snippet': '硬盘读不出来有很多种情况，一般情况下我们需要对问题进行排查，来判断是什么原因导致的读不出来。比如是硬盘本身损毁，还是其他设置问题。 问题判断.',\n",
       "   'position': 9},\n",
       "  {'title': '新的固态硬盘电脑识别不出来，新固态硬盘无法识别解决方法',\n",
       "   'link': 'https://www.easy-recovery.cn/news/876.html',\n",
       "   'snippet': '很多时候，固态硬盘无法被电脑识别的原因还可能是BIOS设置不当。例如，如果主板的SATA模式设置为IDE而不是AHCI，可能会导致无法正确识别SSD。某些主板需要在 ...',\n",
       "   'date': 'Sep 23, 2024',\n",
       "   'position': 10}],\n",
       " 'relatedSearches': [{'query': 'm2固态硬盘无法识别'},\n",
       "  {'query': '固态硬盘掉盘'},\n",
       "  {'query': '固态硬盘突然不见了'},\n",
       "  {'query': '固态硬盘掉盘修复'},\n",
       "  {'query': 'ssd安装后找不到'},\n",
       "  {'query': 'bios识别不到硬盘'},\n",
       "  {'query': '机械硬盘读不出来'},\n",
       "  {'query': '电脑 不显示 D盘'}],\n",
       " 'credits': 1}"
      ]
     },
     "execution_count": 13,
     "metadata": {},
     "output_type": "execute_result"
    }
   ],
   "source": [
    "format_search_results_simple(data)"
   ]
  },
  {
   "cell_type": "code",
   "execution_count": null,
   "id": "86eb383c-d35a-447b-bd57-7e04c8919592",
   "metadata": {},
   "outputs": [],
   "source": []
  }
 ],
 "metadata": {
  "kernelspec": {
   "display_name": "Python 3 (ipykernel)",
   "language": "python",
   "name": "python3"
  },
  "language_info": {
   "codemirror_mode": {
    "name": "ipython",
    "version": 3
   },
   "file_extension": ".py",
   "mimetype": "text/x-python",
   "name": "python",
   "nbconvert_exporter": "python",
   "pygments_lexer": "ipython3",
   "version": "3.11.11"
  }
 },
 "nbformat": 4,
 "nbformat_minor": 5
}
