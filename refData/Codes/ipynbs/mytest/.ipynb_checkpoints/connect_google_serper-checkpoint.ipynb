{
 "cells": [
  {
   "cell_type": "code",
   "execution_count": 1,
   "id": "aa54d2ad-7910-4dc9-a70b-f34b994a4382",
   "metadata": {},
   "outputs": [],
   "source": [
    "import http.client\n",
    "import json\n",
    "import re"
   ]
  },
  {
   "cell_type": "code",
   "execution_count": 2,
   "id": "01de31e3-8514-4410-993a-ba3394e054c6",
   "metadata": {},
   "outputs": [
    {
     "name": "stdout",
     "output_type": "stream",
     "text": [
      "[{'title': '固态硬盘突然检测不到', 'link': 'https://www.crucial.cn/articles/about-ssd/how-to-deal-with-the-failure-of-ssd-detection', 'snippet': '判断掉盘原因，一般有几个原因，比如异常断电导致、SATA接口松动、链接电源管理、固件bug，发生掉盘较多的是异常断电导致FTL损毁而掉盘，或者是固件bug，如果是固件bug，去更新 ...', 'position': 1}, {'title': '如何解决固态硬盘无法识别的问题 - 知乎专栏', 'link': 'https://zhuanlan.zhihu.com/p/564596516', 'snippet': '2、确认BIOS中能够识别SSD，SSD的容量信息正确，若识别不到，关机后尝试重新插拔SSD。 3、确认BIOS中SSD相应的接口未被禁用，如SATA，M.2 SATA接口等，若显示值 ...', 'date': 'Sep 15, 2022', 'position': 2}, {'title': '[主板] 开机后无法识别硬盘或SSD(M.2)的故障排除方式| 官方支持 - 华硕', 'link': 'https://www.asus.com.cn/support/faq/1044083/', 'snippet': \"... 硬盘或SSD. 4 若您有设置CPU超频或内存超频，可能会因超频不稳定导致计算机无法识别硬碟或SSD，尝试将BIOS恢复设置：. a. 计算机开机后，按键盘''delete ...\", 'date': 'Mar 30, 2024', 'position': 3}, {'title': '固态硬盘不识别怎么办？教你一招简单的修复方法，超级实用', 'link': 'https://www.bilibili.com/video/BV13X4y1K7vK/', 'snippet': '固态硬盘不识别怎么办？教你一招简单的修复方法，超级实用. 云盾数据恢复中心. 相关推荐. 查看更多. 固态硬盘突然不认盘，开不了机是什么原因，维修起来.', 'position': 4}, {'title': 'ssd突然不认盘，能恢复数据吗？如何恢复固态硬盘中的文件？详细攻略', 'link': 'https://zhuanlan.zhihu.com/p/2453847331', 'snippet': 'ssd不认盘，可能是由于固件问题、接口损坏、分区表损坏或其它硬件故障引起的，基本上软件是无法修复固态硬盘的，只能用“硬修复”的方法了。 1、首先，需要将SSD ...', 'date': 'Oct 22, 2024', 'position': 5}, {'title': 'SSD固态硬盘：掉盘的四大类原因转载 - CSDN博客', 'link': 'https://blog.csdn.net/flyingbike/article/details/143617901', 'snippet': '有时候就是没有从省电模式正常唤醒到工作模式，导致掉盘。 这种情况可以在电脑电源管理中，关闭省电模式。 再观察SSD是否正常。 如果是固件bug，去更新一下 ...', 'date': 'Nov 8, 2024', 'position': 6}, {'title': '小科普| 硬盘“掉盘”你遇到过吗？', 'link': 'https://www.bilibili.com/read/cv6200655/', 'snippet': '如果是分区表出问题，通常是能识别到设备但是读不出盘，这时候需要用到DiskGenius之类的分区软件，通过重建分区来找回文件。 如果是机械硬盘，不排除用太久 ...', 'date': 'May 25, 2020', 'position': 7}, {'title': 'ssd突然无法识别 - 百度', 'link': 'https://www.baidu.com/from=844b/ssid=ec18ced2becdcac7ced2c4c7d3d6baecda5d/s?word=ssd%E7%AA%81%E7%84%B6%E6%97%A0%E6%B3%95%E8%AF%86%E5%88%AB&sa=re_dl_prs_34689_5&ms=1&rqid=11303038686211336867&rq=ssd%20bios&rsf=1630001&asctag=19008', 'snippet': '- 检查BIOS中的硬盘设置，确保SATA模式设置为适合固态硬盘的模式，如AHCI。 - 如果在BIOS中看不到固态硬盘，可能需要手动添加或更改硬盘设置。 4. 修复文件系统错误： - 使用 ...', 'position': 8}, {'title': '硬盘读不出来 - 美光半导体| Crucial 英睿达', 'link': 'https://www.crucial.cn/articles/about-ssd/what-if-the-hard-disk-cannot-be-detected', 'snippet': '硬盘读不出来有很多种情况，一般情况下我们需要对问题进行排查，来判断是什么原因导致的读不出来。比如是硬盘本身损毁，还是其他设置问题。 问题判断.', 'position': 9}, {'title': '新的固态硬盘电脑识别不出来，新固态硬盘无法识别解决方法', 'link': 'https://www.easy-recovery.cn/news/876.html', 'snippet': '很多时候，固态硬盘无法被电脑识别的原因还可能是BIOS设置不当。例如，如果主板的SATA模式设置为IDE而不是AHCI，可能会导致无法正确识别SSD。某些主板需要在 ...', 'date': 'Sep 23, 2024', 'position': 10}]\n"
     ]
    }
   ],
   "source": [
    "conn = http.client.HTTPSConnection(\"google.serper.dev\")\n",
    "payload = json.dumps({\n",
    "  \"q\": \"SSD不读盘\"\n",
    "})\n",
    "headers = {\n",
    "  'X-API-KEY': '3026422e86bf19796a06b5f15433e9c0cd9bd88a',\n",
    "  'Content-Type': 'application/json'\n",
    "}\n",
    "conn.request(\"POST\", \"/search\", payload, headers)\n",
    "res = conn.getresponse()\n",
    "data = res.read()\n",
    "# print(data.decode(\"utf-8\"))\n",
    "data = data.decode(\"utf-8\")\n",
    "# data_dict = json.load(data.replace(\"'\", '\"'))\n",
    "data_dict = eval(data)\n",
    "content = data_dict[\"organic\"]\n",
    "print(content)\n",
    "# for c in content:\n",
    "#     print(c)\n",
    "#     print(\"\\n\")"
   ]
  },
  {
   "cell_type": "code",
   "execution_count": 9,
   "id": "8ea4e14a-fefc-4c65-bdca-9a246dd63e62",
   "metadata": {},
   "outputs": [],
   "source": [
    "def format_search_results(text_content):\n",
    "    # 直接處理文本內容，不需要使用正則表達式提取\n",
    "    try:\n",
    "        # 嘗試直接解析文本內容\n",
    "        # 將單引號替換為雙引號以符合JSON格式\n",
    "        json_str = text_content.replace(\"'\", '\"')\n",
    "        \n",
    "        # 處理可能的格式問題\n",
    "        # 處理可能的尾隨逗號\n",
    "        json_str = json_str.replace(\",]\", \"]\")\n",
    "        \n",
    "        # 解析JSON\n",
    "        data = json.loads(json_str)\n",
    "        return data\n",
    "    except json.JSONDecodeError as e:\n",
    "        print(f\"JSON解析錯誤: {e}\")\n",
    "        \n",
    "        # 如果直接解析失敗，嘗試手動解析\n",
    "        result = []\n",
    "        try:\n",
    "            # 假設文本是一個列表字符串\n",
    "            if text_content.strip().startswith(\"[\") and text_content.strip().endswith(\"]\"):\n",
    "                # 移除最外層的方括號\n",
    "                items_str = text_content.strip()[1:-1]\n",
    "                \n",
    "                # 分割每個字典項\n",
    "                # 這是一個簡化的方法，可能需要更複雜的邏輯來處理嵌套結構\n",
    "                items = []\n",
    "                bracket_count = 0\n",
    "                current_item = \"\"\n",
    "                \n",
    "                for char in items_str:\n",
    "                    if char == \"{\":\n",
    "                        bracket_count += 1\n",
    "                    elif char == \"}\":\n",
    "                        bracket_count -= 1\n",
    "                    \n",
    "                    current_item += char\n",
    "                    \n",
    "                    if bracket_count == 0 and current_item.strip():\n",
    "                        if current_item.strip().endswith(\"},\"):\n",
    "                            items.append(current_item.strip()[:-1])  # 移除尾隨逗號\n",
    "                        elif current_item.strip().endswith(\"}\"):\n",
    "                            items.append(current_item.strip())\n",
    "                        current_item = \"\"\n",
    "                \n",
    "                # 處理每個項目\n",
    "                for item in items:\n",
    "                    if item.strip():\n",
    "                        item_dict = {}\n",
    "                        # 移除大括號\n",
    "                        item = item.strip()[1:-1]\n",
    "                        # 分割鍵值對\n",
    "                        pairs = item.split(\",\")\n",
    "                        for pair in pairs:\n",
    "                            if \":\" in pair:\n",
    "                                key, value = pair.split(\":\", 1)\n",
    "                                key = key.strip().strip(\"'\").strip('\"')\n",
    "                                value = value.strip()\n",
    "                                \n",
    "                                # 處理值\n",
    "                                if value.startswith(\"'\") and value.endswith(\"'\"):\n",
    "                                    value = value[1:-1]\n",
    "                                elif value.startswith('\"') and value.endswith('\"'):\n",
    "                                    value = value[1:-1]\n",
    "                                elif value.isdigit():\n",
    "                                    value = int(value)\n",
    "                                \n",
    "                                item_dict[key] = value\n",
    "                        \n",
    "                        result.append(item_dict)\n",
    "        except Exception as e:\n",
    "            print(f\"手動解析錯誤: {e}\")\n",
    "            \n",
    "        return result if result else []"
   ]
  },
  {
   "cell_type": "code",
   "execution_count": 10,
   "id": "f4417f10-11a9-4081-859a-318606a01076",
   "metadata": {},
   "outputs": [
    {
     "ename": "JSONDecodeError",
     "evalue": "Expecting ',' delimiter: line 1 column 749 (char 748)",
     "output_type": "error",
     "traceback": [
      "\u001b[0;31m---------------------------------------------------------------------------\u001b[0m",
      "\u001b[0;31mJSONDecodeError\u001b[0m                           Traceback (most recent call last)",
      "Cell \u001b[0;32mIn[10], line 1\u001b[0m\n\u001b[0;32m----> 1\u001b[0m \u001b[43mformat_search_results_simple\u001b[49m\u001b[43m(\u001b[49m\u001b[43mdata\u001b[49m\u001b[43m)\u001b[49m\n",
      "Cell \u001b[0;32mIn[7], line 6\u001b[0m, in \u001b[0;36mformat_search_results_simple\u001b[0;34m(text_content)\u001b[0m\n\u001b[1;32m      4\u001b[0m json_str \u001b[38;5;241m=\u001b[39m json_str\u001b[38;5;241m.\u001b[39mreplace(\u001b[38;5;124m\"\u001b[39m\u001b[38;5;124m'\u001b[39m\u001b[38;5;124m\"\u001b[39m, \u001b[38;5;124m'\u001b[39m\u001b[38;5;124m\"\u001b[39m\u001b[38;5;124m'\u001b[39m)\n\u001b[1;32m      5\u001b[0m \u001b[38;5;66;03m# 解析JSON\u001b[39;00m\n\u001b[0;32m----> 6\u001b[0m data \u001b[38;5;241m=\u001b[39m \u001b[43mjson\u001b[49m\u001b[38;5;241;43m.\u001b[39;49m\u001b[43mloads\u001b[49m\u001b[43m(\u001b[49m\u001b[43mjson_str\u001b[49m\u001b[43m)\u001b[49m\n\u001b[1;32m      7\u001b[0m \u001b[38;5;28;01mreturn\u001b[39;00m data\n",
      "File \u001b[0;32m~/.conda/envs/llmenv/lib/python3.11/json/__init__.py:346\u001b[0m, in \u001b[0;36mloads\u001b[0;34m(s, cls, object_hook, parse_float, parse_int, parse_constant, object_pairs_hook, **kw)\u001b[0m\n\u001b[1;32m    341\u001b[0m     s \u001b[38;5;241m=\u001b[39m s\u001b[38;5;241m.\u001b[39mdecode(detect_encoding(s), \u001b[38;5;124m'\u001b[39m\u001b[38;5;124msurrogatepass\u001b[39m\u001b[38;5;124m'\u001b[39m)\n\u001b[1;32m    343\u001b[0m \u001b[38;5;28;01mif\u001b[39;00m (\u001b[38;5;28mcls\u001b[39m \u001b[38;5;129;01mis\u001b[39;00m \u001b[38;5;28;01mNone\u001b[39;00m \u001b[38;5;129;01mand\u001b[39;00m object_hook \u001b[38;5;129;01mis\u001b[39;00m \u001b[38;5;28;01mNone\u001b[39;00m \u001b[38;5;129;01mand\u001b[39;00m\n\u001b[1;32m    344\u001b[0m         parse_int \u001b[38;5;129;01mis\u001b[39;00m \u001b[38;5;28;01mNone\u001b[39;00m \u001b[38;5;129;01mand\u001b[39;00m parse_float \u001b[38;5;129;01mis\u001b[39;00m \u001b[38;5;28;01mNone\u001b[39;00m \u001b[38;5;129;01mand\u001b[39;00m\n\u001b[1;32m    345\u001b[0m         parse_constant \u001b[38;5;129;01mis\u001b[39;00m \u001b[38;5;28;01mNone\u001b[39;00m \u001b[38;5;129;01mand\u001b[39;00m object_pairs_hook \u001b[38;5;129;01mis\u001b[39;00m \u001b[38;5;28;01mNone\u001b[39;00m \u001b[38;5;129;01mand\u001b[39;00m \u001b[38;5;129;01mnot\u001b[39;00m kw):\n\u001b[0;32m--> 346\u001b[0m     \u001b[38;5;28;01mreturn\u001b[39;00m \u001b[43m_default_decoder\u001b[49m\u001b[38;5;241;43m.\u001b[39;49m\u001b[43mdecode\u001b[49m\u001b[43m(\u001b[49m\u001b[43ms\u001b[49m\u001b[43m)\u001b[49m\n\u001b[1;32m    347\u001b[0m \u001b[38;5;28;01mif\u001b[39;00m \u001b[38;5;28mcls\u001b[39m \u001b[38;5;129;01mis\u001b[39;00m \u001b[38;5;28;01mNone\u001b[39;00m:\n\u001b[1;32m    348\u001b[0m     \u001b[38;5;28mcls\u001b[39m \u001b[38;5;241m=\u001b[39m JSONDecoder\n",
      "File \u001b[0;32m~/.conda/envs/llmenv/lib/python3.11/json/decoder.py:337\u001b[0m, in \u001b[0;36mJSONDecoder.decode\u001b[0;34m(self, s, _w)\u001b[0m\n\u001b[1;32m    332\u001b[0m \u001b[38;5;28;01mdef\u001b[39;00m\u001b[38;5;250m \u001b[39m\u001b[38;5;21mdecode\u001b[39m(\u001b[38;5;28mself\u001b[39m, s, _w\u001b[38;5;241m=\u001b[39mWHITESPACE\u001b[38;5;241m.\u001b[39mmatch):\n\u001b[1;32m    333\u001b[0m \u001b[38;5;250m    \u001b[39m\u001b[38;5;124;03m\"\"\"Return the Python representation of ``s`` (a ``str`` instance\u001b[39;00m\n\u001b[1;32m    334\u001b[0m \u001b[38;5;124;03m    containing a JSON document).\u001b[39;00m\n\u001b[1;32m    335\u001b[0m \n\u001b[1;32m    336\u001b[0m \u001b[38;5;124;03m    \"\"\"\u001b[39;00m\n\u001b[0;32m--> 337\u001b[0m     obj, end \u001b[38;5;241m=\u001b[39m \u001b[38;5;28;43mself\u001b[39;49m\u001b[38;5;241;43m.\u001b[39;49m\u001b[43mraw_decode\u001b[49m\u001b[43m(\u001b[49m\u001b[43ms\u001b[49m\u001b[43m,\u001b[49m\u001b[43m \u001b[49m\u001b[43midx\u001b[49m\u001b[38;5;241;43m=\u001b[39;49m\u001b[43m_w\u001b[49m\u001b[43m(\u001b[49m\u001b[43ms\u001b[49m\u001b[43m,\u001b[49m\u001b[43m \u001b[49m\u001b[38;5;241;43m0\u001b[39;49m\u001b[43m)\u001b[49m\u001b[38;5;241;43m.\u001b[39;49m\u001b[43mend\u001b[49m\u001b[43m(\u001b[49m\u001b[43m)\u001b[49m\u001b[43m)\u001b[49m\n\u001b[1;32m    338\u001b[0m     end \u001b[38;5;241m=\u001b[39m _w(s, end)\u001b[38;5;241m.\u001b[39mend()\n\u001b[1;32m    339\u001b[0m     \u001b[38;5;28;01mif\u001b[39;00m end \u001b[38;5;241m!=\u001b[39m \u001b[38;5;28mlen\u001b[39m(s):\n",
      "File \u001b[0;32m~/.conda/envs/llmenv/lib/python3.11/json/decoder.py:353\u001b[0m, in \u001b[0;36mJSONDecoder.raw_decode\u001b[0;34m(self, s, idx)\u001b[0m\n\u001b[1;32m    344\u001b[0m \u001b[38;5;250m\u001b[39m\u001b[38;5;124;03m\"\"\"Decode a JSON document from ``s`` (a ``str`` beginning with\u001b[39;00m\n\u001b[1;32m    345\u001b[0m \u001b[38;5;124;03ma JSON document) and return a 2-tuple of the Python\u001b[39;00m\n\u001b[1;32m    346\u001b[0m \u001b[38;5;124;03mrepresentation and the index in ``s`` where the document ended.\u001b[39;00m\n\u001b[0;32m   (...)\u001b[0m\n\u001b[1;32m    350\u001b[0m \n\u001b[1;32m    351\u001b[0m \u001b[38;5;124;03m\"\"\"\u001b[39;00m\n\u001b[1;32m    352\u001b[0m \u001b[38;5;28;01mtry\u001b[39;00m:\n\u001b[0;32m--> 353\u001b[0m     obj, end \u001b[38;5;241m=\u001b[39m \u001b[38;5;28;43mself\u001b[39;49m\u001b[38;5;241;43m.\u001b[39;49m\u001b[43mscan_once\u001b[49m\u001b[43m(\u001b[49m\u001b[43ms\u001b[49m\u001b[43m,\u001b[49m\u001b[43m \u001b[49m\u001b[43midx\u001b[49m\u001b[43m)\u001b[49m\n\u001b[1;32m    354\u001b[0m \u001b[38;5;28;01mexcept\u001b[39;00m \u001b[38;5;167;01mStopIteration\u001b[39;00m \u001b[38;5;28;01mas\u001b[39;00m err:\n\u001b[1;32m    355\u001b[0m     \u001b[38;5;28;01mraise\u001b[39;00m JSONDecodeError(\u001b[38;5;124m\"\u001b[39m\u001b[38;5;124mExpecting value\u001b[39m\u001b[38;5;124m\"\u001b[39m, s, err\u001b[38;5;241m.\u001b[39mvalue) \u001b[38;5;28;01mfrom\u001b[39;00m\u001b[38;5;250m \u001b[39m\u001b[38;5;28;01mNone\u001b[39;00m\n",
      "\u001b[0;31mJSONDecodeError\u001b[0m: Expecting ',' delimiter: line 1 column 749 (char 748)"
     ]
    }
   ],
   "source": [
    "format_search_results_simple(data)"
   ]
  },
  {
   "cell_type": "code",
   "execution_count": null,
   "id": "86eb383c-d35a-447b-bd57-7e04c8919592",
   "metadata": {},
   "outputs": [],
   "source": []
  }
 ],
 "metadata": {
  "kernelspec": {
   "display_name": "Python 3 (ipykernel)",
   "language": "python",
   "name": "python3"
  },
  "language_info": {
   "codemirror_mode": {
    "name": "ipython",
    "version": 3
   },
   "file_extension": ".py",
   "mimetype": "text/x-python",
   "name": "python",
   "nbconvert_exporter": "python",
   "pygments_lexer": "ipython3",
   "version": "3.11.11"
  }
 },
 "nbformat": 4,
 "nbformat_minor": 5
}
