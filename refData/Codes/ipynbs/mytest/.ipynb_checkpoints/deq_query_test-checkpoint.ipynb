{
 "cells": [
  {
   "cell_type": "code",
   "execution_count": 1,
   "id": "5c932728-aea4-4378-bd2b-ff60cf3e67a2",
   "metadata": {},
   "outputs": [],
   "source": [
    "import dspy\n",
    "import faiss\n",
    "import numpy as np\n",
    "from transformers import AutoTokenizer, AutoModelForCausalLM\n",
    "import torch\n",
    "from sentence_transformers import SentenceTransformer\n",
    "from langchain.vectorstores import FAISS as LangchainFAISS\n",
    "from langchain_community.vectorstores import FAISS\n",
    "# from langchain_community.embeddings import HuggingFaceEmbeddings\n",
    "from langchain_huggingface import HuggingFaceEmbeddings\n",
    "import pandas as pd\n",
    "from dotenv import load_dotenv\n",
    "import os"
   ]
  },
  {
   "cell_type": "code",
   "execution_count": null,
   "id": "c0b55996-1806-4d59-9903-dbb8f776219b",
   "metadata": {},
   "outputs": [],
   "source": []
  },
  {
   "cell_type": "code",
   "execution_count": 2,
   "id": "32eaa349-8e8a-4ed1-b4c0-540252ae392b",
   "metadata": {},
   "outputs": [],
   "source": [
    "class CustomFAISSRetriever(dspy.Retrieve):\n",
    "    def load_index(self, idx_path=None, model_name:str=None):\n",
    "        try:\n",
    "            index = faiss.read_index(idx_path)\n",
    "            print(f\"成功載入FAISS索引，包含 {index.ntotal} 個向量\")\n",
    "            return index\n",
    "        except Exception as e:\n",
    "            print(f\"索引載入失敗: {str(e)}\")\n",
    "            return None\n",
    "\n",
    "    def load_local_db(self, local_db_path=None, embeddings=None):\n",
    "        try:\n",
    "            db = LangchainFAISS.load_local(\n",
    "                folder_path=local_db_path,\n",
    "                embeddings=embeddings,\n",
    "                allow_dangerous_deserialization=True\n",
    "            )\n",
    "            print(f\"載入成功，共 {db.index.ntotal} 筆技術問答\")\n",
    "            return db\n",
    "        except Exception as e:\n",
    "            print(f\"向量庫載入異常: {str(e)}\")\n",
    "            return None\n",
    "            \n",
    "    def __init__(self, faiss_index_path, vector_db_path, k=2):\n",
    "        super().__init__()\n",
    "        self.k = k\n",
    "        # 使用同一個模型名稱\n",
    "        self.model_name = \"paraphrase-multilingual-MiniLM-L12-v2\"\n",
    "        \n",
    "        # 初始化 embeddings\n",
    "        self.embeddings = HuggingFaceEmbeddings(\n",
    "            model_name=self.model_name\n",
    "        )\n",
    "        \n",
    "        # 載入 FAISS 索引\n",
    "        self.index = self.load_index(faiss_index_path)\n",
    "        \n",
    "        # 載入向量庫\n",
    "        self.vector_db = self.load_local_db(vector_db_path, self.embeddings)\n",
    "        \n",
    "        # 使用相同的模型進行查詢編碼\n",
    "        self.model = SentenceTransformer(self.model_name)\n",
    "\n",
    "    def __call__(self, query):\n",
    "        # 編碼查詢\n",
    "        query_embedding = self.model.encode(\n",
    "            query,\n",
    "            convert_to_tensor=False,\n",
    "            show_progress_bar=False  # 對單一查詢關閉進度條\n",
    "        )\n",
    "        query_embedding = query_embedding.reshape(-1,1).T\n",
    "        # query_embedding = query_embedding.cpu().numpy()\n",
    "        query_embedding = query_embedding.astype(np.float32)\n",
    "        \n",
    "        # 搜索向量庫\n",
    "        \"\"\"\n",
    "        question = input(\"Enter your query:\")\n",
    "        searchDocs = db.similarity_search(question)\n",
    "        print(searchDocs[0].page_content)\n",
    "        \"\"\"\n",
    "        # docs = self.vector_db.similarity_search_with_score(query_embedding, k=self.k)\n",
    "        # docs = self.vector_db.similarity_search(query_embedding, k=self.k)\n",
    "        distances, pos = self.index.search(query_embedding, k=self.k)\n",
    "        # print(distance)\n",
    "        # print(pos)\n",
    "        # return the pos for retrieving data from answers\n",
    "        return pos, distances;"
   ]
  },
  {
   "cell_type": "code",
   "execution_count": 3,
   "id": "f2ddad1c-01d4-4a0f-b9f8-f4baf7593994",
   "metadata": {},
   "outputs": [],
   "source": [
    "# load_dotenv();\n",
    "# model_name = os.getenv(\"SENTENCE_MODEL\");\n",
    "# print(f\"mode is {model_name}\");\n",
    "# faiss_index_path = os.getenv(\"INDEX_PATH\")\n",
    "# print(f\"Iindex is {faiss_index_path}\");\n",
    "# faiss_db_path = os.getenv(\"FAISS_DB\")\n",
    "# print(f\"DB is {faiss_db_path}\")"
   ]
  },
  {
   "cell_type": "code",
   "execution_count": 4,
   "id": "95360e1c-54dc-408a-9780-271f8f825289",
   "metadata": {},
   "outputs": [
    {
     "name": "stdout",
     "output_type": "stream",
     "text": [
      "成功載入FAISS索引，包含 28 個向量\n",
      "載入成功，共 28 筆技術問答\n",
      "faiss retriever is created successfully\n"
     ]
    }
   ],
   "source": [
    "retriever=CustomFAISSRetriever(faiss_index_path=\"./db/20250307v1/dqe_learn_vdb_index.faiss\", vector_db_path=\"./db/20250307v1/dqe_learn_vdb_faiss/\")\n",
    "if retriever:\n",
    "    print(\"faiss retriever is created successfully\");"
   ]
  },
  {
   "cell_type": "code",
   "execution_count": null,
   "id": "ff74d504-f25c-4f36-ae72-5d2bf7fb06c5",
   "metadata": {},
   "outputs": [],
   "source": []
  },
  {
   "cell_type": "code",
   "execution_count": 10,
   "id": "925a2c93-7273-4340-9abb-3a3958a900d2",
   "metadata": {},
   "outputs": [],
   "source": [
    "# def search_similar_questions_by_vdb(retriever, question):\n",
    "#     _docs= retriever(question)\n",
    "#     print(f\"{_docs[0].page_content}\")\n",
    "    # return pos, distances"
   ]
  },
  {
   "cell_type": "code",
   "execution_count": 11,
   "id": "a13be465-0594-40ef-83cc-4efc7d619b0a",
   "metadata": {},
   "outputs": [],
   "source": [
    "# search_similar_questions_by_vdb(retriever, \"电池鼓包的问题\")"
   ]
  },
  {
   "cell_type": "code",
   "execution_count": null,
   "id": "4ca3e4e4-dca3-4078-bc04-c78b078de5bc",
   "metadata": {},
   "outputs": [],
   "source": []
  },
  {
   "cell_type": "code",
   "execution_count": 6,
   "id": "1e8a1fe0-9853-42eb-aaea-8cce353a18f1",
   "metadata": {},
   "outputs": [],
   "source": [
    "def search_similar_questions_by_index(retriever, question):\n",
    "    pos, distances = retriever(question)\n",
    "    return pos, distances"
   ]
  },
  {
   "cell_type": "code",
   "execution_count": 12,
   "id": "b11b9149-ccf0-47ca-90d2-bbfac071e6cd",
   "metadata": {},
   "outputs": [],
   "source": [
    "df = pd.read_csv(\"../../../../doc/deq_learn_refine2_correct.csv\");"
   ]
  },
  {
   "cell_type": "code",
   "execution_count": 37,
   "id": "ac01cc26-2ba9-47c3-9729-36ef22f4afe6",
   "metadata": {},
   "outputs": [],
   "source": [
    "def do_query_by_index(query:str=None):\n",
    "    _pos, _distances = search_similar_questions(retriever, query)\n",
    "    print(f\"問題: {query}\")\n",
    "    print(\"\\nAI-Response:\")\n",
    "    count = 0\n",
    "    for i in _pos[0]:\n",
    "        count+=1;\n",
    "        if i >= 0:\n",
    "            print(f\"第{count}筆回答：\\n\")\n",
    "            print(f\"模块:\\n{df['模块'][i]}\")\n",
    "            print(f\"严重度:\\n{df['严重度'][i]}\")\n",
    "            print(f\"问题现象描述:\\n{df['问题现象描述'][i]}\")\n",
    "            print(f\"原因分析:\\n{df['原因分析'][i]}\")\n",
    "            print(f\"改善对策:\\n{df['改善对策'][i]}\")\n",
    "            print(f\"经验萃取:\\n{df['经验萃取'][i]}\")\n",
    "            print(f\"评审后优化:\\n{df['评审后优化'][i]}\")\n",
    "            print(f\"评分:\\n{df['评分'][i]}\")\n",
    "            print(\"=============================================================================================================\")\n",
    "        else:\n",
    "            print(f\"第{count}筆回答：\\n\")\n",
    "            print(\"未找到资料\")"
   ]
  },
  {
   "cell_type": "code",
   "execution_count": 35,
   "id": "67982143-53d8-427b-8396-34b6cc0fe694",
   "metadata": {},
   "outputs": [
    {
     "name": "stdout",
     "output_type": "stream",
     "text": [
      "[[8.3733521e+00 3.4028235e+38]]\n",
      "[[27 -1]]\n",
      "問題: 电池鼓包的问题\n",
      "\n",
      "AI-Response:\n",
      "第1筆回答：\n",
      "\n",
      "模块:\n",
      "软件\n",
      "严重度:\n",
      "A\n",
      "问题现象描述:\n",
      "高温运行过程中电池不充电\n",
      "原因分析:\n",
      "电池在超过45℃时（电池反馈给EC的温度）有电池保护，不充电\n",
      "改善对策:\n",
      "经确认电池规格为60℃温度保护，与EC确认更改EC设置与电池保持一致，即按照60℃温度保护设定\n",
      "经验萃取:\n",
      "EC设定电池保护温度时需要确认与电池规格书一致\n",
      "评审后优化:\n",
      "EC设定电池保护温度时需要确认与电池规格书一致\n",
      "评分:\n",
      "4.0\n",
      "=============================================================================================================\n",
      "第2筆回答：\n",
      "\n",
      "未找到资料\n"
     ]
    }
   ],
   "source": [
    "question = \"电池鼓包的问题\"\n",
    "do_query(query=question)"
   ]
  },
  {
   "cell_type": "code",
   "execution_count": null,
   "id": "76ee7772-8487-434d-9328-8b9840818030",
   "metadata": {},
   "outputs": [],
   "source": []
  }
 ],
 "metadata": {
  "kernelspec": {
   "display_name": "Python 3 (ipykernel)",
   "language": "python",
   "name": "python3"
  },
  "language_info": {
   "codemirror_mode": {
    "name": "ipython",
    "version": 3
   },
   "file_extension": ".py",
   "mimetype": "text/x-python",
   "name": "python",
   "nbconvert_exporter": "python",
   "pygments_lexer": "ipython3",
   "version": "3.11.11"
  }
 },
 "nbformat": 4,
 "nbformat_minor": 5
}
