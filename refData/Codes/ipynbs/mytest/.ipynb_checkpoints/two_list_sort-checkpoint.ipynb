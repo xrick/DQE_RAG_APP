{
 "cells": [
  {
   "cell_type": "code",
   "execution_count": null,
   "id": "22c7e3a0-1caa-4d6b-ba05-370a9f383ec8",
   "metadata": {},
   "outputs": [],
   "source": []
  },
  {
   "cell_type": "code",
   "execution_count": null,
   "id": "d50f3941-25df-43fa-a6f1-b42cf3e57429",
   "metadata": {},
   "outputs": [],
   "source": []
  },
  {
   "cell_type": "markdown",
   "id": "c3594ae7-0c8b-4fc7-96fa-aa5ed863ed46",
   "metadata": {},
   "source": [
    "#### Two Lists Sorting\n",
    "A = [2, 7, 11, 8]\n",
    "B = [1.245, 8.654, 4.323, 5.765]"
   ]
  },
  {
   "cell_type": "code",
   "execution_count": 1,
   "id": "48d26652-7411-4985-9d13-a679e47b6cf5",
   "metadata": {},
   "outputs": [
    {
     "name": "stdout",
     "output_type": "stream",
     "text": [
      "Sorted A: [2, 11, 8, 7]\n",
      "Sorted B: [1.245, 4.323, 5.765, 8.654]\n"
     ]
    }
   ],
   "source": [
    "# 初始数据\n",
    "A = [2, 7, 11, 8]\n",
    "B = [1.245, 8.654, 4.323, 5.765]\n",
    "\n",
    "# 根据B值排序两个列表\n",
    "sorted_pairs = sorted(zip(B, A), key=lambda x: x[0])\n",
    "B_sorted, A_sorted = zip(*sorted_pairs) if sorted_pairs else ([], [])\n",
    "\n",
    "\n",
    "# 转换为列表类型\n",
    "A_sorted = list(A_sorted)\n",
    "B_sorted = list(B_sorted)\n",
    "\n",
    "print(\"Sorted A:\", A_sorted)  # 输出：[2, 11, 8, 7]\n",
    "print(\"Sorted B:\", B_sorted)  # 输出：[1.245, 4.323, 5.765, 8.654]"
   ]
  },
  {
   "cell_type": "code",
   "execution_count": null,
   "id": "9632d892-16e9-421f-bd35-3d9dc1ac80ac",
   "metadata": {},
   "outputs": [],
   "source": []
  }
 ],
 "metadata": {
  "kernelspec": {
   "display_name": "Python 3 (ipykernel)",
   "language": "python",
   "name": "python3"
  },
  "language_info": {
   "codemirror_mode": {
    "name": "ipython",
    "version": 3
   },
   "file_extension": ".py",
   "mimetype": "text/x-python",
   "name": "python",
   "nbconvert_exporter": "python",
   "pygments_lexer": "ipython3",
   "version": "3.11.11"
  }
 },
 "nbformat": 4,
 "nbformat_minor": 5
}
