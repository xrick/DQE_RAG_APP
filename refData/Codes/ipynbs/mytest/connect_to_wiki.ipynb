{
 "cells": [
  {
   "cell_type": "code",
   "execution_count": 36,
   "id": "b5b3f96d-b51a-4198-9a8e-43e0d7ab3a12",
   "metadata": {},
   "outputs": [],
   "source": [
    "from abc import ABC, abstractmethod\n",
    "from typing import Optional, Any, Dict, List\n",
    "from langchain.prompts import PromptTemplate\n",
    "from langchain.chains import LLMChain\n",
    "from langchain_ollama import OllamaLLM\n",
    "'''\n",
    "'''\n",
    "from langchain_community.tools import WikipediaQueryRun\n",
    "from langchain_community.utilities import WikipediaAPIWrapper"
   ]
  },
  {
   "cell_type": "code",
   "execution_count": 37,
   "id": "fd33bab9-1cce-48ce-a6ce-c923883a16f7",
   "metadata": {},
   "outputs": [],
   "source": [
    "import logging\n",
    "import re"
   ]
  },
  {
   "cell_type": "code",
   "execution_count": null,
   "id": "d80d2e3d-f85d-417d-8d9f-5205bc1df244",
   "metadata": {},
   "outputs": [],
   "source": []
  },
  {
   "cell_type": "code",
   "execution_count": 38,
   "id": "48486796-a3cd-4481-8bce-cc338dfbdb10",
   "metadata": {},
   "outputs": [],
   "source": [
    "class ContentProcessor:\n",
    "    def __init__(self):\n",
    "        # HTML 符號替換映射\n",
    "        self.html_replacements = {\n",
    "            '\\n': '<br>',\n",
    "            '-': '&ndash;',\n",
    "            '\"': '&quot;',\n",
    "            \"'\": '&apos;',\n",
    "            '(': '&#40;',\n",
    "            ')': '&#41;',\n",
    "        }\n",
    "    \n",
    "    def split_pages(self, content: str) -> List[Dict[str, str]]:\n",
    "        \"\"\"\n",
    "        將內容按頁面分割並進行格式化\n",
    "        \n",
    "        Args:\n",
    "            content: 原始內容字符串\n",
    "        \n",
    "        Returns:\n",
    "            包含每個頁面信息的字典列表\n",
    "        \"\"\"\n",
    "        try:\n",
    "            # 使用 \\n\\n 分割頁面\n",
    "            pages = content.split('\\n\\n')\n",
    "            result = []\n",
    "            \n",
    "            for page in pages:\n",
    "                if page.startswith('Page:'):\n",
    "                    # 分離頁面標題和內容\n",
    "                    parts = page.split('\\nSummary: ', 1)\n",
    "                    if len(parts) == 2:\n",
    "                        title = parts[0].replace('Page: ', '')\n",
    "                        content = parts[1]\n",
    "                        \n",
    "                        # 處理HTML符號\n",
    "                        processed_content = self.replace_symbols(content)\n",
    "                        \n",
    "                        result.append({\n",
    "                            'title': title,\n",
    "                            'content': processed_content\n",
    "                        })\n",
    "            \n",
    "            return result\n",
    "        except Exception as e:\n",
    "            print(f\"分割頁面時發生錯誤: {str(e)}\")\n",
    "            return []\n",
    "    \n",
    "    def replace_symbols(self, text: str) -> str:\n",
    "        \"\"\"\n",
    "        替換文本中的符號為HTML標籤\n",
    "        \n",
    "        Args:\n",
    "            text: 需要處理的文本\n",
    "        \n",
    "        Returns:\n",
    "            處理後的文本\n",
    "        \"\"\"\n",
    "        try:\n",
    "            # 使用預定義的替換規則\n",
    "            for symbol, html_tag in self.html_replacements.items():\n",
    "                text = text.replace(symbol, html_tag)\n",
    "            \n",
    "            # 處理特殊的Unicode字符\n",
    "            text = re.sub(r'\\u2060', '', text)  # 移除零寬不換行空格\n",
    "            \n",
    "            return text\n",
    "        except Exception as e:\n",
    "            print(f\"替換符號時發生錯誤: {str(e)}\")\n",
    "            return text"
   ]
  },
  {
   "cell_type": "code",
   "execution_count": 43,
   "id": "1b9b44de-dee9-4e49-9710-5eeaf7aa5213",
   "metadata": {},
   "outputs": [
    {
     "data": {
      "text/plain": [
       "'\\ndef main():\\n    # 使用示例\\n    processor = ContentProcessor()\\n\\n    # 測試內容\\n    test_content = \\'\\'\\'Page: BIOS\\nSummary: In computing, BIOS (, BY-oss, -\\u2060ohss; Basic Input/Output System...\\n\\nPage: BIOS interrupt call\\nSummary: BIOS implementations provide interrupts...\\'\\'\\'\\n\\n    # 處理內容\\n    pages = processor.split_pages(test_content)\\n\\n    # 輸出結果\\n    for page in pages:\\n        print(f\"\\n標題: {page[\\'title\\']}\")\\n        print(f\"內容: {page[\\'content\\'][:100]}...\")  # 只顯示前100個字符\\n'"
      ]
     },
     "execution_count": 43,
     "metadata": {},
     "output_type": "execute_result"
    }
   ],
   "source": [
    "\"\"\"\n",
    "def main():\n",
    "    # 使用示例\n",
    "    processor = ContentProcessor()\n",
    "    \n",
    "    # 測試內容\n",
    "    test_content = '''Page: BIOS\n",
    "Summary: In computing, BIOS (, BY-oss, -\\u2060ohss; Basic Input/Output System...\n",
    "\n",
    "Page: BIOS interrupt call\n",
    "Summary: BIOS implementations provide interrupts...'''\n",
    "    \n",
    "    # 處理內容\n",
    "    pages = processor.split_pages(test_content)\n",
    "    \n",
    "    # 輸出結果\n",
    "    for page in pages:\n",
    "        print(f\"\\n標題: {page['title']}\")\n",
    "        print(f\"內容: {page['content'][:100]}...\")  # 只顯示前100個字符\n",
    "\"\"\""
   ]
  },
  {
   "cell_type": "code",
   "execution_count": 41,
   "id": "a9aa4d02-0453-4f87-a1d2-402f80677123",
   "metadata": {},
   "outputs": [],
   "source": [
    "wikipedia = WikipediaQueryRun(api_wrapper=WikipediaAPIWrapper(), )"
   ]
  },
  {
   "cell_type": "code",
   "execution_count": 45,
   "id": "0bdd63dd-fcc3-46e5-adc8-4ea2ea5efdeb",
   "metadata": {},
   "outputs": [
    {
     "name": "stdout",
     "output_type": "stream",
     "text": [
      "\n",
      "標題: BIOS\n",
      "內容: In computing, BIOS &#40;, BY&ndash;oss, &ndash;ohss; Basic Input/Output System, also known as the Sy...\n",
      "\n",
      "標題: BIOS interrupt call\n",
      "內容: BIOS implementations provide interrupts that can be invoked by operating systems and application pro...\n"
     ]
    }
   ],
   "source": [
    "raw_content = wikipedia.run(\"Bios programming\")\n",
    "processor = ContentProcessor()\n",
    "pages = processor.split_pages(raw_content)\n",
    "for page in pages:\n",
    "        print(f\"\\n標題: {page['title']}\")\n",
    "        print(f\"內容: {page['content'][:100]}...\")  # 只顯示前100個字符"
   ]
  },
  {
   "cell_type": "code",
   "execution_count": 22,
   "id": "f9277548-ddff-47fc-9614-41e120948f8c",
   "metadata": {},
   "outputs": [],
   "source": [
    "class LLMInitializer:\n",
    "    \"\"\"LLM模型初始化類\"\"\"\n",
    "    \n",
    "    def __init__(self):\n",
    "        self.logger = logging.getLogger(__name__)\n",
    "    \n",
    "    def init_ollama_model(\n",
    "        self, \n",
    "        model: str = \"deepseek-r1:7b\",\n",
    "        base_url: str = \"http://localhost:11434\",\n",
    "        **kwargs\n",
    "    ) -> OllamaLLM:\n",
    "        \"\"\"初始化OllamaLLM模型\n",
    "        \n",
    "        Args:\n",
    "            model: Ollama模型名稱\n",
    "            base_url: Ollama服務URL\n",
    "            **kwargs: 額外的模型參數\n",
    "            \n",
    "        Returns:\n",
    "            初始化後的OllamaLLM實例\n",
    "        \"\"\"\n",
    "        try:\n",
    "            return OllamaLLM(\n",
    "                model=model,\n",
    "                base_url=base_url,\n",
    "                **kwargs\n",
    "            )\n",
    "        except Exception as e:\n",
    "            self.logger.error(f\"OllamaLLM模型初始化失敗: {str(e)}\")\n",
    "            raise"
   ]
  },
  {
   "cell_type": "code",
   "execution_count": 27,
   "id": "d82bb58c-65ff-461a-997e-f3417e4c6c8a",
   "metadata": {},
   "outputs": [],
   "source": [
    "class ContentSummarizer(ABC):\n",
    "    \"\"\"內容摘要基類\"\"\"\n",
    "    \n",
    "    def __init__(self, llm: Any):\n",
    "        self.logger = logging.getLogger(__name__)\n",
    "        self.llm = llm\n",
    "        \n",
    "        template = \"\"\"\n",
    "        Role: You are an experienced and well-skilled text summarizer.\n",
    "        Task:\n",
    "        Please summarize the following context:\n",
    "        \n",
    "        {context}\n",
    "        \n",
    "        Please provide:\n",
    "        1. Abstract: A very short overview\n",
    "        2. Summarization Content (100-500 words):\n",
    "           a. Most important points\n",
    "           b. Extended content\n",
    "        Use technical and formal style.\n",
    "        \"\"\"\n",
    "        \n",
    "        self.prompt = PromptTemplate(\n",
    "            input_variables=[\"context\"],\n",
    "            template=template\n",
    "        )\n",
    "        \n",
    "        self.chain = self.prompt | self.llm#LLMChain(llm=self.llm, prompt=self.prompt)\n",
    "    \n",
    "    @abstractmethod\n",
    "    def get_content(self, query: str) -> Optional[str]:\n",
    "        \"\"\"獲取要摘要的內容\"\"\"\n",
    "        pass\n",
    "    \n",
    "    def generate_summary(self, content: str) -> Optional[str]:\n",
    "        \"\"\"生成內容摘要\"\"\"\n",
    "        try:\n",
    "            return self.chain.run(context=content)\n",
    "        except Exception as e:\n",
    "            self.logger.error(f\"摘要生成失敗: {str(e)}\")\n",
    "            return None\n",
    "\n",
    "class WikiSummarizer(ContentSummarizer):\n",
    "    \"\"\"Wikipedia內容摘要器\"\"\"\n",
    "    \n",
    "    def __init__(self, llm: Any):\n",
    "        super().__init__(llm)\n",
    "        # self.wiki = WikipediaAPIWrapper()\n",
    "        self.wiki = WikipediaQueryRun(api_wrapper=WikipediaAPIWrapper(), )\n",
    "    \n",
    "    def get_content(self, query: str) -> Optional[str]:\n",
    "        \"\"\"從Wikipedia獲取內容\"\"\"\n",
    "        try:\n",
    "            return self.wiki.run(query)\n",
    "        except Exception as e:\n",
    "            self.logger.error(f\"Wikipedia檢索失敗: {str(e)}\")\n",
    "            return None\n",
    "    \n",
    "    def summarize(self, query: str) -> Optional[str]:\n",
    "        \"\"\"摘要Wikipedia內容\"\"\"\n",
    "        content = self.get_content(query)\n",
    "        if not content:\n",
    "            return None\n",
    "        return self.generate_summary(content)"
   ]
  },
  {
   "cell_type": "code",
   "execution_count": 28,
   "id": "52796a24-9cc9-451f-90bb-f4a369dc86cd",
   "metadata": {},
   "outputs": [],
   "source": [
    "def test_main(query:str=None):\n",
    "    llm_init = LLMInitializer()\n",
    "    \n",
    "    try:\n",
    "        # 初始化deepseek-r1:7b模型\n",
    "        llm = llm_init.init_ollama_model(\n",
    "            model=\"deepseek-r1:7b\",\n",
    "            temperature=0.7\n",
    "        )\n",
    "        \n",
    "        # 創建摘要器並使用\n",
    "        wiki_summarizer = WikiSummarizer(llm)\n",
    "        summary = wiki_summarizer.summarize(query)\n",
    "        print(f\"查詢內容：{query}\\n回傳結果:\\n{summary}\")\n",
    "        \n",
    "    except Exception as e:\n",
    "        print(f\"Error: {str(e)}\")"
   ]
  },
  {
   "cell_type": "code",
   "execution_count": 29,
   "id": "319dab5d-853a-4d53-a595-e89c4f2a6fbb",
   "metadata": {},
   "outputs": [
    {
     "name": "stderr",
     "output_type": "stream",
     "text": [
      "/Users/xrickliao/miniconda3/miniconda3/envs/llmenv/lib/python3.11/site-packages/wikipedia/wikipedia.py:389: GuessedAtParserWarning: No parser was explicitly specified, so I'm using the best available HTML parser for this system (\"lxml\"). This usually isn't a problem, but if you run this code on another system, or in a different virtual environment, it may use a different parser and behave differently.\n",
      "\n",
      "The code that caused this warning is on line 389 of the file /Users/xrickliao/miniconda3/miniconda3/envs/llmenv/lib/python3.11/site-packages/wikipedia/wikipedia.py. To get rid of this warning, pass the additional argument 'features=\"lxml\"' to the BeautifulSoup constructor.\n",
      "\n",
      "  lis = BeautifulSoup(html).find_all('li')\n",
      "摘要生成失敗: 'RunnableSequence' object has no attribute 'run'\n"
     ]
    },
    {
     "name": "stdout",
     "output_type": "stream",
     "text": [
      "查詢內容：bios\n",
      "回傳結果:\n",
      "None\n"
     ]
    }
   ],
   "source": [
    "test_main(\"bios\")"
   ]
  },
  {
   "cell_type": "code",
   "execution_count": null,
   "id": "f4c43293-db08-4467-a2f9-4c377fceff26",
   "metadata": {},
   "outputs": [],
   "source": []
  },
  {
   "cell_type": "code",
   "execution_count": null,
   "id": "40cd45e9-2c03-41bd-935e-1ec0f1eeb39b",
   "metadata": {},
   "outputs": [],
   "source": []
  }
 ],
 "metadata": {
  "kernelspec": {
   "display_name": "Python 3 (ipykernel)",
   "language": "python",
   "name": "python3"
  },
  "language_info": {
   "codemirror_mode": {
    "name": "ipython",
    "version": 3
   },
   "file_extension": ".py",
   "mimetype": "text/x-python",
   "name": "python",
   "nbconvert_exporter": "python",
   "pygments_lexer": "ipython3",
   "version": "3.11.11"
  }
 },
 "nbformat": 4,
 "nbformat_minor": 5
}
