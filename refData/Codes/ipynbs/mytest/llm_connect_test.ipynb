{
 "cells": [
  {
   "cell_type": "code",
   "execution_count": 1,
   "id": "730cfa51-072a-4dd0-a48e-d10a44154bef",
   "metadata": {},
   "outputs": [],
   "source": [
    "import dspy"
   ]
  },
  {
   "cell_type": "code",
   "execution_count": null,
   "id": "0fd7fba7-8152-4baa-9dd9-d3f15af449ba",
   "metadata": {},
   "outputs": [],
   "source": []
  },
  {
   "cell_type": "markdown",
   "id": "a2ec955a-a658-4b3a-8594-af7e78e2bca6",
   "metadata": {},
   "source": [
    "#### connect DeepSeek-v2"
   ]
  },
  {
   "cell_type": "code",
   "execution_count": 2,
   "id": "3648390e-254b-419d-a011-75f111be9501",
   "metadata": {},
   "outputs": [],
   "source": [
    "def InitializeLLM_DeepSeek():\n",
    "    local_config = {\n",
    "        \"api_base\": \"http://localhost:11434/v1\",  # 注意需加/v1路徑\n",
    "        \"api_key\": \"NULL\",  # 特殊標記用於跳過驗證\n",
    "        \"model\": \"deepseek-v2\",\n",
    "        \"custom_llm_provider\":\"deepseek\"\n",
    "    }\n",
    "    dspy.configure(\n",
    "        lm=dspy.LM(\n",
    "            **local_config\n",
    "        )\n",
    "    )\n",
    "InitializeLLM_DeepSeek()"
   ]
  },
  {
   "cell_type": "markdown",
   "id": "333e6c69-347e-408d-8d0d-fa510733085a",
   "metadata": {},
   "source": [
    "#### connect Qwen-2.5"
   ]
  },
  {
   "cell_type": "code",
   "execution_count": 27,
   "id": "e7dbc588-0ddc-4986-9f71-34d412711580",
   "metadata": {},
   "outputs": [],
   "source": [
    "# def InitializeLLM_QWen():\n",
    "#     local_config = {\n",
    "#         \"api_base\": \"http://localhost:11434/\",  # 注意需加/v1路徑\n",
    "#         \"api_key\": \"NULL\",  # 特殊標記用於跳過驗證\n",
    "#         \"model\": \"Qwen2.5-14B\",\n",
    "#         \"custom_llm_provider\":\"Qwen\"\n",
    "#     }\n",
    "#     dspy.configure(\n",
    "#         lm=dspy.LM(\n",
    "#             **local_config\n",
    "#         )\n",
    "#     )\n",
    "# def InitializeLLM_QWen():\n",
    "#     lm = dspy.LM('qwen/qwen2.5:14b', api_base='http://localhost:11434', api_key='')\n",
    "#     dspy.configure(lm=lm)\n",
    "    \n",
    "# InitializeLLM_QWen()"
   ]
  },
  {
   "cell_type": "code",
   "execution_count": 3,
   "id": "a14ba478-de28-4d1e-8245-ca03347bc424",
   "metadata": {},
   "outputs": [],
   "source": [
    "def llm_predict(queryStr:str=None):\n",
    "    if queryStr == None:\n",
    "        raise ValueError(\"query string is none, please input query string.\")\n",
    "    promptPatternStr = \"question -> answer\"\n",
    "    qa = dspy.Predict(promptPatternStr);\n",
    "    response = qa(question=queryStr);\n",
    "    print(f\"llm:{response.answer}\");"
   ]
  },
  {
   "cell_type": "code",
   "execution_count": 4,
   "id": "1c9571c6-795a-4acb-80da-49402518fb87",
   "metadata": {},
   "outputs": [
    {
     "name": "stdout",
     "output_type": "stream",
     "text": [
      "llm:我可以为您提供多种服务，包括但不限于语言翻译、信息查询、旅行规划和建议等。如果您有任何问题或需要帮助，请随时告诉我！\n"
     ]
    }
   ],
   "source": [
    "llm_predict(\"你可以為我提供什麼服務\")"
   ]
  },
  {
   "cell_type": "markdown",
   "id": "5949177d-bd73-4165-a3c9-7eb66095391c",
   "metadata": {},
   "source": []
  },
  {
   "cell_type": "markdown",
   "id": "f9e8e5cd-1b78-4366-8edd-afc97e4da3c1",
   "metadata": {},
   "source": [
    "×××××"
   ]
  },
  {
   "cell_type": "code",
   "execution_count": null,
   "id": "1998e756-4aa4-4ede-a9a8-23b160d4035c",
   "metadata": {},
   "outputs": [],
   "source": []
  }
 ],
 "metadata": {
  "kernelspec": {
   "display_name": "Python 3 (ipykernel)",
   "language": "python",
   "name": "python3"
  },
  "language_info": {
   "codemirror_mode": {
    "name": "ipython",
    "version": 3
   },
   "file_extension": ".py",
   "mimetype": "text/x-python",
   "name": "python",
   "nbconvert_exporter": "python",
   "pygments_lexer": "ipython3",
   "version": "3.11.11"
  }
 },
 "nbformat": 4,
 "nbformat_minor": 5
}
