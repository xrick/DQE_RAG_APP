{
 "cells": [
  {
   "cell_type": "code",
   "execution_count": 6,
   "id": "aa54d2ad-7910-4dc9-a70b-f34b994a4382",
   "metadata": {},
   "outputs": [],
   "source": [
    "import http.client\n",
    "import json"
   ]
  },
  {
   "cell_type": "code",
   "execution_count": 13,
   "id": "01de31e3-8514-4410-993a-ba3394e054c6",
   "metadata": {},
   "outputs": [
    {
     "name": "stdout",
     "output_type": "stream",
     "text": [
      "[{'title': '固态硬盘突然检测不到', 'link': 'https://www.crucial.cn/articles/about-ssd/how-to-deal-with-the-failure-of-ssd-detection', 'snippet': '判断掉盘原因，一般有几个原因，比如异常断电导致、SATA接口松动、链接电源管理、固件bug，发生掉盘较多的是异常断电导致FTL损毁而掉盘，或者是固件bug，如果是固件bug，去更新 ...', 'position': 1}, {'title': '固态硬盘不识别怎么办？教你一招简单的修复方法，超级实用', 'link': 'https://www.bilibili.com/video/BV13X4y1K7vK/', 'snippet': '固态硬盘突然检测不到了，尝试以下9种简单方法，拯救你的固态硬盘：实用的排查步骤. 固态硬盘坏了不要扔，这样操作，让它满血复活！', 'position': 2}, {'title': '[主板] 开机后无法识别硬盘或SSD(M.2)的故障排除方式| 官方支持 - 华硕', 'link': 'https://www.asus.com.cn/support/faq/1044083/', 'snippet': '计算机开机后，无法正常检测到硬盘或SSD，请确认BIOS选项设置和检查硬盘或SSD的方式做故障排除：. 确认BIOS选项设置; 确认硬盘或SSD. 确认BIOS选项设置.', 'date': 'Mar 30, 2024', 'position': 3}, {'title': '固态硬盘能被识别但是不能读取，如何恢复数据吗?', 'link': 'https://zhuanlan.zhihu.com/p/648651437', 'snippet': '如果文件系统在固态硬盘上受损，操作系统可能无法正确读取数据。 这可能发生在不正确地关闭计算机、意外断电或者意外的硬盘错误操作等情况下。 在这种情况 ...', 'date': 'Aug 8, 2023', 'position': 4}, {'title': 'SSD固态硬盘：掉盘的四大类原因转载 - CSDN博客', 'link': 'https://blog.csdn.net/flyingbike/article/details/143617901', 'snippet': '如果还是有问题，请先进行热启动，就是不断电的情况下重启，可以从快捷菜单找到重启菜单，点击重启。如果在BIOS和快捷启动菜单中识别不到硬盘，就要冷启动硬盘， ...', 'date': 'Nov 8, 2024', 'position': 5}, {'title': '如何解决固态硬盘无法识别的问题 - 知乎专栏', 'link': 'https://zhuanlan.zhihu.com/p/564596516', 'snippet': '2、确认BIOS中能够识别SSD，SSD的容量信息正确，若识别不到，关机后尝试重新插拔SSD。 3、确认BIOS中SSD相应的接口未被禁用，如SATA，M.2 SATA接口等，若显示值 ...', 'date': 'Sep 15, 2022', 'position': 6}, {'title': '硬盘读不出来 - 美光半导体| Crucial 英睿达', 'link': 'https://www.crucial.cn/articles/about-ssd/what-if-the-hard-disk-cannot-be-detected', 'snippet': '硬盘读不出来有很多种情况，一般情况下我们需要对问题进行排查，来判断是什么原因导致的读不出来。比如是硬盘本身损毁，还是其他设置问题。 问题判断.', 'position': 7}, {'title': 'ssd磁盘不识别，ssd读不到盘 - 硬盘数据恢复', 'link': 'https://www.easy-recovery.cn/news/1031.html', 'snippet': '摘要: · 一、检查硬件连接 · SATA或NVMe接口连接是否牢固 · 检查SSD硬盘与主板兼容性 · 尝试更换数据线和接口位置 · BIOS设置确认 · 电源供给不足 · 二、 ...', 'date': 'Sep 27, 2024', 'position': 8}, {'title': '新装的固态硬盘不显示怎么办？ - 百度经验', 'link': 'https://jingyan.baidu.com/article/92255446751533851648f43b.html', 'snippet': '1/4 分步阅读. 首先检查电脑是否识别了固态硬盘，也就是数据线是否插好。 对我的电脑点右键，选择属性。 2/4. 点击设备管理器.', 'date': 'Mar 12, 2018', 'position': 9}, {'title': '小科普| 硬盘“掉盘”你遇到过吗？', 'link': 'https://www.bilibili.com/read/cv6200655/', 'snippet': '如果是分区表出问题，通常是能识别到设备但是读不出盘，这时候需要用到DiskGenius之类的分区软件，通过重建分区来找回文件。 如果是机械硬盘，不排除用太久 ...', 'date': 'May 25, 2020', 'position': 10}]\n"
     ]
    }
   ],
   "source": [
    "conn = http.client.HTTPSConnection(\"google.serper.dev\")\n",
    "payload = json.dumps({\n",
    "  \"q\": \"SSD不读盘\"\n",
    "})\n",
    "headers = {\n",
    "  'X-API-KEY': '3026422e86bf19796a06b5f15433e9c0cd9bd88a',\n",
    "  'Content-Type': 'application/json'\n",
    "}\n",
    "conn.request(\"POST\", \"/search\", payload, headers)\n",
    "res = conn.getresponse()\n",
    "data = res.read()\n",
    "# print(data.decode(\"utf-8\"))\n",
    "data = data.decode(\"utf-8\")\n",
    "# data_dict = json.load(data.replace(\"'\", '\"'))\n",
    "data_dict = eval(data)\n",
    "content = data_dict[\"organic\"]\n",
    "print(content)\n",
    "# for c in content:\n",
    "#     print(c)\n",
    "#     print(\"\\n\")"
   ]
  },
  {
   "cell_type": "code",
   "execution_count": null,
   "id": "8ea4e14a-fefc-4c65-bdca-9a246dd63e62",
   "metadata": {},
   "outputs": [],
   "source": []
  }
 ],
 "metadata": {
  "kernelspec": {
   "display_name": "Python 3 (ipykernel)",
   "language": "python",
   "name": "python3"
  },
  "language_info": {
   "codemirror_mode": {
    "name": "ipython",
    "version": 3
   },
   "file_extension": ".py",
   "mimetype": "text/x-python",
   "name": "python",
   "nbconvert_exporter": "python",
   "pygments_lexer": "ipython3",
   "version": "3.11.11"
  }
 },
 "nbformat": 4,
 "nbformat_minor": 5
}
