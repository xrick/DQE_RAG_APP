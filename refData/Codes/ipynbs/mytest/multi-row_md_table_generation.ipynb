{
 "cells": [
  {
   "cell_type": "code",
   "execution_count": 53,
   "id": "2a2aca46-5727-42b4-a4e8-71564fc3710f",
   "metadata": {},
   "outputs": [],
   "source": [
    "from typing import List, Dict, AsyncGenerator\n",
    "# from pytablewriter import MarkdownTableWriter\n",
    "# from pytablewriter.style import Style\n",
    "import json\n",
    "import dspy\n",
    "import faiss\n",
    "from sentence_transformers import SentenceTransformer\n",
    "from langchain_huggingface import HuggingFaceEmbeddings\n",
    "from langchain.vectorstores import FAISS as LangchainFAISS\n",
    "import numpy as np\n",
    "import pandas as pd\n"
   ]
  },
  {
   "cell_type": "code",
   "execution_count": 54,
   "id": "f4770e89-9f49-45b7-9a9e-04675efdf023",
   "metadata": {},
   "outputs": [],
   "source": [
    "import ipywidgets as widgets\n",
    "from IPython.display import display"
   ]
  },
  {
   "cell_type": "code",
   "execution_count": 93,
   "id": "a4a0ce71-c0c5-4f77-b695-825b9f75b9b8",
   "metadata": {},
   "outputs": [],
   "source": [
    "from pytablewriter import MarkdownTableWriter\n",
    "from pytablewriter.style import Style"
   ]
  },
  {
   "cell_type": "code",
   "execution_count": 55,
   "id": "97398273-14fc-48b4-85a8-708689bfe817",
   "metadata": {},
   "outputs": [],
   "source": [
    "faiss_index_path_qsr = '../../../../web/db/20250317/faiss_index_qsrc.faiss'\n",
    "faiss_index_path_module = '../../../../web/db/20250317/faiss_index_module.faiss';\n",
    "# datasrc_deqlearn = os.getenv(\"DATASRC_DEQ_LEARN\");\n",
    "datasrc_deqaitrial = '../../../../doc/DQE_Lesson_learn_AI_0311_five_refine_question_AI_Trial_Run.csv'\n",
    "local_embedding_path = \"/home/mapleleaf/LCJRepos/Embedding_Models/paraphrase-multilingual-MiniLM-L12-v2/\""
   ]
  },
  {
   "cell_type": "code",
   "execution_count": null,
   "id": "e54d8fad-e043-4106-bd09-bb1dd97fa887",
   "metadata": {},
   "outputs": [],
   "source": []
  },
  {
   "cell_type": "code",
   "execution_count": 56,
   "id": "71ea2a56-594a-44dd-b136-bba03731fbdf",
   "metadata": {},
   "outputs": [],
   "source": [
    "class CustomFAISSRetriever(dspy.Retrieve):\n",
    "    def __init__(self, faiss_index_path:str=None, vector_db_path:str=None, model_name:str=None, k=3):\n",
    "        super().__init__()\n",
    "        self.k = k\n",
    "        # 使用同一個模型名稱\n",
    "        self.model_name = model_name;#\"paraphrase-multilingual-MiniLM-L12-v2\"\n",
    "        print(f\"start to insitalize sentence embeddings : {local_embedding_path}\");\n",
    "        # 初始化 embeddings\n",
    "        self.embeddings = HuggingFaceEmbeddings(\n",
    "            model_name=local_embedding_path#self.model_name\n",
    "        )\n",
    "        print(f\"embedding has been insitalized : {local_embedding_path}\");\n",
    "        # 載入 FAISS 索引\n",
    "        self.index = self.load_index(faiss_index_path)\n",
    "        \n",
    "        # 載入向量庫\n",
    "        if vector_db_path != \"nodata\":\n",
    "            self.vector_db = self.load_local_db(vector_db_path, self.embeddings)\n",
    "        \n",
    "        # 使用相同的模型進行查詢編碼\n",
    "        self.model = SentenceTransformer(local_embedding_path)\n",
    "\n",
    "    def load_index(self, idx_path=None, model_name:str=None):\n",
    "        try:\n",
    "            index = faiss.read_index(idx_path)\n",
    "            print(f\"成功載入FAISS索引，包含 {index.ntotal} 個向量\")\n",
    "            return index\n",
    "        except Exception as e:\n",
    "            print(f\"索引載入失敗: {str(e)}\")\n",
    "            return None\n",
    "\n",
    "    def load_local_db(self, local_db_path=None, embeddings=None):\n",
    "        # try:\n",
    "        if local_db_path==\"nodata\":\n",
    "            return \"nodata\";\n",
    "        db = LangchainFAISS.load_local(\n",
    "            folder_path=local_db_path,\n",
    "            embeddings=embeddings,\n",
    "            allow_dangerous_deserialization=True\n",
    "        )\n",
    "        print(f\"載入成功，共 {db.index.ntotal} 筆技術問答\")\n",
    "        return db\n",
    "        # except Exception as e:\n",
    "        #     print(f\"向量庫載入異常: {str(e)}\")\n",
    "        #     return None\n",
    "\n",
    "    def __call__(self, query):\n",
    "        # 編碼查詢\n",
    "        query_embedding = self.model.encode(\n",
    "            query,\n",
    "            convert_to_tensor=False,\n",
    "            show_progress_bar=False  # 對單一查詢關閉進度條\n",
    "        )\n",
    "        query_embedding = query_embedding.reshape(-1,1).T\n",
    "        # query_embedding = query_embedding.cpu().numpy()\n",
    "        query_embedding = query_embedding.astype(np.float32)\n",
    "        # 搜索向量庫\n",
    "        # docs = self.vector_db.similarity_search_with_score(query_embedding, k=self.k)\n",
    "        distance,pos = self.index.search(query_embedding, k=self.k)\n",
    "        print(distance)\n",
    "        print(pos)\n",
    "        # return the pos for retrieving data from answers\n",
    "        return pos, distance;"
   ]
  },
  {
   "cell_type": "code",
   "execution_count": 57,
   "id": "3efb1aab-80dd-4c2e-8138-9b053ac90c88",
   "metadata": {},
   "outputs": [],
   "source": [
    "def gen_data_src_list(dict_data=None):\n",
    "    row_list = [v for v in dict_data.values]\n",
    "    return row_list\n",
    "    \n",
    "def sanitize_text(text):\n",
    "    if pd.isna(text):\n",
    "        return \"\"\n",
    "    text = str(text).strip()\n",
    "    # 保留必要的符號\n",
    "    special_chars = ['|', '-', ':', '<br>']\n",
    "    for char in special_chars:\n",
    "        text = text.replace(f' {char} ', char)\n",
    "    # 移除多餘的空格\n",
    "    text = ' '.join(text.split())\n",
    "    return text\n"
   ]
  },
  {
   "cell_type": "code",
   "execution_count": 58,
   "id": "ba682c18-0dde-4910-8fdd-7ec5b5987f8c",
   "metadata": {},
   "outputs": [],
   "source": [
    "def generate_markdown_table_from_2DMatrix(headers, value_matrix):\n",
    "    writer = MarkdownTableWriter(\n",
    "        tablename=\"回覆表格\",\n",
    "        headers=headers,\n",
    "        value_matrix=value_matrix,\n",
    "        column_alignments=[\"left\"] * len(headers),  # Explicit alignment\n",
    "        margin=1  # Add margin for better readability\n",
    "    )\n",
    "    # Add table style\n",
    "    writer.style = Style(\n",
    "        align_header=\"center\",\n",
    "        border_chars={\n",
    "            \"left\": \"|\",\n",
    "            \"right\": \"|\",\n",
    "            \"header\": \"-\",\n",
    "            \"center\": \"|\",\n",
    "        }\n",
    "    )\n",
    "    return writer.dumps()"
   ]
  },
  {
   "cell_type": "code",
   "execution_count": 59,
   "id": "f33c12a8-26d1-49bd-85bc-7b99891caf88",
   "metadata": {},
   "outputs": [],
   "source": [
    "def search_similar_data(retriever, question):\n",
    "    pos, distances = retriever(question)\n",
    "    return pos, distances"
   ]
  },
  {
   "cell_type": "code",
   "execution_count": 60,
   "id": "80858260-6bc5-40c3-aeaf-fff5a38a94ad",
   "metadata": {},
   "outputs": [
    {
     "name": "stdout",
     "output_type": "stream",
     "text": [
      "start to insitalize sentence embeddings : /home/mapleleaf/LCJRepos/Embedding_Models/paraphrase-multilingual-MiniLM-L12-v2/\n",
      "embedding has been insitalized : /home/mapleleaf/LCJRepos/Embedding_Models/paraphrase-multilingual-MiniLM-L12-v2/\n",
      "成功載入FAISS索引，包含 5 個向量\n",
      "start to insitalize sentence embeddings : /home/mapleleaf/LCJRepos/Embedding_Models/paraphrase-multilingual-MiniLM-L12-v2/\n",
      "embedding has been insitalized : /home/mapleleaf/LCJRepos/Embedding_Models/paraphrase-multilingual-MiniLM-L12-v2/\n",
      "成功載入FAISS索引，包含 5 個向量\n"
     ]
    }
   ],
   "source": [
    "faiss_retriever_qsrc=CustomFAISSRetriever(faiss_index_path=faiss_index_path_qsr, vector_db_path=\"nodata\", k=3);\n",
    "faiss_retriever_module = CustomFAISSRetriever(faiss_index_path=faiss_index_path_module, vector_db_path=\"nodata\", k=3);"
   ]
  },
  {
   "cell_type": "code",
   "execution_count": 61,
   "id": "5e5fc4e0-9c85-4a3a-8126-ebd8ae74a00d",
   "metadata": {},
   "outputs": [
    {
     "data": {
      "application/vnd.jupyter.widget-view+json": {
       "model_id": "2b962fdcdf314669ab5ef063cbc91aa8",
       "version_major": 2,
       "version_minor": 0
      },
      "text/plain": [
       "Text(value='', description='輸入:', placeholder='請輸入資料')"
      ]
     },
     "metadata": {},
     "output_type": "display_data"
    },
    {
     "data": {
      "application/vnd.jupyter.widget-view+json": {
       "model_id": "55c25a7f2dd74879b458223564862abc",
       "version_major": 2,
       "version_minor": 0
      },
      "text/plain": [
       "Button(description='確認', style=ButtonStyle())"
      ]
     },
     "metadata": {},
     "output_type": "display_data"
    },
    {
     "data": {
      "application/vnd.jupyter.widget-view+json": {
       "model_id": "730edb04286c44b79054ad1c2bea73e9",
       "version_major": 2,
       "version_minor": 0
      },
      "text/plain": [
       "Label(value='等待輸入...')"
      ]
     },
     "metadata": {},
     "output_type": "display_data"
    }
   ],
   "source": [
    "question_txt = None;\n",
    "# 創建文本輸入框\n",
    "text_input = widgets.Text(\n",
    "    description='輸入:',\n",
    "    placeholder='請輸入資料'\n",
    ")\n",
    "# 創建按鈕\n",
    "button = widgets.Button(description='確認')\n",
    "# 顯示輸入結果的標籤\n",
    "output = widgets.Label(value='等待輸入...')\n",
    "# 定義按鈕點擊事件\n",
    "def on_button_click(b):\n",
    "    question_txt = text_input.value\n",
    "    output.value = f'您輸入的是: {text_input.value}'\n",
    "\n",
    "button.on_click(on_button_click)\n",
    "\n",
    "# 顯示所有元件\n",
    "display(text_input, button, output)"
   ]
  },
  {
   "cell_type": "code",
   "execution_count": 62,
   "id": "05a1cba9-c805-4061-899a-827cc82e1687",
   "metadata": {},
   "outputs": [
    {
     "name": "stdout",
     "output_type": "stream",
     "text": [
      "[[4.8148732e+00 3.4028235e+38 3.4028235e+38]]\n",
      "[[ 3 -1 -1]]\n"
     ]
    }
   ],
   "source": [
    "_pos_lists_qsrc, _dist_lists_qsrc = search_similar_data(retriever=faiss_retriever_qsrc, question='svd') "
   ]
  },
  {
   "cell_type": "code",
   "execution_count": 63,
   "id": "63ac555b-2cdb-4cd7-a03b-4df5b1d5a880",
   "metadata": {},
   "outputs": [
    {
     "name": "stdout",
     "output_type": "stream",
     "text": [
      "[[8.4477110e+00 8.4477110e+00 3.4028235e+38]]\n",
      "[[ 2  3 -1]]\n"
     ]
    }
   ],
   "source": [
    "_pos_lists_module, _dist_lists_module = search_similar_data(retriever=faiss_retriever_module, question='svd')"
   ]
  },
  {
   "cell_type": "code",
   "execution_count": 64,
   "id": "fdf25c10-4011-4a18-8cd4-04d8ad8b5cdd",
   "metadata": {},
   "outputs": [],
   "source": [
    "def combine_pos_distance(pos_lists, distance_lists):\n",
    "    # 合并并去重位置列表\n",
    "    all_pos = [pos for sublist in pos_lists for pos in sublist if pos > -1]\n",
    "    combined_pos = sorted(set(all_pos))\n",
    "    \n",
    "    # 建立位置-距离映射表\n",
    "    mappings = []\n",
    "    for pos_sublist, dist_sublist in zip(pos_lists, distance_lists):\n",
    "        mappings.append(dict(zip(pos_sublist, dist_sublist)))\n",
    "    \n",
    "    # 合并距离列表\n",
    "    combined_dist = []\n",
    "    for pos in combined_pos:\n",
    "        distances = []\n",
    "        for mapping in mappings:\n",
    "            if pos in mapping:\n",
    "                distances.append(mapping[pos])\n",
    "        avg = round(sum(distances)/len(distances), 3) if distances else 0\n",
    "        combined_dist.append(avg)\n",
    "    \n",
    "    return combined_pos, combined_dist"
   ]
  },
  {
   "cell_type": "code",
   "execution_count": 65,
   "id": "5ecf2ebd-5d72-406a-bd73-1bdc05569454",
   "metadata": {},
   "outputs": [
    {
     "name": "stdout",
     "output_type": "stream",
     "text": [
      "[[ 3 -1 -1]\n",
      " [ 2  3 -1]]\n",
      "[[4.8148732e+00 3.4028235e+38 3.4028235e+38]\n",
      " [8.4477110e+00 8.4477110e+00 3.4028235e+38]]\n"
     ]
    }
   ],
   "source": [
    "_conc_pos_list = np.concatenate([_pos_lists_qsrc, _pos_lists_module], axis=0)\n",
    "print(_conc_pos_list)\n",
    "_conc_dist_list = np.concatenate([_dist_lists_qsrc, _dist_lists_module], axis=0)\n",
    "print(_conc_dist_list)"
   ]
  },
  {
   "cell_type": "code",
   "execution_count": 66,
   "id": "88a460e2-c0da-4899-9ac8-28841c8f5825",
   "metadata": {},
   "outputs": [
    {
     "name": "stdout",
     "output_type": "stream",
     "text": [
      "[2, 3]\n",
      "[8.448, 6.631]\n"
     ]
    }
   ],
   "source": [
    "ret_combined_pos, ret_combined_dist = combine_pos_distance(_conc_pos_list, _conc_dist_list)\n",
    "print(ret_combined_pos)\n",
    "print(ret_combined_dist)"
   ]
  },
  {
   "cell_type": "code",
   "execution_count": 67,
   "id": "b9250ed0-7b7f-4d16-9081-4db07439678a",
   "metadata": {},
   "outputs": [],
   "source": [
    "def getSubMessages(df_row):\n",
    "    return {\n",
    "        \"description\": replace_chinese_punctuation(str(df_row['问题现象描述'])),\n",
    "        \"module\": replace_chinese_punctuation(str(df_row['模块'])),\n",
    "        \"severity\": replace_chinese_punctuation(str(df_row['严重度'])),\n",
    "        \"cause\": replace_chinese_punctuation(str(df_row['原因分析'])),\n",
    "        \"improve\": replace_chinese_punctuation(str(df_row['改善对策'])),\n",
    "        \"experience\": replace_chinese_punctuation(str(df_row['经验萃取'])),\n",
    "        \"judge\": replace_chinese_punctuation(str(df_row['评审后优化'])),\n",
    "        \"score\": replace_chinese_punctuation(str(df_row['评分']))\n",
    "    }"
   ]
  },
  {
   "cell_type": "code",
   "execution_count": 87,
   "id": "2a81e10f-99c6-4802-b318-47b8efc71bf0",
   "metadata": {},
   "outputs": [],
   "source": [
    "def convert_dr_to_list(row, required_columns):\n",
    "    # 獲取當前行的所有值\n",
    "    row_data = []\n",
    "    max_length = 1  # 預設長度為1\n",
    "    # 步驟4：檢查是否有列表值並確定最大長度\n",
    "    for col in required_columns:\n",
    "        if isinstance(row[col], list):\n",
    "            max_length = max(max_length, len(row[col]))\n",
    "    # 步驟5：處理每一列的值\n",
    "    for i in range(max_length):\n",
    "        current_row = []\n",
    "        for col in required_columns:\n",
    "            value = row[col]\n",
    "            if isinstance(value, list):\n",
    "                # 如果是列表，取對應索引的值，如果索引超出範圍則使用空字符串\n",
    "                current_row.append(value[i] if i < len(value) else '')\n",
    "            else:\n",
    "                # 如果不是列表，則重複使用該值\n",
    "                current_row.append(value)\n",
    "        row_data.append(current_row)\n",
    "    return row_data"
   ]
  },
  {
   "cell_type": "code",
   "execution_count": 88,
   "id": "6bacbb5b-e5e2-4af6-8fd5-46a6a7e5e77b",
   "metadata": {},
   "outputs": [],
   "source": [
    "dfObj_aitrial = pd.read_csv(\"../../../../doc/DQE_Lesson_learn_AI_0311_five_refine_question_AI_Trial_Run.csv\", encoding='utf-8-sig');"
   ]
  },
  {
   "cell_type": "code",
   "execution_count": 106,
   "id": "75112107-9d41-4469-bb33-3b363e105147",
   "metadata": {},
   "outputs": [],
   "source": [
    "def convert_df_to_list(df, pos_list):\n",
    "    \"\"\"\n",
    "    將DataFrame轉換為m*n列表\n",
    "    Parameters:\n",
    "    df (pandas.DataFrame): 輸入的DataFrame，包含指定的列\n",
    "    Returns:\n",
    "    list: 轉換後的二維列表\n",
    "    \"\"\"\n",
    "    # 步驟1：定義所需的列順序\n",
    "    required_columns = [\n",
    "        '模块', '严重度', '问题现象描述', '原因分析', \n",
    "        '改善对策', '经验萃取', '评审后优化', '评分'\n",
    "    ]\n",
    "    result_list = []\n",
    "    for idx in pos_list:\n",
    "        _row = df.iloc[idx]\n",
    "        result_list.extend(convert_dr_to_list(_row, required_columns));\n",
    "    return result_list\n",
    "        # print(f\"idx is {idx} and _row type is {type(_row)}:\\n\")\n",
    "        # print(_row)\n",
    "    # 步驟2：初始化結果列表\n",
    "    # result_list = []\n",
    "    # 步驟3：遍歷DataFrame的每一行\n",
    "    # for idx in pos_list:\n",
    "    #     # 步驟6：將處理後的行數據添加到結果列表\n",
    "    #     # result_list.extend(row_data)\n",
    "    #     _row = df.iloc[idx]\n",
    "    #     if row == None:\n",
    "    #         print(\"row variable is None\")\n",
    "    #     result_list.extend(convert_dr_to_list(_row, required_columns));\n",
    "    # return result_list\n"
   ]
  },
  {
   "cell_type": "code",
   "execution_count": 111,
   "id": "64ff0529-5c33-45b3-8832-7f7783c53024",
   "metadata": {},
   "outputs": [
    {
     "name": "stdout",
     "output_type": "stream",
     "text": [
      "[['工艺', 'A', '2022年12月12日，Y1 PLUS项目在比亚迪首次量产，按照客户要求首单2K全检，发现C壳的I/O接口位置区域划伤，不良不良10%左右\\n\\n影响：外观划伤不良需要进行返工，影响量产进度和交付周期', '1.现场确认为USB口边缘划伤，根据此现象确认为USB口插拔过程中刮蹭造成；\\n2.根据不良制成排查在DL1、FCT、DL2工位均需要插拔USB，模拟不良使用USB插拔如斜插斜拔会刮蹭到C壳USB口而导致掉漆，正常垂直插拔不易刮蹭到USB口，因此确认为员工作业手法错误导致；', '1.重新培训员工操作技巧和手法，跟进作业效果，要求员工严格按照SOP要求进行自检。\\n2.长期对策：壳料来料导入防护美纹胶纸；', '喷漆件塑胶壳I/O接口增加美纹胶保护；\\n执行人：结构工程师\\n执行节点：模具开模评审\\n效果确认：新产品各阶段的试产\\n效果输出：试产问题点报告确认是否有I/O接口区域有划伤的问题\\n效果确认人：NPI工程师，DQE工程师', '喷漆件塑胶壳I/O接口增加美纹胶保护\\n（传音项目100%执行，公版项目逐步推行）', 3], ['工艺', 'A', '2023年7月26日，硬件去比亚迪现场分析主板功能不良，确认发现主板的元器件撞件问题居多，比例约占20%\\n\\n影响：生产的直通率低，增加维修成本，同时有隐性的售后风险', '设计端做原因分析：目前的设计是元器件距离板边和螺丝柱的距离是1mm或1.5mm，更容易导致撞件风险', '硬件优化设计规范：优化后元器件距离边缘和螺丝柱1.5mm以上；', '元器件距离螺丝柱1.5mm以上；\\n执行人：硬件工程师\\n执行节点：layout评审\\n效果确认：layout手板，EVT，DVT阶段确认', '元器件距离螺丝柱1.5mm以上', 3]]\n"
     ]
    }
   ],
   "source": [
    "datasrclist = convert_df_to_list(dfObj_aitrial, ret_combined_pos)\n",
    "print(datasrclist)"
   ]
  },
  {
   "cell_type": "code",
   "execution_count": 112,
   "id": "40b279cf-fe52-41ba-97c2-eb97881e63a4",
   "metadata": {},
   "outputs": [],
   "source": [
    "def generate_markdown_table(headers, value_matrix):\n",
    "    writer = MarkdownTableWriter(\n",
    "        tablename=\"回覆表格\",\n",
    "        headers=headers,\n",
    "        value_matrix=value_matrix,\n",
    "        column_alignments=[\"left\"] * len(headers),  # Explicit alignment\n",
    "        margin=1  # Add margin for better readability\n",
    "    )\n",
    "    # Add table style\n",
    "    writer.style = Style(\n",
    "        align_header=\"center\",\n",
    "        border_chars={\n",
    "            \"left\": \"|\",\n",
    "            \"right\": \"|\",\n",
    "            \"header\": \"-\",\n",
    "            \"center\": \"|\",\n",
    "        }\n",
    "    )\n",
    "    return writer.dumps()"
   ]
  },
  {
   "cell_type": "code",
   "execution_count": 113,
   "id": "4cd0169a-b757-41b7-9f2a-9c4389a2f624",
   "metadata": {},
   "outputs": [],
   "source": [
    "headers=[\"模块\", \"严重度(A/B/C)\", \"题现象描述\", \"原因分析\", \"改善对策\", \"经验萃取\", \"审后优化\", \"评分\"]"
   ]
  },
  {
   "cell_type": "code",
   "execution_count": 114,
   "id": "d2a14583-2961-4da5-a064-9e6af985f439",
   "metadata": {},
   "outputs": [],
   "source": [
    "ret_md_table = generate_markdown_table(headers=headers, value_matrix=datasrclist);"
   ]
  },
  {
   "cell_type": "code",
   "execution_count": 101,
   "id": "eedbd9a6-a2be-448b-b267-a37c34ec444f",
   "metadata": {},
   "outputs": [
    {
     "name": "stdout",
     "output_type": "stream",
     "text": [
      "| 模块 | 严重度(A/B/C) | 题现象描述 | 原因分析 | 改善对策 | 经验萃取 | 审后优化 | 评分 |\n",
      "| ---- | ------------- | ---------- | -------- | -------- | -------- | -------- | ---- |\n",
      "\n"
     ]
    }
   ],
   "source": [
    "print(ret_md_table)"
   ]
  },
  {
   "cell_type": "code",
   "execution_count": null,
   "id": "d4a0afc6-632d-4a41-8b21-24d732e934f5",
   "metadata": {},
   "outputs": [],
   "source": []
  }
 ],
 "metadata": {
  "kernelspec": {
   "display_name": "Python 3 (ipykernel)",
   "language": "python",
   "name": "python3"
  },
  "language_info": {
   "codemirror_mode": {
    "name": "ipython",
    "version": 3
   },
   "file_extension": ".py",
   "mimetype": "text/x-python",
   "name": "python",
   "nbconvert_exporter": "python",
   "pygments_lexer": "ipython3",
   "version": "3.11.11"
  }
 },
 "nbformat": 4,
 "nbformat_minor": 5
}
