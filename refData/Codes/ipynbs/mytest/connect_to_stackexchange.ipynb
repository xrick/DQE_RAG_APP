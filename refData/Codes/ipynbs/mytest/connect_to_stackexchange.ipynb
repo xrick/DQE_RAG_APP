{
 "cells": [
  {
   "cell_type": "code",
   "execution_count": 2,
   "id": "a8776676-c17b-4a09-8596-3e6755dca212",
   "metadata": {},
   "outputs": [],
   "source": [
    "from langchain_community.utilities import StackExchangeAPIWrapper"
   ]
  },
  {
   "cell_type": "code",
   "execution_count": 5,
   "id": "f8174d07-669b-4fa2-9a29-4881e2571b07",
   "metadata": {},
   "outputs": [
    {
     "data": {
      "text/plain": [
       "'Question: Combine Python f-string with printf style formatting?\\n<span class=\"highlight\">Python</span> <span class=\"highlight\">f</span>-strings work well for the variables, and I&#39;m using a printf-style %s and providing the long expression outside the <span class=\"highlight\">string</span> because it would just clutter the command template too much if placed &hellip; Edit: to clarify, my <span class=\"highlight\">question</span> is how to put placeholders in <span class=\"highlight\">f</span>-strings without declaring additional named variables, not how to inline calls to getcwd() in <span class=\"highlight\">f</span>-strings. &hellip; \\n\\nQuestion: prompt-toolkit: How can I properly escape HTML-formatted return results from an API?\\n<span class=\"highlight\">Question</span> is: How can I escape this return result and maintain formatting using printft()? &hellip; If I use printft(HTML(escape ... and escape my entire <span class=\"highlight\">f</span>-<span class=\"highlight\">string</span>, I lose formatting or color or whatever else I wanna do with it since, well, it&#39;s all escaped. &hellip; \\n\\nQuestion: How to pass list of integers as arguments for django&#39;s raw SQL, without formatting string\\nThere are other solutions that suggest to generate a place holder and use <span class=\"highlight\">f</span>-<span class=\"highlight\">string</span> to <span class=\"highlight\">format</span> the raw SQL statement, such as.\\ndef raw_query(self, ids: list[int]) -&gt; str:\\n    placeholder = &#39;,&#39;.join([&#39;%s&#39; &hellip; ] * len(ids))\\n    return <span class=\"highlight\">f</span>&quot;&quot;&quot;select * from table where some_id in ({placeholders})&quot;&quot;&quot;\\n\\n^ This works\\nStill, I am wondering if there&#39;s a better solution as I don&#39;t want to <span class=\"highlight\">string</span> <span class=\"highlight\">format</span> my SQL statement. &hellip; '"
      ]
     },
     "execution_count": 5,
     "metadata": {},
     "output_type": "execute_result"
    }
   ],
   "source": [
    "stackexchange = StackExchangeAPIWrapper()\n",
    "\n",
    "stackexchange.run(\"python f string format question\")"
   ]
  },
  {
   "cell_type": "code",
   "execution_count": null,
   "id": "fd10bc58-26e2-4679-8ec1-8fd0f712fceb",
   "metadata": {},
   "outputs": [],
   "source": []
  }
 ],
 "metadata": {
  "kernelspec": {
   "display_name": "Python 3 (ipykernel)",
   "language": "python",
   "name": "python3"
  },
  "language_info": {
   "codemirror_mode": {
    "name": "ipython",
    "version": 3
   },
   "file_extension": ".py",
   "mimetype": "text/x-python",
   "name": "python",
   "nbconvert_exporter": "python",
   "pygments_lexer": "ipython3",
   "version": "3.11.11"
  }
 },
 "nbformat": 4,
 "nbformat_minor": 5
}
