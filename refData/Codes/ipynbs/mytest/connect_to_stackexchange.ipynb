{
 "cells": [
  {
   "cell_type": "code",
   "execution_count": 1,
   "id": "a8776676-c17b-4a09-8596-3e6755dca212",
   "metadata": {},
   "outputs": [],
   "source": [
    "from langchain_community.utilities import StackExchangeAPIWrapper"
   ]
  },
  {
   "cell_type": "code",
   "execution_count": 13,
   "id": "0560c504-0011-4e57-a5a3-26357ea8b684",
   "metadata": {},
   "outputs": [],
   "source": [
    "import re\n",
    "import html"
   ]
  },
  {
   "cell_type": "code",
   "execution_count": 9,
   "id": "62bfa7d7-401b-4073-8f13-55af85140cb1",
   "metadata": {},
   "outputs": [],
   "source": [
    "def format_qa_content_1(content:str=None):\n",
    "    # with open(filename, 'r', encoding='utf-8') as file:\n",
    "    #     content = file.read()\n",
    "    # 分割並處理每個問題\n",
    "    questions = content.split('\\n\\n')\n",
    "    formatted_content = []\n",
    "    \n",
    "    for q in questions:\n",
    "        if 'Question:' in q:\n",
    "            # 分離問題標題和內容\n",
    "            parts = q.split('\\n')\n",
    "            title = parts[0].replace('Question:', '').strip()\n",
    "            content = '\\n'.join(parts[1:]).strip()\n",
    "            \n",
    "            # 格式化輸出\n",
    "            formatted_q = f\"Question:\\n{title}\\nAnswer:\\n{content}\"\n",
    "            formatted_content.append(formatted_q)\n",
    "    \n",
    "    return \"\\n\\n\".join(formatted_content)"
   ]
  },
  {
   "cell_type": "code",
   "execution_count": 33,
   "id": "fa71f490-4875-46b2-91af-e9210e3a367b",
   "metadata": {},
   "outputs": [],
   "source": [
    "# def clean_text(text):\n",
    "#     # 移除所有 HTML 標籤（包括 span class=\"highlight\"）\n",
    "#     text = re.sub(r'<[^>]+>', '', text)\n",
    "#     # 解碼 HTML 特殊符號\n",
    "#     text = html.unescape(text)\n",
    "#     return text.strip()\n",
    "\n",
    "# def format_qa_content(content:str=None):  \n",
    "#     # 分割問題塊\n",
    "#     # questions = re.split(r'Question:', content)\n",
    "#     questions = content.split('\\n\\n')\n",
    "#     questions = [q.strip() for q in questions if q.strip()]\n",
    "#     formatted_content = []\n",
    "#     for q in questions:\n",
    "#         content = clean_text(q)\n",
    "#         formatted_content.append(content)\n",
    "#     final_content = \"\\n\\n\".join(formatted_content)\n",
    "#     return final_content\n",
    "    #     # 分割標題和內容\n",
    "    #     title_end = q.find('?')\n",
    "    #     if title_end != -1:\n",
    "    #         title = q[:title_end+1].strip()\n",
    "    #         content = clean_text(q[title_end+1:].strip())\n",
    "            \n",
    "    #         formatted_q = f\"Question:\\n{title}\\nAnswer:\\n{content}\"\n",
    "    #         formatted_content.append(formatted_q)\n",
    "    \n",
    "    # final_content = \"\\n\\n\".join(formatted_content)\n",
    "    # return final_content"
   ]
  },
  {
   "cell_type": "code",
   "execution_count": null,
   "id": "e820e8a6-c717-4825-9de1-be4b43a0393b",
   "metadata": {},
   "outputs": [],
   "source": [
    "def clean_text(text):\n",
    "    # 移除所有 HTML 標籤（包括 span class=\"highlight\"）\n",
    "    text = re.sub(r'<[^>]+>', '', text)\n",
    "    # 解碼 HTML 特殊符號\n",
    "    text = html.unescape(text)\n",
    "    return text.strip()\n",
    "\n",
    "def get_question_block(content:str=None):\n",
    "    # get "
   ]
  },
  {
   "cell_type": "code",
   "execution_count": 52,
   "id": "c5855170-e81e-4785-a802-157aade14cba",
   "metadata": {},
   "outputs": [],
   "source": [
    "def format_qa_content(content:str=None):  \n",
    "    # 分割問題塊\n",
    "    # questions = re.split(r'Question:', content)\n",
    "    questions = content.split('\\n\\n')\n",
    "    # questions = [q for q in questions]\n",
    "    questions = [q.strip() for q in questions if q.strip()]\n",
    "    formatted_content = []\n",
    "    for q in questions:\n",
    "        # print(f\"length of q is {len(q)}\")\n",
    "        question_end = q.find('\\n')\n",
    "        if question_end != -1:\n",
    "            title = q[:question_end+1].strip()\n",
    "            content = clean_text(q[question_end:].strip())\n",
    "            formatted_q = f\"{title}\\nAnswer:\\n{content}\"\n",
    "        # print(f\"question end pos:{question_end}\")\n",
    "        # tmp_ans = q[question_end+1:]\n",
    "        # print(f\"Answer:{tmp_ans}\\n\\n\")\n",
    "        formatted_content.append(formatted_q)\n",
    "    final_content = \"\\n\\n\".join(formatted_content)\n",
    "    return final_content\n",
    "    \n",
    "    #     # 分割標題和內容\n",
    "    #     title_end = q.find('?')\n",
    "    #     if title_end != -1:\n",
    "    #         title = q[:title_end+1].strip()\n",
    "    #         content = clean_text(q[title_end+1:].strip())\n",
    "            \n",
    "    #         formatted_q = f\"Question:\\n{title}\\nAnswer:\\n{content}\"\n",
    "    #         formatted_content.append(formatted_q)\n",
    "    \n",
    "    # final_content = \"\\n\\n\".join(formatted_content)\n",
    "    # return final_content"
   ]
  },
  {
   "cell_type": "code",
   "execution_count": 53,
   "id": "f8174d07-669b-4fa2-9a29-4881e2571b07",
   "metadata": {},
   "outputs": [
    {
     "name": "stdout",
     "output_type": "stream",
     "text": [
      "Question: Combine Python f-string with printf style formatting?\n",
      "Answer:\n",
      "Python f-strings work well for the variables, and I'm using a printf-style %s and providing the long expression outside the string because it would just clutter the command template too much if placed … Edit: to clarify, my question is how to put placeholders in f-strings without declaring additional named variables, not how to inline calls to getcwd() in f-strings. …\n",
      "\n",
      "Question: prompt-toolkit: How can I properly escape HTML-formatted return results from an API?\n",
      "Answer:\n",
      "Question is: How can I escape this return result and maintain formatting using printft()? … If I use printft(HTML(escape ... and escape my entire f-string, I lose formatting or color or whatever else I wanna do with it since, well, it's all escaped. …\n",
      "\n",
      "Question: How to pass list of integers as arguments for django&#39;s raw SQL, without formatting string\n",
      "Answer:\n",
      "There are other solutions that suggest to generate a place holder and use f-string to format the raw SQL statement, such as.\n",
      "def raw_query(self, ids: list[int]) -> str:\n",
      "    placeholder = ','.join(['%s' … ] * len(ids))\n",
      "    return f\"\"\"select * from table where some_id in ({placeholders})\"\"\"\n",
      "\n",
      "^ This works\n",
      "Answer:\n",
      "Still, I am wondering if there's a better solution as I don't want to string format my SQL statement. …\n"
     ]
    }
   ],
   "source": [
    "stackexchange = StackExchangeAPIWrapper(result_separator='\\n\\n')\n",
    "\n",
    "search_res = stackexchange.run(\"python f string format question\")\n",
    "processed_res = format_qa_content(search_res)\n",
    "print(processed_res)"
   ]
  },
  {
   "cell_type": "code",
   "execution_count": null,
   "id": "fd10bc58-26e2-4679-8ec1-8fd0f712fceb",
   "metadata": {},
   "outputs": [],
   "source": []
  }
 ],
 "metadata": {
  "kernelspec": {
   "display_name": "Python 3 (ipykernel)",
   "language": "python",
   "name": "python3"
  },
  "language_info": {
   "codemirror_mode": {
    "name": "ipython",
    "version": 3
   },
   "file_extension": ".py",
   "mimetype": "text/x-python",
   "name": "python",
   "nbconvert_exporter": "python",
   "pygments_lexer": "ipython3",
   "version": "3.11.11"
  }
 },
 "nbformat": 4,
 "nbformat_minor": 5
}
