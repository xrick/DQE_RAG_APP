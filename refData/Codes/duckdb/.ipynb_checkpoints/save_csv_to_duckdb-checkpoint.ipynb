{
 "cells": [
  {
   "cell_type": "code",
   "execution_count": 1,
   "id": "c5ab2570-6ee1-461d-b5fe-ea31e4fd69ee",
   "metadata": {},
   "outputs": [],
   "source": [
    "import duckdb"
   ]
  },
  {
   "cell_type": "code",
   "execution_count": 5,
   "id": "1f35345f-d1a7-4314-91f8-006af426289c",
   "metadata": {},
   "outputs": [],
   "source": [
    "import polars as pl"
   ]
  },
  {
   "cell_type": "code",
   "execution_count": 2,
   "id": "859e2996-0c03-4db3-a5d9-e08b4c7390da",
   "metadata": {},
   "outputs": [],
   "source": [
    "_csv_src = \"../../../source_data/DQE_Issues/DQE_Issue_total_corrected_v1.csv\""
   ]
  },
  {
   "cell_type": "markdown",
   "id": "6caf0efc-6f0c-4cae-a25a-59d0de8f1130",
   "metadata": {},
   "source": [
    "#### import csv to duckdb"
   ]
  },
  {
   "cell_type": "code",
   "execution_count": 13,
   "id": "19ebf065-8f69-4b23-b88c-66a84cb1663c",
   "metadata": {},
   "outputs": [],
   "source": [
    "_csvdb = \"./db/csvdb.duckdb\""
   ]
  },
  {
   "cell_type": "code",
   "execution_count": 12,
   "id": "8d2bb972-5190-4030-bcbc-e25e84d75291",
   "metadata": {},
   "outputs": [],
   "source": [
    "# 讀取 CSV 並存為 DuckDB 資料表\n",
    "def step1():\n",
    "    con = duckdb.connect(_csvdb)\n",
    "    con.execute(\"\"\"\n",
    "        CREATE TABLE my_table AS\n",
    "        SELECT * FROM read_csv_auto('../../../source_data/DQE_Issues/DQE_Issue_total_corrected_v1.csv')\n",
    "    \"\"\")\n",
    "    # 關閉連線\n",
    "    con.close()"
   ]
  },
  {
   "cell_type": "markdown",
   "id": "ed1b867c-8614-46b0-b1c8-5873e0e2434e",
   "metadata": {},
   "source": [
    "#### read duckdb into polars dataframe"
   ]
  },
  {
   "cell_type": "code",
   "execution_count": 10,
   "id": "54a40c23-3640-4a55-9790-da5c38cc31d2",
   "metadata": {},
   "outputs": [
    {
     "name": "stdout",
     "output_type": "stream",
     "text": [
      "shape: (108, 8)\n",
      "┌──────────┬──────┬────────┬──────────────┬──────────────┬─────────────┬─────────────┬─────────────┐\n",
      "│ 问题来源 ┆ 模块 ┆ 严重度 ┆ 问题现象描述 ┆ 原因分析     ┆ 改善对策    ┆ 经验萃取    ┆ column7     │\n",
      "│ ---      ┆ ---  ┆ ---    ┆ ---          ┆ ---          ┆ ---         ┆ ---         ┆ ---         │\n",
      "│ str      ┆ str  ┆ str    ┆ str          ┆ str          ┆ str         ┆ str         ┆ str         │\n",
      "╞══════════╪══════╪════════╪══════════════╪══════════════╪═════════════╪═════════════╪═════════════╡\n",
      "│ PVT      ┆ 结构 ┆ B      ┆ 摄像头偏心   ┆ 1.大公模项目 ┆ 1.设计时需  ┆ 1.从项目开  ┆ null        │\n",
      "│          ┆      ┆        ┆              ┆ 设计公差累计 ┆ 要完全定位  ┆ 始立项与结  ┆             │\n",
      "│          ┆      ┆        ┆              ┆ 为0.8mm      ┆ 摄像头,不使 ┆ 构设计需提  ┆             │\n",
      "│          ┆      ┆        ┆              ┆ 2.与客户标准 ┆ 用治具/人为 ┆ 前定义偏心  ┆             │\n",
      "│          ┆      ┆        ┆              ┆ 未达成…      ┆ 等矫正措施  ┆ 标准        ┆             │\n",
      "│          ┆      ┆        ┆              ┆              ┆ 2…          ┆ 笔电 ≤0.…   ┆             │\n",
      "│ PVT      ┆ 结构 ┆ B      ┆ 紫光客诉TF卡 ┆ 亿道公模项目 ┆ 1.在设计初  ┆ 前期设计时  ┆ null        │\n",
      "│          ┆      ┆        ┆ 不防盲插     ┆ 并未定义防盲 ┆ 期增加防盲  ┆ 定义接口防  ┆             │\n",
      "│          ┆      ┆        ┆              ┆ 插           ┆ 插          ┆ 盲插标准    ┆             │\n",
      "│          ┆      ┆        ┆              ┆              ┆ 2.针对以后  ┆             ┆             │\n",
      "│          ┆      ┆        ┆              ┆              ┆ 带TF卡插槽  ┆             ┆             │\n",
      "│          ┆      ┆        ┆              ┆              ┆ 的项目,需…  ┆             ┆             │\n",
      "│ PVT      ┆ 结构 ┆ B      ┆ 摄像头物理开 ┆ 摄像头物理开 ┆ 摄像头物理  ┆ 1.建议物理  ┆ null        │\n",
      "│          ┆      ┆        ┆ 关跌落测试时 ┆ 关凸出较高(0 ┆ 开关降低凸  ┆ 开关C壳位置 ┆             │\n",
      "│          ┆      ┆        ┆ 断裂         ┆ .7mm-0.8mm)  ┆ 出C壳高度至 ┆ 做凹槽设计- ┆             │\n",
      "│          ┆      ┆        ┆              ┆ 且面积较小,… ┆ 0.3mm~0.4mm ┆ ->如图      ┆             │\n",
      "│          ┆      ┆        ┆              ┆              ┆ (实测…      ┆             ┆             │\n",
      "│          ┆      ┆        ┆              ┆              ┆             ┆             ┆             │\n",
      "│          ┆      ┆        ┆              ┆              ┆             ┆             ┆             │\n",
      "│          ┆      ┆        ┆              ┆              ┆             ┆ 2.建议…     ┆             │\n",
      "│ PVT      ┆ 结构 ┆ B      ┆ 外观检验发现 ┆ 1、MIC泡棉被 ┆ 1、修改MIC  ┆             ┆ null        │\n",
      "│          ┆      ┆        ┆ MIC堵孔（MIC ┆ 挤压变形、泡 ┆ 泡棉孔尺寸  ┆ 1. 泡棉材质 ┆             │\n",
      "│          ┆      ┆        ┆ 孔内可见内部 ┆ 棉孔不规则导 ┆ 由原来1.2mm ┆ 选择压缩量  ┆             │\n",
      "│          ┆      ┆        ┆ 泡棉）       ┆ 致           ┆ 扩大到1.4mm ┆ 偏小        ┆             │\n",
      "│          ┆      ┆        ┆              ┆ 2、临时方案: ┆ 、6…        ┆ 2. 研发设计 ┆             │\n",
      "│          ┆      ┆        ┆              ┆ M…           ┆             ┆ MIC孔泡棉尺 ┆             │\n",
      "│          ┆      ┆        ┆              ┆              ┆             ┆ …           ┆             │\n",
      "│ PVT      ┆ 结构 ┆ B      ┆ 电源键漏光   ┆ 1.遮光泡棉黏 ┆             ┆ 研发设计电  ┆ null        │\n",
      "│          ┆      ┆        ┆ 暗环境较明显 ┆ 贴偏位、SOP  ┆ 遮光泡棉由1 ┆ 源灯遮光泡  ┆             │\n",
      "│          ┆      ┆        ┆ （安全锁孔位 ┆ 规范黏贴泡棉 ┆ 字形装、修  ┆ 棉为凹字形  ┆             │\n",
      "│          ┆      ┆        ┆ 置漏电源灯光 ┆ 位置         ┆ 改为凹字形  ┆ 完全遮挡灯  ┆             │\n",
      "│          ┆      ┆        ┆ ）           ┆ 2.遮光泡棉设 ┆ 已改善漏光  ┆ 光外漏光现  ┆             │\n",
      "│          ┆      ┆        ┆              ┆ …            ┆ 问题        ┆ 象          ┆             │\n",
      "│          ┆      ┆        ┆              ┆              ┆             ┆             ┆             │\n",
      "│          ┆      ┆        ┆              ┆              ┆             ┆             ┆             │\n",
      "│          ┆      ┆        ┆              ┆              ┆             ┆             ┆             │\n",
      "│          ┆      ┆        ┆              ┆              ┆             ┆ …           ┆             │\n",
      "│          ┆      ┆        ┆              ┆              ┆             ┆             ┆             │\n",
      "│ …        ┆ …    ┆ …      ┆ …            ┆ …            ┆ …           ┆ …           ┆ …           │\n",
      "│ EVT      ┆ 硬件 ┆ A      ┆ IDN325项目EV ┆ null         ┆ 1. 对比同机 ┆ 临时对策：  ┆ Alder lake- │\n",
      "│          ┆      ┆        ┆ T阶段16G DDR ┆              ┆ 型的4G/8G配 ┆ 通过飞线在  ┆ N平台的DDR  │\n",
      "│          ┆      ┆        ┆ 配置在标准速 ┆              ┆ 置无此问题  ┆ 每个CTRL信  ┆ 走线（尤其  │\n",
      "│          ┆      ┆        ┆ 率320…       ┆              ┆ ，4G/8G DD… ┆ 号拓扑的末  ┆ 是DDP封装类 │\n",
      "│          ┆      ┆        ┆              ┆              ┆             ┆ 端增加上拉  ┆ …           │\n",
      "│          ┆      ┆        ┆              ┆              ┆             ┆ 电阻…       ┆             │\n",
      "│ PVT      ┆ 软件 ┆ A      ┆ 低温运行后机 ┆ N/A          ┆ 目前充电逻  ┆ EC增加90%以 ┆ EC需增加电  │\n",
      "│          ┆      ┆        ┆ 器出现关机现 ┆              ┆ 辑为机器电  ┆ 上电量时系  ┆ 量check机制 │\n",
      "│          ┆      ┆        ┆ 象，连接适配 ┆              ┆ 量在大于90% ┆ 统电量与电  ┆ ，避免系统  │\n",
      "│          ┆      ┆        ┆ 器开机提示低 ┆              ┆ 的时候系统  ┆ 池电量check ┆ 电量与电池  │\n",
      "│          ┆      ┆        ┆ 电           ┆              ┆ 电量按照3~4 ┆ 机制，每…   ┆ 电量不一致  │\n",
      "│          ┆      ┆        ┆              ┆              ┆ 分…         ┆             ┆ 产…         │\n",
      "│ MP       ┆ 软件 ┆ A      ┆ ZL513项目首  ┆ N/A          ┆ 相机打不开  ┆ 更新OS，加  ┆ 针对服务型  │\n",
      "│          ┆      ┆        ┆ 单全检400pcs ┆              ┆ 分析与OS相  ┆ 入自动校验  ┆ 的工具，在O │\n",
      "│          ┆      ┆        ┆ 有3pcs       ┆              ┆ 关，是应用  ┆ 动作，如果  ┆ S DL过程中  │\n",
      "│          ┆      ┆        ┆ Fn+F10无…    ┆              ┆ 在安装的过  ┆ 服务没建立  ┆ 加入自动校  │\n",
      "│          ┆      ┆        ┆              ┆              ┆ 程中，建立  ┆ 就自动修复  ┆ 验动作      │\n",
      "│          ┆      ┆        ┆              ┆              ┆ 服务失败…   ┆ ，实在无…   ┆             │\n",
      "│ EVT      ┆ 结构 ┆ B      ┆ 左高音喇叭线 ┆ null         ┆ 设计时按照  ┆ 喇叭出线位  ┆ 结构堆叠时  │\n",
      "│          ┆      ┆        ┆ 出线口与主板 ┆              ┆ 喇叭线径预  ┆ 置进行修改  ┆ 喇叭出线口  │\n",
      "│          ┆      ┆        ┆ 边干涉,锁喇  ┆              ┆ 留板边间隙  ┆ ，避开小板  ┆ 位置距离板  │\n",
      "│          ┆      ┆        ┆ 叭固定螺丝后 ┆              ┆ ，实际喇叭  ┆ 边缘        ┆ 边或其他器  │\n",
      "│          ┆      ┆        ┆ 有压线风险   ┆              ┆ 出线位置有  ┆             ┆ 件至少2mm   │\n",
      "│          ┆      ┆        ┆              ┆              ┆ 点胶保护，… ┆             ┆             │\n",
      "│ EVT      ┆ 软件 ┆ A      ┆ 高温运行过程 ┆ N/A          ┆ 电池在超过4 ┆ 经确认电池  ┆ EC设定电池  │\n",
      "│          ┆      ┆        ┆ 中电池不充电 ┆              ┆ 5℃时（电池  ┆ 规格为60℃温 ┆ 保护温度时  │\n",
      "│          ┆      ┆        ┆              ┆              ┆ 反馈给EC的  ┆ 度保护，与E ┆ 需要确认与  │\n",
      "│          ┆      ┆        ┆              ┆              ┆ 温度）有电  ┆ C确认更改EC ┆ 电池规格书  │\n",
      "│          ┆      ┆        ┆              ┆              ┆ 池保护，不  ┆ 设置与电池… ┆ 一致        │\n",
      "│          ┆      ┆        ┆              ┆              ┆ 充电        ┆             ┆             │\n",
      "└──────────┴──────┴────────┴──────────────┴──────────────┴─────────────┴─────────────┴─────────────┘\n"
     ]
    }
   ],
   "source": [
    "# 查詢資料並轉成 Polars DataFrame\n",
    "con = duckdb.connect(_csvdb)\n",
    "pl_df = con.execute(\"SELECT * FROM my_table\").pl()\n",
    "print(pl_df)\n",
    "con.close()"
   ]
  },
  {
   "cell_type": "code",
   "execution_count": null,
   "id": "a9d26ff7-3a6a-48c5-8786-0cca313a505b",
   "metadata": {},
   "outputs": [],
   "source": []
  }
 ],
 "metadata": {
  "kernelspec": {
   "display_name": "Python 3 (ipykernel)",
   "language": "python",
   "name": "python3"
  },
  "language_info": {
   "codemirror_mode": {
    "name": "ipython",
    "version": 3
   },
   "file_extension": ".py",
   "mimetype": "text/x-python",
   "name": "python",
   "nbconvert_exporter": "python",
   "pygments_lexer": "ipython3",
   "version": "3.11.13"
  }
 },
 "nbformat": 4,
 "nbformat_minor": 5
}
