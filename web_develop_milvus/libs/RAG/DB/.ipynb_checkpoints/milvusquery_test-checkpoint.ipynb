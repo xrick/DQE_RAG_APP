{
 "cells": [
  {
   "cell_type": "code",
   "execution_count": 1,
   "id": "f05bf3f1-c196-4e24-98ec-fbc50ad770ed",
   "metadata": {},
   "outputs": [
    {
     "name": "stderr",
     "output_type": "stream",
     "text": [
      "Python-dotenv could not parse statement starting at line 12\n"
     ]
    }
   ],
   "source": [
    "import os, sys\n",
    "from DB.MilvusQuery import MilvusQuery\n",
    "sys.path.append(os.path.abspath('../'))"
   ]
  },
  {
   "cell_type": "code",
   "execution_count": 17,
   "id": "43fc686e-272f-40dd-90d4-16936dea3cec",
   "metadata": {},
   "outputs": [],
   "source": [
    "import polars as pl\n",
    "from typing import List, Dict, Any"
   ]
  },
  {
   "cell_type": "code",
   "execution_count": 2,
   "id": "a61ca1fe-699d-488c-a832-c3538770f904",
   "metadata": {},
   "outputs": [],
   "source": [
    "_dbName=\"dqe_kb_db\"\n",
    "_collectionName='qualityQA'\n",
    "_collectionDesc=\"quailty_qa_collection\"\n",
    "_csv_src = \"../../../source_data/DQE_Issues/DQE_Issue_total_corrected_v1.csv\"\n",
    "jina_embeddings=\"/home/mapleleaf/LCJRepos/Embedding_Models/jina-embeddings-v2-base-zh/\"\n",
    "alias = \"default\""
   ]
  },
  {
   "cell_type": "code",
   "execution_count": 3,
   "id": "2ef80468-c403-4946-8b46-185125f76810",
   "metadata": {},
   "outputs": [],
   "source": [
    "embedding_model_path=\"../../../../../Embedding_Models/jina-embeddings-v2-base-zh/\""
   ]
  },
  {
   "cell_type": "code",
   "execution_count": 4,
   "id": "09a6fac8-5d5f-40c9-8a8f-ac6ad518aef8",
   "metadata": {},
   "outputs": [
    {
     "name": "stderr",
     "output_type": "stream",
     "text": [
      "2025-04-24 14:36:28,293 - datasets - INFO - PyTorch version 2.6.0 available.\n",
      "2025-04-24 14:36:28,294 - datasets - INFO - Polars version 1.26.0 available.\n",
      "2025-04-24 14:36:28,430 - sentence_transformers.SentenceTransformer - INFO - Load pretrained SentenceTransformer: ../../../../../Embedding_Models/jina-embeddings-v2-base-zh/\n"
     ]
    }
   ],
   "source": [
    "milvus_query = MilvusQuery(database=_dbName,embedding_model_path=embedding_model_path)"
   ]
  },
  {
   "cell_type": "code",
   "execution_count": 5,
   "id": "1a0033e8-59ea-459c-b9bf-ea015b39217f",
   "metadata": {},
   "outputs": [],
   "source": [
    "milvus_query.load_collection(collection_name=_collectionName)"
   ]
  },
  {
   "cell_type": "code",
   "execution_count": 6,
   "id": "6eb52952-c281-44f2-a938-d8ecbee30b51",
   "metadata": {},
   "outputs": [],
   "source": [
    "qry_str = \"比亚迪\"\n",
    "_limit = 10\n",
    "_outfields = [\"problemtype\", \"module\", \"severity\", \"causeAnalysis\", \"description\", \"improve\", \"experience\"]"
   ]
  },
  {
   "cell_type": "code",
   "execution_count": 7,
   "id": "8b8b903d-e368-4341-a7b5-19f10fe1bb95",
   "metadata": {},
   "outputs": [],
   "source": [
    "ret = milvus_query.query(query=qry_str, collection_name=_collectionName, output_fields=_outfields, limit=_limit)"
   ]
  },
  {
   "cell_type": "code",
   "execution_count": 46,
   "id": "5ba9cafd-f21d-48a0-8730-7bc7b5103631",
   "metadata": {},
   "outputs": [
    {
     "name": "stdout",
     "output_type": "stream",
     "text": [
      "data: [\"[{'pk': 457495473303347427, 'distance': 0.3518415093421936, 'entity': {'experience': '硬件优化设计规范：优化后元器件距离边缘和螺丝柱1.5mm以上；', 'problemtype': '量产', 'severity': 'A', 'module': '工艺', 'causeAnalysis': '0', 'description': '2023年7月26日，硬件去比亚迪现场分析主板功能不良，确认发现主板的元器件撞件问题居多，比例约占20%\\\\n\\\\n影响：生产的直通率低，增加维修成本，同时有隐性的售后风险', 'improve': '设计端做原因分析：目前的设计是元器件距离板边和螺丝柱的距离是1mm或1.5mm，更容易导致撞件风险'}}, {'pk': 457495473303347344, 'distance': 0.3236856460571289, 'entity': {'experience': 'ID设计时C壳开口直径设计比耳机座子的直径大约4.4mm~4.5mm数值', 'problemtype': 'MP', 'severity': 'B', 'module': '结构', 'causeAnalysis': '耳机和耳机孔的同心度有一定的偏差,插拔过程中耳机金属端会磨损到耳机孔的侧边\\\\n', 'description': '在比亚迪生产过程中，发现耳机孔位置有5%的掉漆', 'improve': '耳机孔扩大，由原来的耳机3.9mm 扩大孔径为4.4mm\\\\n'}}, {'pk': 457495473303347428, 'distance': 0.30802667140960693, 'entity': {'experience': '临时对策：喇叭理线方式优化，改善前：喇叭理线走电池下方，改善后：喇叭理线走电池螺丝柱上方', 'problemtype': 'DVT', 'severity': 'A', 'module': '结构', 'causeAnalysis': '0', 'description': '2023年8月16日，Y3 MAX比亚迪是试产反馈到，喇叭功能不良2%，\\\\n分析发现喇叭线在电池螺丝柱位置压线了\\\\n影响：试产直通率低，喇叭功能不良，存在喇叭存在隐形不良隐患\\\\n', 'improve': '设计端原因分析：喇叭线没有卡线槽，喇叭线通过主板麦拉进行固定，螺丝柱的位置没有麦拉固定位置，导致理线后有一定概率压到喇叭线的风险'}}, {'pk': 457495473303347413, 'distance': 0.3058741092681885, 'entity': {'experience': '耳机孔扩大，由原来的耳机3.9mm 扩大孔径为4.4mm\\\\n', 'problemtype': 'MP', 'severity': 'B', 'module': '结构', 'causeAnalysis': '0', 'description': '2022年6月2日，X2项目在比亚迪量产过程中，比亚迪制程有反馈：发现同一位置耳机孔边缘有掉漆现象，问题比例：5%；\\\\n影响：同问题比例5%触发比亚迪停线规则，直接导致比亚迪停线了3天，影响量产进度和交期的延误；', 'improve': '耳机和耳机孔的同心度有一定的偏差，插拔过程中耳机金属端会磨损到耳机孔的侧边\\\\n'}}, {'pk': 457495473303347412, 'distance': 0.3026651442050934, 'entity': {'experience': '结构进行D壳进胶口修模更改进胶口位置，避开触摸板区域\\\\n', 'problemtype': 'EVT', 'severity': 'A', 'module': '结构', 'causeAnalysis': '0', 'description': '2021年10月在比亚迪进行X2 EVT试产，发现有100%触摸板的弹性弱问题\\\\n\\\\n影响：造成EVT试产的C壳进行进胶口返工；影响试产效率和进度；', 'improve': 'D壳内衬触控板区域有两个进胶点顶到C壳，导致按键的行程缩短，产生手感不良'}}, {'pk': 457495473303347425, 'distance': 0.29393789172172546, 'entity': {'experience': '1.重新培训员工操作技巧和手法，跟进作业效果，要求员工严格按照SOP要求进行自检。\\\\n2.长期对策：壳料来料导入防护美纹胶纸；', 'problemtype': '首次量产', 'severity': 'A', 'module': '工艺', 'causeAnalysis': '0', 'description': '2022年12月12日，Y1 PLUS项目在比亚迪首次量产，按照客户要求首单2K全检，发现C壳的I/O接口位置区域划伤，不良不良10%左右\\\\n\\\\n影响：外观划伤不良需要进行返工，影响量产进度和交付周期', 'improve': '1.现场确认为USB口边缘划伤，根据此现象确认为USB口插拔过程中刮蹭造成；\\\\n2.根据不良制成排查在DL1、FCT、DL2工位均需要插拔USB，模拟不良使用USB插拔如斜插斜拔会刮蹭到C壳USB口而导致掉漆，正常垂直插拔不易刮蹭到USB口，因此确认为员工作业手法错误导致；'}}, {'pk': 457495473303347430, 'distance': 0.177105113863945, 'entity': {'experience': '临时对策：\\\\n1.手动关掉BIIO的，重新进行跑老化测试，老化结果OK\\\\n\\\\n长期改善对策： \\\\n在bios制作时设定在跑老化自动关掉PXE，跑完老化再重新打开\\\\n', 'problemtype': 'DVT', 'severity': 'A', 'module': '测试', 'causeAnalysis': '0', 'description': '2023年11月29日，Y3 NEO项目在皓勤\\\\n 试产，老化测试中存在10%的比例S3/S4 卡在log问题\\\\n影响：导致老化测试需要重新进行跑', 'improve': '皓勤生产线用的RJ45转接头品牌存在多样性兼容性问题，导致在bios在PXE打开的情况下会出现卡logo现象\\\\n不同品牌的转接头的厂商的设备与驱动不匹配'}}, {'pk': 457495473303347365, 'distance': 0.1746951788663864, 'entity': {'experience': '1、皮套整体需要尽量做薄\\\\n2、天线区域部分，皮套需要做筋骨支撑，做适当避空的方案；\\\\n3、皮套评审需要 结构设计RF/ID一起参与评审；\\\\nID方案确认后，启动手板打样，样品RF测试，输出测试结果', 'problemtype': 'PVT', 'severity': 'A', 'module': '结构', 'causeAnalysis': '皮套的材质与其厚度对天线性能会有不同程度的影响；（一般手机 套厚度1.0mm， 平板厚度较厚1.8mm）\\\\n皮套未及时提供给RF验证，致皮套改善方案未及时整改导入；\\\\n', 'description': '实测带皮套数据,对比不带皮套的OTA数据,GAP最大偏差有4dbm左右', 'improve': '1、对GSM900传导做功率提升，即目标功率32.5dbm，提升至33dbm；\\\\n\\\\n2、对皮套内侧面做局部CNC减薄处理，即由1.8mm厚，局部CNC减薄至1.1~1.2mm厚'}}, {'pk': 457495473303347376, 'distance': 0.15806932747364044, 'entity': {'experience': 'EC设计时，在电量计初始化过程中增加侦测电池设计容量的功能，以保证产测工具测试容量正常', 'problemtype': 'MP', 'severity': 'A', 'module': '软件', 'causeAnalysis': '该现象是在拔插电池后不接适配器开机时概率出现，是由于电池初始化时概率性读不到电池设计容量，', 'description': '产测工具测试电池容量异常,设计容量67.56Wh,测试时容量不足,不良率3%', 'improve': '优化EC，新EC中在电量计初始化过程中增加了确认电池设计容量的功能，可确保开机时已读到正确的设计容量。'}}, {'pk': 457495473303347415, 'distance': 0.14849412441253662, 'entity': {'experience': '改善：\\\\n1、压敏471，由现在的470V改为561（耐压560V）;\\\\n2、两个电解：C1由原来的56UF/450V改为39UF/550V；C2由原来的33UF/450V改为27UF/550V;\\\\n3、X电容：由现在的275（275V）改为440V\\\\n4、MOS管:由原来的750V改为800V;\\\\n\\\\n', 'problemtype': '售后', 'severity': 'A', 'module': '物料', 'causeAnalysis': '0', 'description': '2021年8月1日收到X1项目印度地区首返分析的充电器，主要问题是不充电\\\\n适配器厂商为吉宏达\\\\n\\\\n影响：客户首个项目首单在印度地区销售，影响客户产品的口碑\\\\n', 'improve': '传音首个笔电X1项目首次出印度地区，适配器选型和设计没有考虑到印度市场电压不稳定，电源设计上没有加耐高压元器件，高峰电压超过380V，导致充电器被烧坏，电容耐压不足，元器件损坏'}}]\"]\n"
     ]
    }
   ],
   "source": [
    "print(ret)"
   ]
  },
  {
   "cell_type": "code",
   "execution_count": 12,
   "id": "7ecfd4cc-a0e1-4b40-9377-60e542ab517c",
   "metadata": {},
   "outputs": [],
   "source": [
    "entity_list = [item_dict['entity'] for item_dict in ret[0] if 'entity' in item_dict]"
   ]
  },
  {
   "cell_type": "code",
   "execution_count": 13,
   "id": "3ace3dc6-d119-4f9b-ac86-61118895f893",
   "metadata": {},
   "outputs": [
    {
     "name": "stdout",
     "output_type": "stream",
     "text": [
      "[{'experience': '硬件优化设计规范：优化后元器件距离边缘和螺丝柱1.5mm以上；', 'problemtype': '量产', 'severity': 'A', 'module': '工艺', 'causeAnalysis': '0', 'description': '2023年7月26日，硬件去比亚迪现场分析主板功能不良，确认发现主板的元器件撞件问题居多，比例约占20%\\n\\n影响：生产的直通率低，增加维修成本，同时有隐性的售后风险', 'improve': '设计端做原因分析：目前的设计是元器件距离板边和螺丝柱的距离是1mm或1.5mm，更容易导致撞件风险'}, {'experience': 'ID设计时C壳开口直径设计比耳机座子的直径大约4.4mm~4.5mm数值', 'problemtype': 'MP', 'severity': 'B', 'module': '结构', 'causeAnalysis': '耳机和耳机孔的同心度有一定的偏差,插拔过程中耳机金属端会磨损到耳机孔的侧边\\n', 'description': '在比亚迪生产过程中，发现耳机孔位置有5%的掉漆', 'improve': '耳机孔扩大，由原来的耳机3.9mm 扩大孔径为4.4mm\\n'}, {'experience': '临时对策：喇叭理线方式优化，改善前：喇叭理线走电池下方，改善后：喇叭理线走电池螺丝柱上方', 'problemtype': 'DVT', 'severity': 'A', 'module': '结构', 'causeAnalysis': '0', 'description': '2023年8月16日，Y3 MAX比亚迪是试产反馈到，喇叭功能不良2%，\\n分析发现喇叭线在电池螺丝柱位置压线了\\n影响：试产直通率低，喇叭功能不良，存在喇叭存在隐形不良隐患\\n', 'improve': '设计端原因分析：喇叭线没有卡线槽，喇叭线通过主板麦拉进行固定，螺丝柱的位置没有麦拉固定位置，导致理线后有一定概率压到喇叭线的风险'}, {'experience': '耳机孔扩大，由原来的耳机3.9mm 扩大孔径为4.4mm\\n', 'problemtype': 'MP', 'severity': 'B', 'module': '结构', 'causeAnalysis': '0', 'description': '2022年6月2日，X2项目在比亚迪量产过程中，比亚迪制程有反馈：发现同一位置耳机孔边缘有掉漆现象，问题比例：5%；\\n影响：同问题比例5%触发比亚迪停线规则，直接导致比亚迪停线了3天，影响量产进度和交期的延误；', 'improve': '耳机和耳机孔的同心度有一定的偏差，插拔过程中耳机金属端会磨损到耳机孔的侧边\\n'}, {'experience': '结构进行D壳进胶口修模更改进胶口位置，避开触摸板区域\\n', 'problemtype': 'EVT', 'severity': 'A', 'module': '结构', 'causeAnalysis': '0', 'description': '2021年10月在比亚迪进行X2 EVT试产，发现有100%触摸板的弹性弱问题\\n\\n影响：造成EVT试产的C壳进行进胶口返工；影响试产效率和进度；', 'improve': 'D壳内衬触控板区域有两个进胶点顶到C壳，导致按键的行程缩短，产生手感不良'}, {'experience': '1.重新培训员工操作技巧和手法，跟进作业效果，要求员工严格按照SOP要求进行自检。\\n2.长期对策：壳料来料导入防护美纹胶纸；', 'problemtype': '首次量产', 'severity': 'A', 'module': '工艺', 'causeAnalysis': '0', 'description': '2022年12月12日，Y1 PLUS项目在比亚迪首次量产，按照客户要求首单2K全检，发现C壳的I/O接口位置区域划伤，不良不良10%左右\\n\\n影响：外观划伤不良需要进行返工，影响量产进度和交付周期', 'improve': '1.现场确认为USB口边缘划伤，根据此现象确认为USB口插拔过程中刮蹭造成；\\n2.根据不良制成排查在DL1、FCT、DL2工位均需要插拔USB，模拟不良使用USB插拔如斜插斜拔会刮蹭到C壳USB口而导致掉漆，正常垂直插拔不易刮蹭到USB口，因此确认为员工作业手法错误导致；'}, {'experience': '临时对策：\\n1.手动关掉BIIO的，重新进行跑老化测试，老化结果OK\\n\\n长期改善对策： \\n在bios制作时设定在跑老化自动关掉PXE，跑完老化再重新打开\\n', 'problemtype': 'DVT', 'severity': 'A', 'module': '测试', 'causeAnalysis': '0', 'description': '2023年11月29日，Y3 NEO项目在皓勤\\n 试产，老化测试中存在10%的比例S3/S4 卡在log问题\\n影响：导致老化测试需要重新进行跑', 'improve': '皓勤生产线用的RJ45转接头品牌存在多样性兼容性问题，导致在bios在PXE打开的情况下会出现卡logo现象\\n不同品牌的转接头的厂商的设备与驱动不匹配'}, {'experience': '1、皮套整体需要尽量做薄\\n2、天线区域部分，皮套需要做筋骨支撑，做适当避空的方案；\\n3、皮套评审需要 结构设计RF/ID一起参与评审；\\nID方案确认后，启动手板打样，样品RF测试，输出测试结果', 'problemtype': 'PVT', 'severity': 'A', 'module': '结构', 'causeAnalysis': '皮套的材质与其厚度对天线性能会有不同程度的影响；（一般手机 套厚度1.0mm， 平板厚度较厚1.8mm）\\n皮套未及时提供给RF验证，致皮套改善方案未及时整改导入；\\n', 'description': '实测带皮套数据,对比不带皮套的OTA数据,GAP最大偏差有4dbm左右', 'improve': '1、对GSM900传导做功率提升，即目标功率32.5dbm，提升至33dbm；\\n\\n2、对皮套内侧面做局部CNC减薄处理，即由1.8mm厚，局部CNC减薄至1.1~1.2mm厚'}, {'experience': 'EC设计时，在电量计初始化过程中增加侦测电池设计容量的功能，以保证产测工具测试容量正常', 'problemtype': 'MP', 'severity': 'A', 'module': '软件', 'causeAnalysis': '该现象是在拔插电池后不接适配器开机时概率出现，是由于电池初始化时概率性读不到电池设计容量，', 'description': '产测工具测试电池容量异常,设计容量67.56Wh,测试时容量不足,不良率3%', 'improve': '优化EC，新EC中在电量计初始化过程中增加了确认电池设计容量的功能，可确保开机时已读到正确的设计容量。'}, {'experience': '改善：\\n1、压敏471，由现在的470V改为561（耐压560V）;\\n2、两个电解：C1由原来的56UF/450V改为39UF/550V；C2由原来的33UF/450V改为27UF/550V;\\n3、X电容：由现在的275（275V）改为440V\\n4、MOS管:由原来的750V改为800V;\\n\\n', 'problemtype': '售后', 'severity': 'A', 'module': '物料', 'causeAnalysis': '0', 'description': '2021年8月1日收到X1项目印度地区首返分析的充电器，主要问题是不充电\\n适配器厂商为吉宏达\\n\\n影响：客户首个项目首单在印度地区销售，影响客户产品的口碑\\n', 'improve': '传音首个笔电X1项目首次出印度地区，适配器选型和设计没有考虑到印度市场电压不稳定，电源设计上没有加耐高压元器件，高峰电压超过380V，导致充电器被烧坏，电容耐压不足，元器件损坏'}]\n"
     ]
    }
   ],
   "source": [
    "print(entity_list)"
   ]
  },
  {
   "cell_type": "code",
   "execution_count": 18,
   "id": "11bb22a2-51ca-4e51-bd09-77e3a12ced63",
   "metadata": {},
   "outputs": [],
   "source": [
    "def convert_entities_to_polars_df(entity_list: List[Dict[str, Any]]) -> pl.DataFrame:\n",
    "    \"\"\"\n",
    "    將包含實體字典的列表轉換為 Polars DataFrame。\n",
    "\n",
    "    這個函數接收一個列表，其中每個元素都是一個字典，\n",
    "    代表一個實體的屬性。它使用 Polars 函式庫將此列表\n",
    "    轉換為一個結構化的 DataFrame。\n",
    "\n",
    "    Args:\n",
    "        entity_list: 一個列表，其中每個元素都是一個字典。\n",
    "                     預期每個字典包含以下鍵 (或其他鍵，Polars 會自動處理):\n",
    "                     \"problemtype\", \"severity\", \"module\", \"causeAnalysis\",\n",
    "                     \"description\", \"improve\", \"experience\"。\n",
    "\n",
    "    Returns:\n",
    "        一個 Polars DataFrame，其中:\n",
    "        - 每行對應 entity_list 中的一個字典。\n",
    "        - 列名對應字典的鍵。\n",
    "        - Polars 會自動推斷數據類型。\n",
    "\n",
    "    Raises:\n",
    "        ImportError: 如果 polars 函式庫未安裝。\n",
    "        TypeError: 如果輸入的 entity_list 不是列表或列表內元素不是字典\n",
    "                   (雖然 Polars 可能會拋出自己的錯誤)。\n",
    "    \"\"\"\n",
    "    # 步驟 4 (核心邏輯): 使用 pl.DataFrame() 建構函數直接轉換\n",
    "    # Polars 的 DataFrame 建構函數可以直接處理字典列表\n",
    "    try:\n",
    "        df = pl.DataFrame(entity_list)\n",
    "        return df\n",
    "    except Exception as e:\n",
    "        # 可以添加更具體的錯誤處理，但基本轉換失敗會在這裡捕獲\n",
    "        print(f\"轉換為 Polars DataFrame 時發生錯誤: {e}\")\n",
    "        # 根據需求決定是返回 None，空 DataFrame 還是重新拋出錯誤\n",
    "        # 這裡選擇重新拋出，讓調用者知道發生了問題\n",
    "        raise"
   ]
  },
  {
   "cell_type": "code",
   "execution_count": 35,
   "id": "ced8dec6-d05f-40a7-b92a-f713f553de64",
   "metadata": {},
   "outputs": [],
   "source": [
    "# 步驟 4: 定義提取值的鍵順序\n",
    "keys_order = [\n",
    "    \"problemtype\",\n",
    "    \"module\",\n",
    "    \"severity\",\n",
    "    \"description\",\n",
    "    \"causeAnalysis\",\n",
    "    \"improve\",\n",
    "    \"experience\"\n",
    "]\n"
   ]
  },
  {
   "cell_type": "code",
   "execution_count": 47,
   "id": "7a8e1bad-e3d3-440f-bfc2-e3f9598bb149",
   "metadata": {},
   "outputs": [],
   "source": [
    "def extract_entity_values_to_list(raw_entity_list: List[Dict[str, Any]], keys_order:List[str],threshold:float)-> List[List[Any]]:\n",
    "    \"\"\"\n",
    "    將包含 'entity' 字典的原始列表轉換為值的列表的列表，\n",
    "    並根據 'distance' 值進行過濾。\n",
    "\n",
    "    遍歷輸入列表中的每個字典，檢查其 'distance' 值。如果 'distance'\n",
    "    小於或等於給定的 threshold，則提取其 'entity' 鍵對應的嵌套字典中的值，\n",
    "    並按照預定義的順序將這些值組成一個內部列表。最終返回包含所有\n",
    "    滿足條件的內部列表的外部列表。\n",
    "\n",
    "    Args:\n",
    "        raw_entity_list: 一個列表，其中每個元素都是一個字典。\n",
    "                         預期每個字典包含 'distance' (數值類型) 和 'entity' 鍵。\n",
    "                         'entity' 的值應為另一個包含以下鍵的字典：\n",
    "                         \"problemtype\", \"severity\", \"module\", \"causeAnalysis\",\n",
    "                         \"description\", \"improve\", \"experience\"。\n",
    "        threshold:       一個浮點數。只有當 item_dict['distance'] <= threshold 時，\n",
    "                         對應的 'entity' 數據才會被處理和包含在結果中。\n",
    "\n",
    "    Returns:\n",
    "        一個列表的列表。每個內部列表包含按以下順序排列的值：\n",
    "        [\"problemtype\", \"severity\", \"module\", \"causeAnalysis\",\n",
    "         \"description\", \"improve\", \"experience\"]。\n",
    "        僅包含那些原始 'distance' 值小於或等於 threshold 的項目。\n",
    "        如果 'entity' 字典中缺少某個鍵，則該位置的值為 None。\n",
    "        如果輸入列表的某個元素缺少 'entity' 或 'distance' 鍵，\n",
    "        或者它們的類型不正確，則該元素將被跳過。\n",
    "\n",
    "    Raises:\n",
    "        TypeError: 如果輸入的 raw_entity_list 不是列表。\n",
    "                   (由 Python 迭代機制隱式處理)\n",
    "    \"\"\"\n",
    "    # 保持鍵的順序定義\n",
    "    # keys_order = [\n",
    "    #     \"problemtype\",\n",
    "    #     \"severity\",\n",
    "    #     \"module\",\n",
    "    #     \"causeAnalysis\",\n",
    "    #     \"description\",\n",
    "    #     \"improve\",\n",
    "    #     \"experience\"\n",
    "    # ]\n",
    "\n",
    "    # 初始化結果列表\n",
    "    result_list = []\n",
    "\n",
    "    # 遍歷輸入列表\n",
    "    for item_dict in raw_entity_list:\n",
    "        # 步驟 5 & 7: 獲取 entity 和 distance，並進行健壯性檢查和條件判斷\n",
    "        entity = item_dict.get('entity')\n",
    "        distance = item_dict.get('distance')\n",
    "\n",
    "        # 檢查 entity 是否是字典，distance 是否是數值，以及 distance 是否 <= threshold\n",
    "        if isinstance(entity, dict) and isinstance(distance, (int, float)) and distance <= threshold:\n",
    "            print(f\"distance:{distance},  threshold:{threshold}\")\n",
    "            # 如果所有條件都滿足，則提取 entity 中的值\n",
    "            # 使用 .get(key, None) 處理可能缺失的鍵\n",
    "            inner_list = [entity.get(key, None) for key in keys_order]\n",
    "\n",
    "            # 步驟 5: 將滿足條件的 inner_list 添加到結果列表\n",
    "            result_list.append(inner_list)\n",
    "        # else:\n",
    "            # 不滿足條件的項目將被自動跳過，無需在此處添加 append\n",
    "\n",
    "    # 返回過濾後的結果列表\n",
    "    return result_list"
   ]
  },
  {
   "cell_type": "code",
   "execution_count": 49,
   "id": "e3ed709c-5191-459f-9139-724a0dfc8883",
   "metadata": {},
   "outputs": [],
   "source": [
    "_ret_list = extract_entity_values_to_list(raw_entity_list=ret[0], keys_order=keys_order, threshold=0.01)"
   ]
  },
  {
   "cell_type": "code",
   "execution_count": 52,
   "id": "1dafcb09-f4cc-446b-be53-ca2bdd3cd4e8",
   "metadata": {},
   "outputs": [
    {
     "name": "stdout",
     "output_type": "stream",
     "text": [
      "_ret_list is none\n"
     ]
    }
   ],
   "source": [
    "if not _ret_list:\n",
    "    print(\"_ret_list is none\")\n",
    "else:\n",
    "    print(_ret_list)"
   ]
  },
  {
   "cell_type": "code",
   "execution_count": 19,
   "id": "4e23cfa9-178b-4956-90e1-921d84c64d59",
   "metadata": {},
   "outputs": [],
   "source": [
    "# _df = convert_entities_to_polars_df(entity_list=entity_list)"
   ]
  },
  {
   "cell_type": "code",
   "execution_count": 20,
   "id": "d2031649-ef6a-485a-a9a3-e64305eb642f",
   "metadata": {},
   "outputs": [
    {
     "name": "stdout",
     "output_type": "stream",
     "text": [
      "['experience', 'problemtype', 'severity', 'module', 'causeAnalysis', 'description', 'improve']\n"
     ]
    }
   ],
   "source": [
    "# print(_df.columns)"
   ]
  },
  {
   "cell_type": "code",
   "execution_count": 21,
   "id": "778218b4-6e04-408d-9f87-dd91d93cda16",
   "metadata": {},
   "outputs": [],
   "source": [
    "from pytablewriter import MarkdownTableWriter\n",
    "from pytablewriter.style import Style"
   ]
  },
  {
   "cell_type": "code",
   "execution_count": null,
   "id": "6a34da20-086d-4e39-afbf-93cfdb4df06d",
   "metadata": {},
   "outputs": [],
   "source": [
    "headers=[\"问题瞭型\",\"模块\", \"严重度(A/B/C)\", \"问题现象描述\", \"原因分析\", \"改善对策\", \"经验萃取\"]"
   ]
  },
  {
   "cell_type": "code",
   "execution_count": null,
   "id": "84ec3290-2420-4855-8810-315738b2abc5",
   "metadata": {},
   "outputs": [],
   "source": []
  }
 ],
 "metadata": {
  "kernelspec": {
   "display_name": "Python 3 (ipykernel)",
   "language": "python",
   "name": "python3"
  },
  "language_info": {
   "codemirror_mode": {
    "name": "ipython",
    "version": 3
   },
   "file_extension": ".py",
   "mimetype": "text/x-python",
   "name": "python",
   "nbconvert_exporter": "python",
   "pygments_lexer": "ipython3",
   "version": "3.11.11"
  }
 },
 "nbformat": 4,
 "nbformat_minor": 5
}
